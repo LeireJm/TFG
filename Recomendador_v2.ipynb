{
 "cells": [
  {
   "cell_type": "markdown",
   "metadata": {},
   "source": [
    "## Recomendador con filtrado colaborativo"
   ]
  },
  {
   "cell_type": "markdown",
   "metadata": {},
   "source": [
    "Recomendador sin usar el framework de Surprise"
   ]
  },
  {
   "cell_type": "markdown",
   "metadata": {},
   "source": [
    "### Carga de datos"
   ]
  },
  {
   "cell_type": "markdown",
   "metadata": {},
   "source": [
    "Es necesario importar las librerías para nuestro recomendador."
   ]
  },
  {
   "cell_type": "code",
   "execution_count": 92,
   "metadata": {},
   "outputs": [],
   "source": [
    "import numpy as np\n",
    "import pandas as pd\n",
    "from sklearn.preprocessing import StandardScaler\n",
    "from sklearn.metrics.pairwise import cosine_similarity"
   ]
  },
  {
   "cell_type": "markdown",
   "metadata": {},
   "source": [
    "Comenzamos cargando los datasets de las canciones junto a los ratings. El archivo original del dataset de las canciones incluía 1.2 millones de canciones por lo que se ha reducido el dataset a 50000 porque al no usar librerías específicas como Surprise no es eficiente y sobrepasa el uso de la memoria si utilizamos el dataset no reducido."
   ]
  },
  {
   "cell_type": "code",
   "execution_count": 93,
   "metadata": {},
   "outputs": [],
   "source": [
    "songs = pd.read_csv('spotify_data_mod_llaves.csv')\n",
    "#songs = pd.read_csv('spotify_data_mod_palo.csv')\n",
    "#songs = pd.read_csv('spotify_data_red.csv') Solo un género\n",
    "#songs = pd.read_csv('spotify_data.csv') Dataset original"
   ]
  },
  {
   "cell_type": "code",
   "execution_count": 94,
   "metadata": {},
   "outputs": [],
   "source": [
    "ratings = pd.read_csv('rating2.csv')"
   ]
  },
  {
   "cell_type": "markdown",
   "metadata": {},
   "source": [
    "### Explicación de los atributos de las canciones"
   ]
  },
  {
   "cell_type": "code",
   "execution_count": 95,
   "metadata": {},
   "outputs": [
    {
     "data": {
      "text/html": [
       "<div>\n",
       "<style scoped>\n",
       "    .dataframe tbody tr th:only-of-type {\n",
       "        vertical-align: middle;\n",
       "    }\n",
       "\n",
       "    .dataframe tbody tr th {\n",
       "        vertical-align: top;\n",
       "    }\n",
       "\n",
       "    .dataframe thead th {\n",
       "        text-align: right;\n",
       "    }\n",
       "</style>\n",
       "<table border=\"1\" class=\"dataframe\">\n",
       "  <thead>\n",
       "    <tr style=\"text-align: right;\">\n",
       "      <th></th>\n",
       "      <th>songId</th>\n",
       "      <th>artist_name</th>\n",
       "      <th>track_name</th>\n",
       "      <th>track_id</th>\n",
       "      <th>popularity</th>\n",
       "      <th>year</th>\n",
       "      <th>genre</th>\n",
       "      <th>danceability</th>\n",
       "      <th>energy</th>\n",
       "      <th>key</th>\n",
       "      <th>...</th>\n",
       "      <th>mode</th>\n",
       "      <th>speechiness</th>\n",
       "      <th>acousticness</th>\n",
       "      <th>instrumentalness</th>\n",
       "      <th>liveness</th>\n",
       "      <th>valence</th>\n",
       "      <th>tempo</th>\n",
       "      <th>duration_ms</th>\n",
       "      <th>time_signature</th>\n",
       "      <th>genres</th>\n",
       "    </tr>\n",
       "  </thead>\n",
       "  <tbody>\n",
       "    <tr>\n",
       "      <th>0</th>\n",
       "      <td>0</td>\n",
       "      <td>Jason Mraz</td>\n",
       "      <td>I Won't Give Up</td>\n",
       "      <td>53QF56cjZA9RTuuMZDrSA6</td>\n",
       "      <td>68</td>\n",
       "      <td>2012</td>\n",
       "      <td>acoustic</td>\n",
       "      <td>0.483</td>\n",
       "      <td>0.303</td>\n",
       "      <td>4</td>\n",
       "      <td>...</td>\n",
       "      <td>1</td>\n",
       "      <td>0.0429</td>\n",
       "      <td>0.6940</td>\n",
       "      <td>0.000000</td>\n",
       "      <td>0.1150</td>\n",
       "      <td>0.139</td>\n",
       "      <td>133.406</td>\n",
       "      <td>240166</td>\n",
       "      <td>3</td>\n",
       "      <td>{progressive-house,samba,sad,rock-n-roll,dubstep}</td>\n",
       "    </tr>\n",
       "    <tr>\n",
       "      <th>1</th>\n",
       "      <td>1</td>\n",
       "      <td>Jason Mraz</td>\n",
       "      <td>93 Million Miles</td>\n",
       "      <td>1s8tP3jP4GZcyHDsjvw218</td>\n",
       "      <td>50</td>\n",
       "      <td>2012</td>\n",
       "      <td>acoustic</td>\n",
       "      <td>0.572</td>\n",
       "      <td>0.454</td>\n",
       "      <td>3</td>\n",
       "      <td>...</td>\n",
       "      <td>1</td>\n",
       "      <td>0.0258</td>\n",
       "      <td>0.4770</td>\n",
       "      <td>0.000014</td>\n",
       "      <td>0.0974</td>\n",
       "      <td>0.515</td>\n",
       "      <td>140.182</td>\n",
       "      <td>216387</td>\n",
       "      <td>4</td>\n",
       "      <td>{rock}</td>\n",
       "    </tr>\n",
       "    <tr>\n",
       "      <th>2</th>\n",
       "      <td>2</td>\n",
       "      <td>Joshua Hyslop</td>\n",
       "      <td>Do Not Let Me Go</td>\n",
       "      <td>7BRCa8MPiyuvr2VU3O9W0F</td>\n",
       "      <td>57</td>\n",
       "      <td>2012</td>\n",
       "      <td>acoustic</td>\n",
       "      <td>0.409</td>\n",
       "      <td>0.234</td>\n",
       "      <td>3</td>\n",
       "      <td>...</td>\n",
       "      <td>1</td>\n",
       "      <td>0.0323</td>\n",
       "      <td>0.3380</td>\n",
       "      <td>0.000050</td>\n",
       "      <td>0.0895</td>\n",
       "      <td>0.145</td>\n",
       "      <td>139.832</td>\n",
       "      <td>158960</td>\n",
       "      <td>4</td>\n",
       "      <td>{rock-n-roll}</td>\n",
       "    </tr>\n",
       "    <tr>\n",
       "      <th>3</th>\n",
       "      <td>3</td>\n",
       "      <td>Boyce Avenue</td>\n",
       "      <td>Fast Car</td>\n",
       "      <td>63wsZUhUZLlh1OsyrZq7sz</td>\n",
       "      <td>58</td>\n",
       "      <td>2012</td>\n",
       "      <td>acoustic</td>\n",
       "      <td>0.392</td>\n",
       "      <td>0.251</td>\n",
       "      <td>10</td>\n",
       "      <td>...</td>\n",
       "      <td>1</td>\n",
       "      <td>0.0363</td>\n",
       "      <td>0.8070</td>\n",
       "      <td>0.000000</td>\n",
       "      <td>0.0797</td>\n",
       "      <td>0.508</td>\n",
       "      <td>204.961</td>\n",
       "      <td>304293</td>\n",
       "      <td>4</td>\n",
       "      <td>{german,classical}</td>\n",
       "    </tr>\n",
       "    <tr>\n",
       "      <th>4</th>\n",
       "      <td>4</td>\n",
       "      <td>Andrew Belle</td>\n",
       "      <td>Sky's Still Blue</td>\n",
       "      <td>6nXIYClvJAfi6ujLiKqEq8</td>\n",
       "      <td>54</td>\n",
       "      <td>2012</td>\n",
       "      <td>acoustic</td>\n",
       "      <td>0.430</td>\n",
       "      <td>0.791</td>\n",
       "      <td>6</td>\n",
       "      <td>...</td>\n",
       "      <td>0</td>\n",
       "      <td>0.0302</td>\n",
       "      <td>0.0726</td>\n",
       "      <td>0.019300</td>\n",
       "      <td>0.1100</td>\n",
       "      <td>0.217</td>\n",
       "      <td>171.864</td>\n",
       "      <td>244320</td>\n",
       "      <td>4</td>\n",
       "      <td>{ambient,sad}</td>\n",
       "    </tr>\n",
       "  </tbody>\n",
       "</table>\n",
       "<p>5 rows × 21 columns</p>\n",
       "</div>"
      ],
      "text/plain": [
       "   songId    artist_name        track_name                track_id  \\\n",
       "0       0     Jason Mraz   I Won't Give Up  53QF56cjZA9RTuuMZDrSA6   \n",
       "1       1     Jason Mraz  93 Million Miles  1s8tP3jP4GZcyHDsjvw218   \n",
       "2       2  Joshua Hyslop  Do Not Let Me Go  7BRCa8MPiyuvr2VU3O9W0F   \n",
       "3       3   Boyce Avenue          Fast Car  63wsZUhUZLlh1OsyrZq7sz   \n",
       "4       4   Andrew Belle  Sky's Still Blue  6nXIYClvJAfi6ujLiKqEq8   \n",
       "\n",
       "   popularity  year     genre  danceability  energy  key  ...  mode  \\\n",
       "0          68  2012  acoustic         0.483   0.303    4  ...     1   \n",
       "1          50  2012  acoustic         0.572   0.454    3  ...     1   \n",
       "2          57  2012  acoustic         0.409   0.234    3  ...     1   \n",
       "3          58  2012  acoustic         0.392   0.251   10  ...     1   \n",
       "4          54  2012  acoustic         0.430   0.791    6  ...     0   \n",
       "\n",
       "   speechiness  acousticness  instrumentalness  liveness  valence    tempo  \\\n",
       "0       0.0429        0.6940          0.000000    0.1150    0.139  133.406   \n",
       "1       0.0258        0.4770          0.000014    0.0974    0.515  140.182   \n",
       "2       0.0323        0.3380          0.000050    0.0895    0.145  139.832   \n",
       "3       0.0363        0.8070          0.000000    0.0797    0.508  204.961   \n",
       "4       0.0302        0.0726          0.019300    0.1100    0.217  171.864   \n",
       "\n",
       "   duration_ms  time_signature  \\\n",
       "0       240166               3   \n",
       "1       216387               4   \n",
       "2       158960               4   \n",
       "3       304293               4   \n",
       "4       244320               4   \n",
       "\n",
       "                                              genres  \n",
       "0  {progressive-house,samba,sad,rock-n-roll,dubstep}  \n",
       "1                                             {rock}  \n",
       "2                                      {rock-n-roll}  \n",
       "3                                 {german,classical}  \n",
       "4                                      {ambient,sad}  \n",
       "\n",
       "[5 rows x 21 columns]"
      ]
     },
     "execution_count": 95,
     "metadata": {},
     "output_type": "execute_result"
    }
   ],
   "source": [
    "# cargamos las primeras filas para ver las columnas del dataset\n",
    "songs.head()"
   ]
  },
  {
   "cell_type": "markdown",
   "metadata": {},
   "source": [
    "Definición de los atributos\n",
    "+ ***artist_name***: nombre del artista\n",
    "- ***track_name***: nombre de la canción\n",
    "+ ***track_id***: id único de la canción es Spotify\n",
    "- ***popularity***: cuanto más alto es el valor, más popular es la canción (0-100)\n",
    "+ ***year***: año de lanzamiento de la canción\n",
    "- ***genre***: género de la canción\n",
    "+ ***danceability***: describe lo adecuada que es una pista para bailar basándose en una combinación de elementos musicales como el tempo, la estabilidad del ritmo, la fuerza del compás y la regularidad general. Un valor de 0.0 es el menos bailable y 1.0 el más bailable (0.0-1.0)\n",
    "- ***energy***: medida que representa una medida perceptiva de intensidad y actividad (0.0-1.0)\n",
    "+ ***key***: tonalidad de la pista y los números enteros se asignan a tonos utilizando la notación estándar Pitch Class. Por ejemplo, 0 = C, 1 = C♯/D♭, 2 = D, y así sucesivamente. Si no se detectó ninguna clave, el valor es -1 (-1-10)\n",
    "- ***loudness***: en decibelios (dB). Los valores de sonoridad se promedian en toda la pista y son útiles para comparar la sonoridad relativa de las pistas. La sonoridad es la cualidad de un sonido que es el principal correlato psicológico de la fuerza física (amplitud). Los valores suelen oscilar entre -60 y 0 db (-60-0dB)\n",
    "+ ***mode***: indica la modalidad (mayor o menor) de una pista, el tipo de escala del que se deriva su contenido melódico. Mayor se representa con 1 y menor con 0\n",
    "- ***speechiness***: detecta la presencia de palabras habladas en una pista. Cuanto más exclusivamente hablada sea la grabación (por ejemplo, programa de entrevistas, audiolibro, poesía), más se acercará a 1.0 el valor del atributo. Los valores superiores a 0,66 describen pistas que probablemente estén compuestas en su totalidad por palabras habladas. Los valores entre 0.33 y 0.66 describen pistas que pueden contener tanto música como voz, ya sea en secciones o en capas, incluyendo casos como la música rap. Los valores inferiores a 0.33 representan probablemente música y otras pistas no habladas\n",
    "+ ***acousticness***: medida de confianza de 0.0 a 1.0 de si la pista es acústica. 1,0 representa una confianza alta en que la pista es acústica (0.0-1.0)\n",
    "- ***instrumentalness***: predice si una pista no contiene voces. Los sonidos \"ooh\" y \"aah\" se consideran instrumentales en este contexto. Las pistas de rap o spoken word son claramente \"vocales\". Cuanto más se acerque el valor de instrumental a 1.0, mayor será la probabilidad de que la pista no contenga voces. Los valores superiores a 0.5 representan pistas instrumentales, pero la confianza es mayor a medida que el valor se acerca a 1.0 (0.0-1.0)\n",
    "+ ***liveness***: detecta la presencia de público en la grabación. Los valores de liveness más altos representan una mayor probabilidad de que la pista se haya interpretado en directo. Un valor superior a 0.8 indica una gran probabilidad de que la pista se haya grabado en directo (0.0-1.0)\n",
    "- ***valence***: medida de 0.0 a 1.0 que describe la positividad musical que transmite una pista. Las pistas con valencia alta suenan más positivas (por ejemplo, felices, alegres, eufóricas), mientras que las pistas con valencia baja suenan más negativas (por ejemplo, tristes, deprimidas, enfadadas) (0.0-1.0)\n",
    "+ ***tempo***: en pulsaciones por minuto (BPM). En terminología musical, el tempo es la velocidad o el ritmo de una pieza determinada y se deriva directamente de la duración media del compás\n",
    "- ***duration_ms***: duración de la pista en milisegundos\n",
    "+ ***time_signature***: convención notacional para especificar cuántos tiempos hay en cada compás (3-7)\n",
    "\n"
   ]
  },
  {
   "cell_type": "markdown",
   "metadata": {},
   "source": [
    "### Matriz de Correlación entre géneros (antigua)"
   ]
  },
  {
   "cell_type": "markdown",
   "metadata": {},
   "source": [
    "Vamos a contar los diferentes géneros que hay para empezar a crear la matriz de correlación entre los distintos géneros."
   ]
  },
  {
   "cell_type": "code",
   "execution_count": 96,
   "metadata": {},
   "outputs": [],
   "source": [
    "#from collections import Counter\n",
    "#genre_frequency = Counter(songs['genre'])\n",
    "#print(f\"Hay {len(genre_frequency)} géneros.\")\n",
    "#genre_frequency"
   ]
  },
  {
   "cell_type": "markdown",
   "metadata": {},
   "source": [
    "Lo escribimos en archivo para una mejor visualización, aunque no es necesario."
   ]
  },
  {
   "cell_type": "code",
   "execution_count": 97,
   "metadata": {},
   "outputs": [],
   "source": [
    "# Nombre del archivo\n",
    "#file_name = 'genres.txt'\n",
    "#genres = []\n",
    "\n",
    "# Abrir el archivo en modo escritura\n",
    "#with open(file_name, 'w') as archivo:\n",
    "    # Iterar sobre la lista y escribir cada elemento en una nueva línea\n",
    "    #for genre in songs:\n",
    "        #archivo.write(str(genre) + '\\n')\n",
    "        #genres.append(genre)"
   ]
  },
  {
   "cell_type": "markdown",
   "metadata": {},
   "source": [
    "Obtenemos la similitud entre géneros a través del parecido por texto, es decir, son parecidos los géneros como punk y punk-rock pero entre punk y romance, debido a que la primera pareja contiene punk en ambos."
   ]
  },
  {
   "cell_type": "code",
   "execution_count": 98,
   "metadata": {},
   "outputs": [],
   "source": [
    "#from sklearn.feature_extraction.text import TfidfVectorizer\n",
    "#from sklearn.metrics.pairwise import cosine_similarity\n",
    "\n",
    "# Convert genre names to TF-IDF vectors\n",
    "#vectorizer = TfidfVectorizer()\n",
    "#genre_vectors = vectorizer.fit_transform(genres)\n",
    "\n",
    "# Calculate cosine similarity between genre vectors\n",
    "#cosine_sim_genre = cosine_similarity(genre_vectors, genre_vectors)"
   ]
  },
  {
   "cell_type": "code",
   "execution_count": 99,
   "metadata": {},
   "outputs": [],
   "source": [
    "#cosine_sim_genre #visualizamos la matriz de similitud"
   ]
  },
  {
   "cell_type": "markdown",
   "metadata": {},
   "source": [
    "Para probar el ejemplo comentado arriba, probamos a ver la similitud entre punk y punk-rock y entre punk y romance"
   ]
  },
  {
   "cell_type": "code",
   "execution_count": 100,
   "metadata": {},
   "outputs": [],
   "source": [
    "#print('Similitud entre ', genres[61], ' y ', genres[62], ': ', cosine_sim_genre[61][62])\n",
    "#print('Similitud entre ', genres[61], ' y ', genres[65], ': ', cosine_sim_genre[61][65])"
   ]
  },
  {
   "cell_type": "markdown",
   "metadata": {},
   "source": [
    "Debido que a nuestro dataset no contiene una lista de todos los géneos de la canción en esta primera fase (antes de la conexión con la API de Spotify) se descarta una posible recomendación por géneros mediante una vectorización de estos en binario. En su lugar usaremos por parecido de nombre con TF-IDF (no se ha aplicado todavía)"
   ]
  },
  {
   "cell_type": "markdown",
   "metadata": {},
   "source": [
    "### Recomendación de géneros"
   ]
  },
  {
   "cell_type": "code",
   "execution_count": 101,
   "metadata": {},
   "outputs": [],
   "source": [
    "# Hay que llamar esta función al iniciar la aplicación\n",
    "def cosine_genre():\n",
    "    # Eliminar los caracteres \"{\" y \"}\"\n",
    "    songs['genres'] = songs['genres'].str.replace('{', '').str.replace('}', '')\n",
    "    #print(songs['genres'])\n",
    "\n",
    "    # Dividir la columna 'genres' por comas\n",
    "    songs['genres'] = songs['genres'].apply(lambda x: x.split(\",\"))\n",
    "    #songs['genres'] = songs['genres'].apply(lambda x: x.split(\"|\"))\n",
    "    \n",
    "\n",
    "\n",
    "    col_del = [\"songId\",\t\"artist_name\",\t\"track_name\",\t\"track_id\", \"popularity\", \"year\", \"genre\",\t\"danceability\",\t\"energy\",\t\"key\",\t\"loudness\",\t\"mode\",\t\"speechiness\",\t\"acousticness\",\t\"instrumentalness\",\t\"liveness\",\t\"valence\",\t\"tempo\",\t\"duration_ms\",\t\"time_signature\", \"genres\"]\n",
    "\n",
    "    songsAux = songs.copy()\n",
    "\n",
    "    genre = set(g for G in songsAux['genres'] for g in G)\n",
    "\n",
    "    for g in genre:\n",
    "        songsAux[g] = songsAux.genre.transform(lambda x: int(g in x))\n",
    "        \n",
    "    song_genre = songsAux.drop(columns=col_del)\n",
    "\n",
    "    cosine_sim_genre = cosine_similarity(song_genre, song_genre)\n",
    "\n",
    "    return cosine_sim_genre"
   ]
  },
  {
   "cell_type": "code",
   "execution_count": 102,
   "metadata": {},
   "outputs": [],
   "source": [
    "# song_genre.head()"
   ]
  },
  {
   "cell_type": "code",
   "execution_count": 103,
   "metadata": {},
   "outputs": [
    {
     "data": {
      "text/plain": [
       "0       {progressive-house,samba,sad,rock-n-roll,dubstep}\n",
       "1                                                  {rock}\n",
       "2                                           {rock-n-roll}\n",
       "3                                      {german,classical}\n",
       "4                                           {ambient,sad}\n",
       "                              ...                        \n",
       "9995                                      {jazz,cantopop}\n",
       "9996                         {disco,grindcore,sleep,jazz}\n",
       "9997                 {disco,opera,funk,singer-songwriter}\n",
       "9998                     {drum-and-bass,house,psych-rock}\n",
       "9999                 {new-age,punk-rock,indian,grindcore}\n",
       "Name: genres, Length: 10000, dtype: object"
      ]
     },
     "execution_count": 103,
     "metadata": {},
     "output_type": "execute_result"
    }
   ],
   "source": [
    "songs['genres']"
   ]
  },
  {
   "cell_type": "code",
   "execution_count": 104,
   "metadata": {},
   "outputs": [
    {
     "name": "stdout",
     "output_type": "stream",
     "text": [
      "Dimensiones de la matriz de similitud del coseno entre los géneros: (10000, 10000)\n"
     ]
    }
   ],
   "source": [
    "cosine_sim_genre = cosine_genre()\n",
    "print(f\"Dimensiones de la matriz de similitud del coseno entre los géneros: {cosine_sim_genre.shape}\")"
   ]
  },
  {
   "cell_type": "markdown",
   "metadata": {},
   "source": [
    "### Recomendador Filtrado Colaborativo"
   ]
  },
  {
   "cell_type": "markdown",
   "metadata": {},
   "source": [
    "Código tomado de los apuntes de la directora del TFG."
   ]
  },
  {
   "cell_type": "markdown",
   "metadata": {},
   "source": [
    "El filtrado colaborativo se basa en recomendaciones por personas de gustos similares.\n",
    "\n",
    "Vamos a crear una matriz de dispersión o de utilidad (usuario-elemento), para ello hemos creado la función create_X()."
   ]
  },
  {
   "cell_type": "code",
   "execution_count": 105,
   "metadata": {},
   "outputs": [],
   "source": [
    "from scipy.sparse import csr_matrix\n",
    "\n",
    "def create_X(df):\n",
    "    \"\"\"\n",
    "    Genera una matriz dispersa a partir del marco de datos de calificaciones.\n",
    "    \n",
    "    Argumentos:\n",
    "        df: dataframe de pandas que contiene 3 columnas (userId, songId, rating)\n",
    "    \n",
    "    Devoluciones:\n",
    "        X: matriz dispersa\n",
    "        user_mapper: dict que asigna las identificaciones de usuario a los índices de usuario\n",
    "        user_inv_mapper: dict que asigna índices de usuario a ID de usuario\n",
    "        song_mapper: dict que asigna las identificaciones de canciones a los índices de canciones\n",
    "        song_inv_mapper: dict que asigna índices de canciones a ID de canciones\n",
    "        \n",
    "    \"\"\"\n",
    "    M = df['userId'].nunique()\n",
    "    N = df['songId'].nunique()\n",
    "\n",
    "    user_mapper = dict(zip(np.unique(df[\"userId\"]), list(range(M))))\n",
    "    song_mapper = dict(zip(np.unique(df[\"songId\"]), list(range(N))))\n",
    "    \n",
    "    user_inv_mapper = dict(zip(list(range(M)), np.unique(df[\"userId\"])))\n",
    "    song_inv_mapper = dict(zip(list(range(N)), np.unique(df[\"songId\"])))\n",
    "    \n",
    "    user_index = [user_mapper[i] for i in df['userId']]\n",
    "    item_index = [song_mapper[i] for i in df['songId']]\n",
    "\n",
    "    X = csr_matrix((df[\"rating\"], (user_index,item_index)), shape=(M,N))\n",
    "    \n",
    "    return X, user_mapper, song_mapper, user_inv_mapper, song_inv_mapper\n",
    "\n",
    "X, user_mapper, song_mapper, user_inv_mapper, song_inv_mapper = create_X(ratings)"
   ]
  },
  {
   "cell_type": "markdown",
   "metadata": {},
   "source": [
    "#### Dispersión"
   ]
  },
  {
   "cell_type": "markdown",
   "metadata": {},
   "source": [
    "La dispersión se calcula dividiendo el número de elementos almacenados en la matriz entre el número total de elementos."
   ]
  },
  {
   "cell_type": "code",
   "execution_count": 106,
   "metadata": {},
   "outputs": [
    {
     "name": "stdout",
     "output_type": "stream",
     "text": [
      "Matrix sparsity: 19.1%\n"
     ]
    }
   ],
   "source": [
    "n_total = X.shape[0]*X.shape[1]\n",
    "n_ratings = X.nnz\n",
    "sparsity = n_ratings/n_total\n",
    "print(f\"Matrix sparsity: {round(sparsity*100,2)}%\")"
   ]
  },
  {
   "cell_type": "markdown",
   "metadata": {},
   "source": [
    "Vemos que hay un 19.1% de dispersión que es mucho y eso indica que hay el problema cold-start (no todas las canciones están calificadas y entonces esas canciones se recomiendan menos)"
   ]
  },
  {
   "cell_type": "code",
   "execution_count": 107,
   "metadata": {},
   "outputs": [
    {
     "name": "stdout",
     "output_type": "stream",
     "text": [
      "Hay 10001 canciones con ratings.\n"
     ]
    }
   ],
   "source": [
    "n_ratings_per_song = X.getnnz(axis=0)\n",
    "\n",
    "print(f\"Hay {len(n_ratings_per_song)} canciones con ratings.\")"
   ]
  },
  {
   "cell_type": "markdown",
   "metadata": {},
   "source": [
    "#### Normalización de datos"
   ]
  },
  {
   "cell_type": "markdown",
   "metadata": {},
   "source": [
    "Vamos a calcular la media de puntuación de cada canción. Hay que recordar que las calificaciones son 0 o 1, es decir, no le gusta o le gusta al usuario."
   ]
  },
  {
   "cell_type": "code",
   "execution_count": 108,
   "metadata": {},
   "outputs": [],
   "source": [
    "#Calcula la media por canción\n",
    "sum_ratings_per_song = X.sum(axis=0)\n",
    "mean_rating_per_song = sum_ratings_per_song/n_ratings_per_song"
   ]
  },
  {
   "cell_type": "code",
   "execution_count": 109,
   "metadata": {},
   "outputs": [],
   "source": [
    "#Crear una nueva matriz con la media de valoración\n",
    "X_mean_song = np.tile(mean_rating_per_song, (X.shape[0],1))"
   ]
  },
  {
   "cell_type": "code",
   "execution_count": 110,
   "metadata": {},
   "outputs": [
    {
     "data": {
      "text/plain": [
       "(610, 10001)"
      ]
     },
     "execution_count": 110,
     "metadata": {},
     "output_type": "execute_result"
    }
   ],
   "source": [
    "X_mean_song.shape \n",
    "#Vamos a ver el tamaño de la matriz que será usuarios x canciones valoradas"
   ]
  },
  {
   "cell_type": "code",
   "execution_count": 111,
   "metadata": {},
   "outputs": [],
   "source": [
    "#Normalizamos los datos\n",
    "X_norm = X - csr_matrix(X_mean_song)"
   ]
  },
  {
   "cell_type": "markdown",
   "metadata": {},
   "source": [
    "Veamos ahora como están los valores nuevos"
   ]
  },
  {
   "cell_type": "code",
   "execution_count": 112,
   "metadata": {},
   "outputs": [
    {
     "name": "stdout",
     "output_type": "stream",
     "text": [
      "Original X: [[0 0 1 ... 0 0 0]]\n",
      "Normalized X: [[-0.47244094 -0.51162791  0.59859155 ... -0.5        -0.525\n",
      "  -0.56410256]]\n"
     ]
    }
   ],
   "source": [
    "print(\"Original X:\", X[0].todense())\n",
    "print(\"Normalized X:\", X_norm[0].todense())"
   ]
  },
  {
   "cell_type": "markdown",
   "metadata": {},
   "source": [
    "#### Recomendador filtrado colaborativo Item-Item con k-NN"
   ]
  },
  {
   "cell_type": "markdown",
   "metadata": {},
   "source": [
    "Ahora vamos a hacer el recomendador como tal que será mediante el algoritmo de k-NN obtiene las k canciones más similares dado un id de una canción y esa similitud estará definida solamente por las puntuaciones más parecidas"
   ]
  },
  {
   "cell_type": "code",
   "execution_count": 113,
   "metadata": {},
   "outputs": [],
   "source": [
    "from sklearn.neighbors import NearestNeighbors\n",
    "\n",
    "def find_similar_songs(song_id, X, song_mapper, song_inv_mapper, k, metric='cosine'):\n",
    "    \"\"\"\n",
    "    Encuentra los k vecinos más cercanos para una canción dada.\n",
    "    \n",
    "    Argumentos:\n",
    "        song_id: id de la canción de interés\n",
    "        X: matriz de utilidad user-item\n",
    "        k: número de canción similares que queremos recuperar\n",
    "        métrica: métrica de distancia para los cálculos de kNN\n",
    "    \n",
    "    Salida: devuelve una lista de k ID de canciones similares\n",
    "    \"\"\"\n",
    "    X = X.T\n",
    "    neighbour_ids = []\n",
    "    \n",
    "    song_ind = song_mapper[song_id]\n",
    "    song_vec = X[song_ind]\n",
    "    if isinstance(song_vec, (np.ndarray)):\n",
    "        song_vec = song_vec.reshape(1,-1)\n",
    "    # usamos k+1 porque la salida kNN incluye la canción de ID = song_id\n",
    "    kNN = NearestNeighbors(n_neighbors=k+1, algorithm=\"brute\", metric=metric)\n",
    "    kNN.fit(X)\n",
    "    neighbour = kNN.kneighbors(song_vec, return_distance=False)\n",
    "    for i in range(0,k):\n",
    "        n = neighbour.item(i)\n",
    "        neighbour_ids.append(song_inv_mapper[n])\n",
    "    neighbour_ids.pop(0)\n",
    "    return neighbour_ids"
   ]
  },
  {
   "cell_type": "markdown",
   "metadata": {},
   "source": [
    "Probemos con la segunda canción del dataset"
   ]
  },
  {
   "cell_type": "code",
   "execution_count": 114,
   "metadata": {},
   "outputs": [
    {
     "data": {
      "text/plain": [
       "[8010, 8288, 6259, 5864, 6668, 3731, 8044, 6833, 5643]"
      ]
     },
     "execution_count": 114,
     "metadata": {},
     "output_type": "execute_result"
    }
   ],
   "source": [
    "similar_songs = find_similar_songs(1, X_norm, song_mapper, song_inv_mapper, k=10)\n",
    "similar_songs"
   ]
  },
  {
   "cell_type": "markdown",
   "metadata": {},
   "source": [
    "A partir de ids no podemos saber que canciones son las recomendadas por lo que vamos a implementar código para que ese id lo transforme a una lista de información de la canción."
   ]
  },
  {
   "cell_type": "markdown",
   "metadata": {},
   "source": [
    "Probamos la recomendación con dos tipos distintos de métricas\n",
    "\n",
    "1. Métrica de similitud por Coseno"
   ]
  },
  {
   "cell_type": "code",
   "execution_count": 115,
   "metadata": {},
   "outputs": [
    {
     "name": "stdout",
     "output_type": "stream",
     "text": [
      "porque has escuchado ... 93 Million Miles de Jason Mraz (acoustic, 2012) te recomendamos:\n",
      "The Groove de Evil Needle (chill, 2012)\n",
      "Kamome de Openzone Bar (chill, 2012)\n",
      "New Jazz Go Home - Thugfucker Remix de Malente (breakbeat, 2012)\n",
      "More Contempt - Guau Remix de Aggresivnes (breakbeat, 2012)\n",
      "The One de Raymond Lam (cantopop, 2012)\n",
      "The Shivering Voice of the Ghost de Gehenna (black-metal, 2012)\n",
      "Night on Park Rouge de Openzone Bar (chill, 2012)\n",
      "紀念日 de Kelly Chen (cantopop, 2012)\n",
      "Shellshock - Original de Noisia (breakbeat, 2012)\n"
     ]
    }
   ],
   "source": [
    "song_titles = dict(zip(songs['songId'], songs['track_name']))\n",
    "\n",
    "song_id = 1\n",
    "\n",
    "similar_song = find_similar_songs(song_id, X_norm, song_mapper, song_inv_mapper, metric='cosine', k=10)\n",
    "song_title = song_titles[song_id] # Saca el título de la canción\n",
    "song_row = songs.loc[songs['songId'] == song_id] # Obtiene la columna que contiene el id de esa canción\n",
    "song_artist = song_row['artist_name'].values[0] #Obtiene el nombre del artista\n",
    "song_genre = song_row['genre'].values[0] #Obtiene el género de la canción\n",
    "song_year = song_row['year'].values[0] #Obtiene el año de la canción\n",
    "\n",
    "print(f\"porque has escuchado ... {song_title} de {song_artist} ({song_genre}, {song_year}) te recomendamos:\")\n",
    "for i in similar_song:\n",
    "    row_i = songs.loc[songs['songId'] == i]\n",
    "    artist_i = row_i['artist_name'].values[0]\n",
    "    genre_i = row_i['genre'].values[0]\n",
    "    year_i = row_i['year'].values[0]\n",
    "    print(f\"{song_titles[i]} de {artist_i} ({genre_i}, {year_i})\")"
   ]
  },
  {
   "cell_type": "markdown",
   "metadata": {},
   "source": [
    "2. Métrica de similitud por Euclidea"
   ]
  },
  {
   "cell_type": "code",
   "execution_count": 116,
   "metadata": {},
   "outputs": [
    {
     "name": "stdout",
     "output_type": "stream",
     "text": [
      "porque has escuchado ... 93 Million Miles de Jason Mraz (acoustic, 2012) te recomendamos:\n",
      "More Contempt - Guau Remix de Aggresivnes (breakbeat, 2012)\n",
      "Balladen Om Bifrost de Einherjer (black-metal, 2012)\n",
      "Forever Young de Alan Tam (cantopop, 2012)\n",
      "千風歌 de Christopher Wong (cantopop, 2012)\n",
      "Take A Swing de Rektchordz (breakbeat, 2012)\n",
      "New Jazz Go Home - Thugfucker Remix de Malente (breakbeat, 2012)\n",
      "留住秋色 de Jacky Cheung (cantopop, 2012)\n",
      "Things Are Changin' de Gary Clark Jr. (blues, 2012)\n",
      "Going Back To New Orleans de Joe Liggins (blues, 2012)\n"
     ]
    }
   ],
   "source": [
    "song_id = 1\n",
    "\n",
    "similar_song = find_similar_songs(song_id, X_norm, song_mapper, song_inv_mapper, metric='euclidean', k=10)\n",
    "song_title = song_titles[song_id]\n",
    "song_row = songs.loc[songs['songId'] == song_id]\n",
    "song_artist = song_row['artist_name'].values[0]\n",
    "song_genre = song_row['genre'].values[0]\n",
    "song_year = song_row['year'].values[0]\n",
    "\n",
    "print(f\"porque has escuchado ... {song_title} de {song_artist} ({song_genre}, {song_year}) te recomendamos:\")\n",
    "for i in similar_song:\n",
    "    row_i = songs.loc[songs['songId'] == i]\n",
    "    artist_i = row_i['artist_name'].values[0]\n",
    "    genre_i = row_i['genre'].values[0]\n",
    "    year_i = row_i['year'].values[0]\n",
    "    print(f\"{song_titles[i]} de {artist_i} ({genre_i}, {year_i})\")"
   ]
  },
  {
   "cell_type": "markdown",
   "metadata": {},
   "source": [
    "#### Cold-start"
   ]
  },
  {
   "cell_type": "markdown",
   "metadata": {},
   "source": [
    "Como se ha comentado antes, cold-star es un problema que aparece cuando no todas las canciones tienen valoraciones o tienen muy pocas. Para solucionarlo crearemos otro recomendador pero basado en contenido. La recomendación será acorde con los atributos que escoja el usuario."
   ]
  },
  {
   "cell_type": "code",
   "execution_count": 117,
   "metadata": {},
   "outputs": [
    {
     "name": "stdout",
     "output_type": "stream",
     "text": [
      "Hay 10000 películas en el dataset.\n"
     ]
    }
   ],
   "source": [
    "n_songs = songs['songId'].nunique()\n",
    "print(f\"Hay {n_songs} películas en el dataset.\")"
   ]
  },
  {
   "cell_type": "markdown",
   "metadata": {},
   "source": [
    "Vamos a hacer una función en la que el usuario pase los atributos (posiciones, ya se verá con la interfaz) que quiere incluir para su recomendación. El campo de género se incluirá en otra versión."
   ]
  },
  {
   "cell_type": "markdown",
   "metadata": {},
   "source": [
    "Los atributos que puede elegir género, año, duración y popularidad. El resto de atributos se tendrán en cuenta pero con menor porcentaje."
   ]
  },
  {
   "cell_type": "code",
   "execution_count": 118,
   "metadata": {},
   "outputs": [],
   "source": [
    "#Atributos que usuario puede elegir\n",
    "col_optional = [\"popularity\", \"year\", \"genre\",\t\"duration_ms\"]\n",
    "#Atributos restantes y más específicos\n",
    "col_specific = [\"danceability\",\t\"energy\",\t\"key\",\t\"loudness\",\t\"mode\",\t\"speechiness\",\t\"acousticness\",\t\"instrumentalness\",\t\"liveness\",\t\"valence\",\t\"tempo\",\t\"time_signature\"]"
   ]
  },
  {
   "cell_type": "markdown",
   "metadata": {},
   "source": [
    "Para hacer la matriz de correlación es mejor normalizar los valores ya que son muy dispersos entre sí. Esto se sabe porque hay atributos como loudness que va desde -60 a 0 y liveness de 0.0 a 1.0, por lo que hay que hacer sean más o menos parecidos."
   ]
  },
  {
   "cell_type": "code",
   "execution_count": 119,
   "metadata": {},
   "outputs": [
    {
     "data": {
      "text/plain": [
       "songId                                   1\n",
       "artist_name                     Jason Mraz\n",
       "track_name                93 Million Miles\n",
       "track_id            1s8tP3jP4GZcyHDsjvw218\n",
       "popularity                              50\n",
       "year                                  2012\n",
       "genre                             acoustic\n",
       "danceability                         0.572\n",
       "energy                               0.454\n",
       "key                                      3\n",
       "loudness                           -10.286\n",
       "mode                                     1\n",
       "speechiness                         0.0258\n",
       "acousticness                         0.477\n",
       "instrumentalness                  0.000014\n",
       "liveness                            0.0974\n",
       "valence                              0.515\n",
       "tempo                              140.182\n",
       "duration_ms                         216387\n",
       "time_signature                           4\n",
       "genres                              [rock]\n",
       "Name: 1, dtype: object"
      ]
     },
     "execution_count": 119,
     "metadata": {},
     "output_type": "execute_result"
    }
   ],
   "source": [
    "songs.loc[1]"
   ]
  },
  {
   "cell_type": "code",
   "execution_count": 120,
   "metadata": {},
   "outputs": [],
   "source": [
    "# Escalar las características para normalizar las escalas\n",
    "def normalize(col_to_normalize):\n",
    "    scaler = StandardScaler()\n",
    "\n",
    "    scaled_features = songs[col_to_normalize]\n",
    "    #Para evitar un warning\n",
    "    scaled_features_copy = scaled_features.copy()\n",
    "\n",
    "    scaled_features_copy.loc[:, col_to_normalize] = scaler.fit_transform(scaled_features_copy.loc[:, col_to_normalize])\n",
    "\n",
    "    scaled_features = scaled_features_copy\n",
    "\n",
    "    return scaled_features"
   ]
  },
  {
   "cell_type": "markdown",
   "metadata": {},
   "source": [
    "Vamos a observar como han cambiado los valores respecto al original"
   ]
  },
  {
   "cell_type": "code",
   "execution_count": 121,
   "metadata": {},
   "outputs": [
    {
     "name": "stderr",
     "output_type": "stream",
     "text": [
      "C:\\Users\\lmart\\AppData\\Local\\Temp\\ipykernel_16640\\1936094398.py:9: FutureWarning: Setting an item of incompatible dtype is deprecated and will raise in a future error of pandas. Value '[-0.36557645 -0.64519742 -0.64519742 ... -1.48406032  0.47328645\n",
      "  1.31214935]' has dtype incompatible with int64, please explicitly cast to a compatible dtype first.\n",
      "  scaled_features_copy.loc[:, col_to_normalize] = scaler.fit_transform(scaled_features_copy.loc[:, col_to_normalize])\n",
      "C:\\Users\\lmart\\AppData\\Local\\Temp\\ipykernel_16640\\1936094398.py:9: FutureWarning: Setting an item of incompatible dtype is deprecated and will raise in a future error of pandas. Value '[ 0.77063578  0.77063578  0.77063578 ...  0.77063578  0.77063578\n",
      " -1.29762986]' has dtype incompatible with int64, please explicitly cast to a compatible dtype first.\n",
      "  scaled_features_copy.loc[:, col_to_normalize] = scaler.fit_transform(scaled_features_copy.loc[:, col_to_normalize])\n",
      "C:\\Users\\lmart\\AppData\\Local\\Temp\\ipykernel_16640\\1936094398.py:9: FutureWarning: Setting an item of incompatible dtype is deprecated and will raise in a future error of pandas. Value '[-1.90766077  0.26730305  0.26730305 ...  0.26730305  0.26730305\n",
      "  2.44226688]' has dtype incompatible with int64, please explicitly cast to a compatible dtype first.\n",
      "  scaled_features_copy.loc[:, col_to_normalize] = scaler.fit_transform(scaled_features_copy.loc[:, col_to_normalize])\n"
     ]
    },
    {
     "data": {
      "text/html": [
       "<div>\n",
       "<style scoped>\n",
       "    .dataframe tbody tr th:only-of-type {\n",
       "        vertical-align: middle;\n",
       "    }\n",
       "\n",
       "    .dataframe tbody tr th {\n",
       "        vertical-align: top;\n",
       "    }\n",
       "\n",
       "    .dataframe thead th {\n",
       "        text-align: right;\n",
       "    }\n",
       "</style>\n",
       "<table border=\"1\" class=\"dataframe\">\n",
       "  <thead>\n",
       "    <tr style=\"text-align: right;\">\n",
       "      <th></th>\n",
       "      <th>danceability</th>\n",
       "      <th>energy</th>\n",
       "      <th>key</th>\n",
       "      <th>loudness</th>\n",
       "      <th>mode</th>\n",
       "      <th>speechiness</th>\n",
       "      <th>acousticness</th>\n",
       "      <th>instrumentalness</th>\n",
       "      <th>liveness</th>\n",
       "      <th>valence</th>\n",
       "      <th>tempo</th>\n",
       "      <th>time_signature</th>\n",
       "    </tr>\n",
       "  </thead>\n",
       "  <tbody>\n",
       "    <tr>\n",
       "      <th>0</th>\n",
       "      <td>-0.071773</td>\n",
       "      <td>-1.044028</td>\n",
       "      <td>-0.365576</td>\n",
       "      <td>-0.030354</td>\n",
       "      <td>0.770636</td>\n",
       "      <td>-0.365421</td>\n",
       "      <td>1.005995</td>\n",
       "      <td>-0.866021</td>\n",
       "      <td>-0.466519</td>\n",
       "      <td>-0.966180</td>\n",
       "      <td>0.420520</td>\n",
       "      <td>-1.907661</td>\n",
       "    </tr>\n",
       "    <tr>\n",
       "      <th>1</th>\n",
       "      <td>0.391532</td>\n",
       "      <td>-0.513815</td>\n",
       "      <td>-0.645197</td>\n",
       "      <td>-0.065829</td>\n",
       "      <td>0.770636</td>\n",
       "      <td>-0.648381</td>\n",
       "      <td>0.411396</td>\n",
       "      <td>-0.865986</td>\n",
       "      <td>-0.569550</td>\n",
       "      <td>0.437559</td>\n",
       "      <td>0.650543</td>\n",
       "      <td>0.267303</td>\n",
       "    </tr>\n",
       "    <tr>\n",
       "      <th>2</th>\n",
       "      <td>-0.456993</td>\n",
       "      <td>-1.286311</td>\n",
       "      <td>-0.645197</td>\n",
       "      <td>-0.598724</td>\n",
       "      <td>0.770636</td>\n",
       "      <td>-0.540823</td>\n",
       "      <td>0.030524</td>\n",
       "      <td>-0.865893</td>\n",
       "      <td>-0.615796</td>\n",
       "      <td>-0.943780</td>\n",
       "      <td>0.638661</td>\n",
       "      <td>0.267303</td>\n",
       "    </tr>\n",
       "    <tr>\n",
       "      <th>3</th>\n",
       "      <td>-0.545489</td>\n",
       "      <td>-1.226618</td>\n",
       "      <td>1.312149</td>\n",
       "      <td>0.002786</td>\n",
       "      <td>0.770636</td>\n",
       "      <td>-0.474633</td>\n",
       "      <td>1.315624</td>\n",
       "      <td>-0.866021</td>\n",
       "      <td>-0.673166</td>\n",
       "      <td>0.411425</td>\n",
       "      <td>2.849574</td>\n",
       "      <td>0.267303</td>\n",
       "    </tr>\n",
       "    <tr>\n",
       "      <th>4</th>\n",
       "      <td>-0.347674</td>\n",
       "      <td>0.669507</td>\n",
       "      <td>0.193665</td>\n",
       "      <td>0.691427</td>\n",
       "      <td>-1.297630</td>\n",
       "      <td>-0.575572</td>\n",
       "      <td>-0.696694</td>\n",
       "      <td>-0.816677</td>\n",
       "      <td>-0.495789</td>\n",
       "      <td>-0.674979</td>\n",
       "      <td>1.726041</td>\n",
       "      <td>0.267303</td>\n",
       "    </tr>\n",
       "  </tbody>\n",
       "</table>\n",
       "</div>"
      ],
      "text/plain": [
       "   danceability    energy       key  loudness      mode  speechiness  \\\n",
       "0     -0.071773 -1.044028 -0.365576 -0.030354  0.770636    -0.365421   \n",
       "1      0.391532 -0.513815 -0.645197 -0.065829  0.770636    -0.648381   \n",
       "2     -0.456993 -1.286311 -0.645197 -0.598724  0.770636    -0.540823   \n",
       "3     -0.545489 -1.226618  1.312149  0.002786  0.770636    -0.474633   \n",
       "4     -0.347674  0.669507  0.193665  0.691427 -1.297630    -0.575572   \n",
       "\n",
       "   acousticness  instrumentalness  liveness   valence     tempo  \\\n",
       "0      1.005995         -0.866021 -0.466519 -0.966180  0.420520   \n",
       "1      0.411396         -0.865986 -0.569550  0.437559  0.650543   \n",
       "2      0.030524         -0.865893 -0.615796 -0.943780  0.638661   \n",
       "3      1.315624         -0.866021 -0.673166  0.411425  2.849574   \n",
       "4     -0.696694         -0.816677 -0.495789 -0.674979  1.726041   \n",
       "\n",
       "   time_signature  \n",
       "0       -1.907661  \n",
       "1        0.267303  \n",
       "2        0.267303  \n",
       "3        0.267303  \n",
       "4        0.267303  "
      ]
     },
     "execution_count": 121,
     "metadata": {},
     "output_type": "execute_result"
    }
   ],
   "source": [
    "#Columnas normalizadas\n",
    "scaled_ft_specific = normalize(col_specific)\n",
    "scaled_ft_specific.head()"
   ]
  },
  {
   "cell_type": "code",
   "execution_count": 122,
   "metadata": {},
   "outputs": [
    {
     "data": {
      "text/html": [
       "<div>\n",
       "<style scoped>\n",
       "    .dataframe tbody tr th:only-of-type {\n",
       "        vertical-align: middle;\n",
       "    }\n",
       "\n",
       "    .dataframe tbody tr th {\n",
       "        vertical-align: top;\n",
       "    }\n",
       "\n",
       "    .dataframe thead th {\n",
       "        text-align: right;\n",
       "    }\n",
       "</style>\n",
       "<table border=\"1\" class=\"dataframe\">\n",
       "  <thead>\n",
       "    <tr style=\"text-align: right;\">\n",
       "      <th></th>\n",
       "      <th>danceability</th>\n",
       "      <th>energy</th>\n",
       "      <th>key</th>\n",
       "      <th>loudness</th>\n",
       "      <th>mode</th>\n",
       "      <th>speechiness</th>\n",
       "      <th>acousticness</th>\n",
       "      <th>instrumentalness</th>\n",
       "      <th>liveness</th>\n",
       "      <th>valence</th>\n",
       "      <th>tempo</th>\n",
       "      <th>time_signature</th>\n",
       "    </tr>\n",
       "  </thead>\n",
       "  <tbody>\n",
       "    <tr>\n",
       "      <th>0</th>\n",
       "      <td>0.483</td>\n",
       "      <td>0.303</td>\n",
       "      <td>4</td>\n",
       "      <td>-10.058</td>\n",
       "      <td>1</td>\n",
       "      <td>0.0429</td>\n",
       "      <td>0.6940</td>\n",
       "      <td>0.000000</td>\n",
       "      <td>0.1150</td>\n",
       "      <td>0.139</td>\n",
       "      <td>133.406</td>\n",
       "      <td>3</td>\n",
       "    </tr>\n",
       "    <tr>\n",
       "      <th>1</th>\n",
       "      <td>0.572</td>\n",
       "      <td>0.454</td>\n",
       "      <td>3</td>\n",
       "      <td>-10.286</td>\n",
       "      <td>1</td>\n",
       "      <td>0.0258</td>\n",
       "      <td>0.4770</td>\n",
       "      <td>0.000014</td>\n",
       "      <td>0.0974</td>\n",
       "      <td>0.515</td>\n",
       "      <td>140.182</td>\n",
       "      <td>4</td>\n",
       "    </tr>\n",
       "    <tr>\n",
       "      <th>2</th>\n",
       "      <td>0.409</td>\n",
       "      <td>0.234</td>\n",
       "      <td>3</td>\n",
       "      <td>-13.711</td>\n",
       "      <td>1</td>\n",
       "      <td>0.0323</td>\n",
       "      <td>0.3380</td>\n",
       "      <td>0.000050</td>\n",
       "      <td>0.0895</td>\n",
       "      <td>0.145</td>\n",
       "      <td>139.832</td>\n",
       "      <td>4</td>\n",
       "    </tr>\n",
       "    <tr>\n",
       "      <th>3</th>\n",
       "      <td>0.392</td>\n",
       "      <td>0.251</td>\n",
       "      <td>10</td>\n",
       "      <td>-9.845</td>\n",
       "      <td>1</td>\n",
       "      <td>0.0363</td>\n",
       "      <td>0.8070</td>\n",
       "      <td>0.000000</td>\n",
       "      <td>0.0797</td>\n",
       "      <td>0.508</td>\n",
       "      <td>204.961</td>\n",
       "      <td>4</td>\n",
       "    </tr>\n",
       "    <tr>\n",
       "      <th>4</th>\n",
       "      <td>0.430</td>\n",
       "      <td>0.791</td>\n",
       "      <td>6</td>\n",
       "      <td>-5.419</td>\n",
       "      <td>0</td>\n",
       "      <td>0.0302</td>\n",
       "      <td>0.0726</td>\n",
       "      <td>0.019300</td>\n",
       "      <td>0.1100</td>\n",
       "      <td>0.217</td>\n",
       "      <td>171.864</td>\n",
       "      <td>4</td>\n",
       "    </tr>\n",
       "  </tbody>\n",
       "</table>\n",
       "</div>"
      ],
      "text/plain": [
       "   danceability  energy  key  loudness  mode  speechiness  acousticness  \\\n",
       "0         0.483   0.303    4   -10.058     1       0.0429        0.6940   \n",
       "1         0.572   0.454    3   -10.286     1       0.0258        0.4770   \n",
       "2         0.409   0.234    3   -13.711     1       0.0323        0.3380   \n",
       "3         0.392   0.251   10    -9.845     1       0.0363        0.8070   \n",
       "4         0.430   0.791    6    -5.419     0       0.0302        0.0726   \n",
       "\n",
       "   instrumentalness  liveness  valence    tempo  time_signature  \n",
       "0          0.000000    0.1150    0.139  133.406               3  \n",
       "1          0.000014    0.0974    0.515  140.182               4  \n",
       "2          0.000050    0.0895    0.145  139.832               4  \n",
       "3          0.000000    0.0797    0.508  204.961               4  \n",
       "4          0.019300    0.1100    0.217  171.864               4  "
      ]
     },
     "execution_count": 122,
     "metadata": {},
     "output_type": "execute_result"
    }
   ],
   "source": [
    "#Columnas originales\n",
    "songs[col_specific].head()"
   ]
  },
  {
   "cell_type": "markdown",
   "metadata": {},
   "source": [
    "Ahora que están normalizados los valores vamos a crear una matriz de similitud del coseno para establecer la relación en los distintos valores y poder usarlos para la recomendación."
   ]
  },
  {
   "cell_type": "code",
   "execution_count": 123,
   "metadata": {},
   "outputs": [
    {
     "name": "stdout",
     "output_type": "stream",
     "text": [
      "Dimensiones de la matriz de similitud del coseno entre los atributos: (10000, 10000)\n"
     ]
    }
   ],
   "source": [
    "cosine_sim_specific = cosine_similarity(scaled_ft_specific, scaled_ft_specific)\n",
    "print(f\"Dimensiones de la matriz de similitud del coseno entre los atributos: {cosine_sim_specific.shape}\")"
   ]
  },
  {
   "cell_type": "markdown",
   "metadata": {},
   "source": [
    "Tenemos dos matrices de similitud: una entre géneros (cosine_sim_genre) y otra entre las caracteristicas (cosine_sim_feautures).\n",
    "\n",
    "En esta función vamos a usar el de las características en esta función."
   ]
  },
  {
   "cell_type": "code",
   "execution_count": 124,
   "metadata": {},
   "outputs": [],
   "source": [
    "def content_based_features(title):\n",
    "    song_idx = dict(zip(songs['songId'], list(songs.index)))\n",
    "    n_recommendations = 10\n",
    "\n",
    "    idx = song_idx[title]\n",
    "    sim_scores = list(enumerate(cosine_sim_specific[idx]))\n",
    "    sim_scores = sorted(sim_scores, key=lambda x: x[1], reverse=True)\n",
    "    sim_scores = sim_scores[1:(n_recommendations+1)] # (id, puntuacion)\n",
    "    similar_songs = [i[0] for i in sim_scores]\n",
    "\n",
    "    return similar_songs"
   ]
  },
  {
   "cell_type": "markdown",
   "metadata": {},
   "source": [
    "Vamos obtener el id de una canción cualquiera para poder hacer el ejemplo."
   ]
  },
  {
   "cell_type": "markdown",
   "metadata": {},
   "source": [
    "Mostramos todos los campos para comprobar que se realiza bien la recomendación."
   ]
  },
  {
   "cell_type": "markdown",
   "metadata": {},
   "source": [
    "### Recomendador general (PARTE IMPORTANTE)"
   ]
  },
  {
   "cell_type": "markdown",
   "metadata": {},
   "source": [
    "Las **funciones** anteriormente declaradas que van a ser utilzadas para el recomendador."
   ]
  },
  {
   "cell_type": "markdown",
   "metadata": {},
   "source": [
    "Ahora vamos a hacer una función que se aquella que se llame cuando se le de al botón de recomendadar (***recommender*** es la función)."
   ]
  },
  {
   "cell_type": "markdown",
   "metadata": {},
   "source": [
    "La siguiente función ***sim_cosine_total*** calcula la matriz de similitud del coseno total, es decir, tiene en cuenta los atributos pasados y los atributos específicos que usamos con un menor porcentaje para una recomendación algo más exacta. Hacemos una media aritmética y damos la misma importancia a todos los atributos que el usuario elige sin preferencias."
   ]
  },
  {
   "cell_type": "code",
   "execution_count": 125,
   "metadata": {},
   "outputs": [],
   "source": [
    "def sim_cosine_total(options):\n",
    "    # Excluir si una de las opciones es género porque ese ya está calculado\n",
    "    num_opt = len(options) #para distribuir los porcentajes\n",
    "    is_genre = 0\n",
    "    if \"genres\" in options:\n",
    "        options.remove(\"genres\")\n",
    "        is_genre = 1\n",
    "\n",
    "        if len(options) == 0:\n",
    "            is_genre = 2\n",
    "    \n",
    "    if is_genre == 2:\n",
    "        cosine_sim_opt = cosine_sim_genre\n",
    "    else:\n",
    "        # Normalizamos los valores ya que son muy dispersos\n",
    "        scaled_ft_opt = normalize(options)\n",
    "        cosine_sim_opt_no_genre = cosine_similarity(scaled_ft_opt, scaled_ft_opt) #poco eficiente hacerlo para cada vez que se pida una recomendación?\n",
    "\n",
    "        if is_genre == 1:\n",
    "            percent_genre = 1/ num_opt\n",
    "            print(f\"porcentaje género {percent_genre}\")\n",
    "\n",
    "            matrix_genre = np.array(cosine_sim_genre)\n",
    "            matrix_no_genre = np.array(cosine_sim_opt_no_genre)\n",
    "\n",
    "            cosine_sim_opt = percent_genre * matrix_genre + (1-percent_genre) * matrix_no_genre\n",
    "\n",
    "        else: # no hay género en la lista\n",
    "            cosine_sim_opt = cosine_sim_opt_no_genre\n",
    "    \n",
    "    matrix_opt = np.array(cosine_sim_opt)\n",
    "    matrix_specific = np.array(cosine_sim_specific)\n",
    "\n",
    "    percent_specific = 0.00 # No le damos mucho porque no es lo más importante\n",
    "    \n",
    "    cosine_sim_final = (1-percent_specific)*matrix_opt + percent_specific*matrix_specific\n",
    "\n",
    "    return cosine_sim_final"
   ]
  },
  {
   "cell_type": "markdown",
   "metadata": {},
   "source": [
    "Primera fase (***first_stage***) representa el recomendador basado en contenido, el contenido a tener en cuenta son los atributos que ha seleccionado el usuario, si ha seleccionado."
   ]
  },
  {
   "cell_type": "code",
   "execution_count": 126,
   "metadata": {},
   "outputs": [],
   "source": [
    "def first_stage(song_id, options):\n",
    "    # 1. Hay que comprobar si hay atributos a tener en cuenta (options)\n",
    "    cosine_sim = sim_cosine_total(options)\n",
    "    \n",
    "    song_idx = dict(zip(songs['songId'], list(songs.index)))\n",
    "    n_recommendations = 20\n",
    "\n",
    "    idx = song_idx[song_id]\n",
    "    sim_scores = list(enumerate(cosine_sim[idx]))\n",
    "    sim_scores = sorted(sim_scores, key=lambda x: x[1], reverse=True)\n",
    "    sim_scores = sim_scores[1:(n_recommendations+1)] # (id, puntuacion)\n",
    "    similar_songs = [i[0] for i in sim_scores]\n",
    "\n",
    "    return similar_songs"
   ]
  },
  {
   "cell_type": "markdown",
   "metadata": {},
   "source": [
    "Segunda fase (***second_stage***) representa el recomendador filtrado colaborativo, se recomienda acorde con las canciones que le han gustando a otros usuarios y tienen, por lo tanto, gustos parecidos entre sí."
   ]
  },
  {
   "cell_type": "code",
   "execution_count": 127,
   "metadata": {},
   "outputs": [],
   "source": [
    "def second_stage(song_id): # collaborative_recommender\n",
    "    similar_songs = find_similar_songs(song_id, X_norm, song_mapper, song_inv_mapper, metric='euclidean', k=20)\n",
    "    #similar_songs = find_similar_songs(song_id, X_norm, song_mapper, song_inv_mapper, metric='cosine', k=10) # Hemos visto antes que euclides es algo más rápido\n",
    "    \n",
    "    return similar_songs"
   ]
  },
  {
   "cell_type": "markdown",
   "metadata": {},
   "source": [
    "La función ***intercale_lists*** sirve para mezclar los resultados del recomendador basado en contenido y el colaborativo."
   ]
  },
  {
   "cell_type": "code",
   "execution_count": 128,
   "metadata": {},
   "outputs": [],
   "source": [
    "def intercalate_lists(l1, l2):\n",
    "\n",
    "    # Utiliza conjuntos para evitar repeticiones\n",
    "    intercalate_set = set()\n",
    "\n",
    "    # Intercale los elementos de la primera mitad de cada lista sin repeticiones\n",
    "    for elem1, elem2 in zip(l1, l2):\n",
    "        intercalate_set.add(elem1)\n",
    "        intercalate_set.add(elem2)\n",
    "\n",
    "    # Convierte el conjunto a una lista para mantener el orden original\n",
    "    list_final = list(intercalate_set)\n",
    "\n",
    "    return list_final"
   ]
  },
  {
   "cell_type": "markdown",
   "metadata": {},
   "source": [
    "La función ***recommender*** es el recomendador final que devuelve las canciones más parecidas dada una canción seleccionada y los atributos a tener en cuenta, estos últimos pueden ser ninguno y directamente se pasa a un filtrado colaborativo."
   ]
  },
  {
   "cell_type": "code",
   "execution_count": 129,
   "metadata": {},
   "outputs": [],
   "source": [
    "def recommender(song_id, options):\n",
    "    # Primera fase: consiste en la obtención de la lista de canciones parecidas que cumplan con los atributos que el usuario ha elegido.\n",
    "    list_songs_content = [] # Lista de canciones recomendadas basadas\n",
    "    \n",
    "    if len(options) != 0: \n",
    "        list_songs_content = first_stage(song_id, options)\n",
    "\n",
    "    # Segunda fase: filtrado colaborativo (si la lista es demasiado grande)\n",
    "    list_songs_collaborative = second_stage(song_id)\n",
    "    list_final = []\n",
    "\n",
    "    if len(list_songs_content) > 10: # Es necesario hacer la intersección -> segunda fase\n",
    "        aux = intercalate_lists(list_songs_content, list_songs_collaborative)\n",
    "        \n",
    "        if song_id in aux: aux.remove(song_id)\n",
    "        list_final = aux.copy()[:10]\n",
    "        \n",
    "    elif len(list_songs_content) == 0:\n",
    "        aux = list_songs_collaborative\n",
    "        \n",
    "        if song_id in aux: aux.remove(song_id)\n",
    "        list_final = aux.copy()[:10]\n",
    "    else:\n",
    "        aux = list_songs_content\n",
    "        \n",
    "        if song_id in aux: aux.remove(song_id)\n",
    "        list_final = aux.copy()[:10]\n",
    "    \n",
    "    return list_final"
   ]
  },
  {
   "cell_type": "markdown",
   "metadata": {},
   "source": [
    "Hacemos unas pruebas y parece ser que funciona bien"
   ]
  },
  {
   "cell_type": "code",
   "execution_count": 130,
   "metadata": {},
   "outputs": [
    {
     "name": "stderr",
     "output_type": "stream",
     "text": [
      "C:\\Users\\lmart\\AppData\\Local\\Temp\\ipykernel_16640\\1936094398.py:9: FutureWarning: Setting an item of incompatible dtype is deprecated and will raise in a future error of pandas. Value '[ 3.76439233  2.42088083  2.94335752 ... -1.31109555 -1.31109555\n",
      " -1.23645602]' has dtype incompatible with int64, please explicitly cast to a compatible dtype first.\n",
      "  scaled_features_copy.loc[:, col_to_normalize] = scaler.fit_transform(scaled_features_copy.loc[:, col_to_normalize])\n"
     ]
    },
    {
     "name": "stdout",
     "output_type": "stream",
     "text": [
      "porque has escuchado ... Do Not Let Me Go de Joshua Hyslop ([list(['rock-n-roll'])], 2012) con popularidad: 57 te recomendamos:\n",
      "93 Million Miles de Jason Mraz ([list(['rock'])], 2012). Popularidad: 50\n",
      "Fast Car de Boyce Avenue ([list(['german', 'classical'])], 2012). Popularidad: 58\n",
      "Sky's Still Blue de Andrew Belle ([list(['ambient', 'sad'])], 2012). Popularidad: 54\n",
      "What They Say de Chris Smither ([list(['pop-film', 'sleep', 'emo', 'indian'])], 2012). Popularidad: 48\n",
      "Walking in a Winter Wonderland de Matt Wertz ([list(['electro', 'show-tunes', 'minimal-techno', 'hardcore'])], 2012). Popularidad: 48\n",
      "Dancing Shoes de Green River Ordinance ([list(['ska', 'emo', 'minimal-techno'])], 2012). Popularidad: 45\n",
      "Living in the Moment de Jason Mraz ([list(['chicago-house', 'sad', 'acoustic', 'indie-pop'])], 2012). Popularidad: 44\n",
      "Heaven de Boyce Avenue ([list(['hard-rock', 'salsa', 'goth', 'hardcore', 'sad'])], 2012). Popularidad: 58\n",
      "Say Anything de Tristan Prettyman ([list(['samba', 'sertanejo', 'classical', 'ska', 'club'])], 2012). Popularidad: 45\n",
      "Money (That's What I Want) - From Jim Beam's Live Music Series de David Gray ([list(['cantopop'])], 2012). Popularidad: 45\n"
     ]
    }
   ],
   "source": [
    "similar_songs = recommender(2, ['popularity'])\n",
    "\n",
    "song_title = song_titles[2]\n",
    "song_row = songs.loc[songs['songId'] == 2]\n",
    "song_artist = song_row['artist_name'].values[0]\n",
    "song_genre = song_row['genres'].values\n",
    "song_year = song_row['year'].values[0]\n",
    "song_popularity = song_row['popularity'].values[0]\n",
    "\n",
    "\n",
    "print(f\"porque has escuchado ... {song_title} de {song_artist} ({song_genre}, {song_year}) con popularidad: {song_popularity} te recomendamos:\")\n",
    "for i in similar_songs:\n",
    "    row_i = songs.loc[songs['songId'] == i]\n",
    "    artist_i = row_i['artist_name'].values[0]\n",
    "    genre_i = row_i['genres'].values\n",
    "    popularity_i = row_i['popularity'].values[0]\n",
    "    year_i = row_i['year'].values[0]\n",
    "    print(f\"{song_titles[i]} de {artist_i} ({genre_i}, {year_i}). Popularidad: {popularity_i}\")"
   ]
  },
  {
   "cell_type": "markdown",
   "metadata": {},
   "source": [
    "### Recomendador para varias canciones (PARTE IMPORTANTE)"
   ]
  },
  {
   "cell_type": "markdown",
   "metadata": {},
   "source": [
    "La función ***intersection*** sirve para realizar la intersección entre varias listas dadas. Una canción es común cuando aparece en al menos dos listas, aunque no aparezca en el resto."
   ]
  },
  {
   "cell_type": "code",
   "execution_count": 131,
   "metadata": {},
   "outputs": [],
   "source": [
    "from collections import Counter\n",
    "from functools import reduce\n",
    "from operator import add\n",
    "\n",
    "def intersection(lists):\n",
    "    # Reduce las listas y cuenta las veces que aparece cada elemento\n",
    "    counter = Counter(reduce(add, lists))\n",
    "    \n",
    "    # Devuelve los elementos que aparecen en más de una lista\n",
    "    return [item for item, count in counter.items() if count > 1]"
   ]
  },
  {
   "cell_type": "markdown",
   "metadata": {},
   "source": [
    "La función ***merge_lists*** evita repetidos de manera eficiente"
   ]
  },
  {
   "cell_type": "code",
   "execution_count": 132,
   "metadata": {},
   "outputs": [],
   "source": [
    "def merge_lists(l1, l2, l3):\n",
    "    # Convertir l1 a un conjunto para búsquedas eficientes\n",
    "    s1 = set(l1)\n",
    "    s3 = set(l3)\n",
    "\n",
    "    # Crear una nueva lista para los elementos de l2 que no están en l1\n",
    "    l2 = [item for item in l2 if (item not in s1 and item not in s3)]\n",
    "\n",
    "    # Añadir los elementos de l2 a l1\n",
    "    l1.extend(l2)\n",
    "\n",
    "    return l1"
   ]
  },
  {
   "cell_type": "markdown",
   "metadata": {},
   "source": [
    "La función ***recommender_songs*** devuelve las canciones similares de una lista de canciones. Consiste en devolver las canciones comunes de las similares de cada canción y así sucesivamente hasta conseguir al menos 10."
   ]
  },
  {
   "cell_type": "code",
   "execution_count": 133,
   "metadata": {},
   "outputs": [],
   "source": [
    "def recommender_songs(songs_id, options):\n",
    "    ret = []\n",
    "    \n",
    "    similar_songs = []\n",
    "    \n",
    "    if len(songs_id) == 1: return recommender(songs_id[0],options)\n",
    "    \n",
    "    ids = songs_id.copy() # Copiamos los ids pasados\n",
    "    # Recorremos todas para obtener la lista de canciones similares de cada canción de seleccionada\n",
    "    # Luego se hace intersección\n",
    "    # De la intersección si no se ha llegado a 10 canciones en común, con esa intersección se vuelve a buscar las similares y comunes pero a estas y se añaden en la lista final las que no estén ya.\n",
    "    while len(ret) < 10:\n",
    "        for song_id in ids: \n",
    "            similar_songs.append(recommender(song_id,options))\n",
    "        \n",
    "        ids = intersection(similar_songs)\n",
    "        merge_lists(ret,ids,songs_id)\n",
    "    \n",
    "    return ret\n",
    "    "
   ]
  },
  {
   "cell_type": "markdown",
   "metadata": {},
   "source": [
    "Lo he probado y funciona"
   ]
  },
  {
   "cell_type": "code",
   "execution_count": 135,
   "metadata": {},
   "outputs": [
    {
     "name": "stderr",
     "output_type": "stream",
     "text": [
      "C:\\Users\\lmart\\AppData\\Local\\Temp\\ipykernel_16640\\1936094398.py:9: FutureWarning: Setting an item of incompatible dtype is deprecated and will raise in a future error of pandas. Value '[ 3.76439233  2.42088083  2.94335752 ... -1.31109555 -1.31109555\n",
      " -1.23645602]' has dtype incompatible with int64, please explicitly cast to a compatible dtype first.\n",
      "  scaled_features_copy.loc[:, col_to_normalize] = scaler.fit_transform(scaled_features_copy.loc[:, col_to_normalize])\n"
     ]
    },
    {
     "data": {
      "text/plain": [
       "[2, 3, 4, 7170, 5, 6, 7, 8, 9, 10]"
      ]
     },
     "execution_count": 135,
     "metadata": {},
     "output_type": "execute_result"
    }
   ],
   "source": [
    "recommender_songs([1],['popularity'])\n"
   ]
  },
  {
   "cell_type": "code",
   "execution_count": 134,
   "metadata": {},
   "outputs": [
    {
     "name": "stderr",
     "output_type": "stream",
     "text": [
      "C:\\Users\\lmart\\AppData\\Local\\Temp\\ipykernel_16640\\1936094398.py:9: FutureWarning: Setting an item of incompatible dtype is deprecated and will raise in a future error of pandas. Value '[ 3.76439233  2.42088083  2.94335752 ... -1.31109555 -1.31109555\n",
      " -1.23645602]' has dtype incompatible with int64, please explicitly cast to a compatible dtype first.\n",
      "  scaled_features_copy.loc[:, col_to_normalize] = scaler.fit_transform(scaled_features_copy.loc[:, col_to_normalize])\n"
     ]
    },
    {
     "name": "stderr",
     "output_type": "stream",
     "text": [
      "C:\\Users\\lmart\\AppData\\Local\\Temp\\ipykernel_16640\\1936094398.py:9: FutureWarning: Setting an item of incompatible dtype is deprecated and will raise in a future error of pandas. Value '[ 3.76439233  2.42088083  2.94335752 ... -1.31109555 -1.31109555\n",
      " -1.23645602]' has dtype incompatible with int64, please explicitly cast to a compatible dtype first.\n",
      "  scaled_features_copy.loc[:, col_to_normalize] = scaler.fit_transform(scaled_features_copy.loc[:, col_to_normalize])\n",
      "C:\\Users\\lmart\\AppData\\Local\\Temp\\ipykernel_16640\\1936094398.py:9: FutureWarning: Setting an item of incompatible dtype is deprecated and will raise in a future error of pandas. Value '[ 3.76439233  2.42088083  2.94335752 ... -1.31109555 -1.31109555\n",
      " -1.23645602]' has dtype incompatible with int64, please explicitly cast to a compatible dtype first.\n",
      "  scaled_features_copy.loc[:, col_to_normalize] = scaler.fit_transform(scaled_features_copy.loc[:, col_to_normalize])\n",
      "C:\\Users\\lmart\\AppData\\Local\\Temp\\ipykernel_16640\\1936094398.py:9: FutureWarning: Setting an item of incompatible dtype is deprecated and will raise in a future error of pandas. Value '[ 3.76439233  2.42088083  2.94335752 ... -1.31109555 -1.31109555\n",
      " -1.23645602]' has dtype incompatible with int64, please explicitly cast to a compatible dtype first.\n",
      "  scaled_features_copy.loc[:, col_to_normalize] = scaler.fit_transform(scaled_features_copy.loc[:, col_to_normalize])\n",
      "C:\\Users\\lmart\\AppData\\Local\\Temp\\ipykernel_16640\\1936094398.py:9: FutureWarning: Setting an item of incompatible dtype is deprecated and will raise in a future error of pandas. Value '[ 3.76439233  2.42088083  2.94335752 ... -1.31109555 -1.31109555\n",
      " -1.23645602]' has dtype incompatible with int64, please explicitly cast to a compatible dtype first.\n",
      "  scaled_features_copy.loc[:, col_to_normalize] = scaler.fit_transform(scaled_features_copy.loc[:, col_to_normalize])\n",
      "C:\\Users\\lmart\\AppData\\Local\\Temp\\ipykernel_16640\\1936094398.py:9: FutureWarning: Setting an item of incompatible dtype is deprecated and will raise in a future error of pandas. Value '[ 3.76439233  2.42088083  2.94335752 ... -1.31109555 -1.31109555\n",
      " -1.23645602]' has dtype incompatible with int64, please explicitly cast to a compatible dtype first.\n",
      "  scaled_features_copy.loc[:, col_to_normalize] = scaler.fit_transform(scaled_features_copy.loc[:, col_to_normalize])\n",
      "C:\\Users\\lmart\\AppData\\Local\\Temp\\ipykernel_16640\\1936094398.py:9: FutureWarning: Setting an item of incompatible dtype is deprecated and will raise in a future error of pandas. Value '[ 3.76439233  2.42088083  2.94335752 ... -1.31109555 -1.31109555\n",
      " -1.23645602]' has dtype incompatible with int64, please explicitly cast to a compatible dtype first.\n",
      "  scaled_features_copy.loc[:, col_to_normalize] = scaler.fit_transform(scaled_features_copy.loc[:, col_to_normalize])\n",
      "C:\\Users\\lmart\\AppData\\Local\\Temp\\ipykernel_16640\\1936094398.py:9: FutureWarning: Setting an item of incompatible dtype is deprecated and will raise in a future error of pandas. Value '[ 3.76439233  2.42088083  2.94335752 ... -1.31109555 -1.31109555\n",
      " -1.23645602]' has dtype incompatible with int64, please explicitly cast to a compatible dtype first.\n",
      "  scaled_features_copy.loc[:, col_to_normalize] = scaler.fit_transform(scaled_features_copy.loc[:, col_to_normalize])\n",
      "C:\\Users\\lmart\\AppData\\Local\\Temp\\ipykernel_16640\\1936094398.py:9: FutureWarning: Setting an item of incompatible dtype is deprecated and will raise in a future error of pandas. Value '[ 3.76439233  2.42088083  2.94335752 ... -1.31109555 -1.31109555\n",
      " -1.23645602]' has dtype incompatible with int64, please explicitly cast to a compatible dtype first.\n",
      "  scaled_features_copy.loc[:, col_to_normalize] = scaler.fit_transform(scaled_features_copy.loc[:, col_to_normalize])\n",
      "C:\\Users\\lmart\\AppData\\Local\\Temp\\ipykernel_16640\\1936094398.py:9: FutureWarning: Setting an item of incompatible dtype is deprecated and will raise in a future error of pandas. Value '[ 3.76439233  2.42088083  2.94335752 ... -1.31109555 -1.31109555\n",
      " -1.23645602]' has dtype incompatible with int64, please explicitly cast to a compatible dtype first.\n",
      "  scaled_features_copy.loc[:, col_to_normalize] = scaler.fit_transform(scaled_features_copy.loc[:, col_to_normalize])\n"
     ]
    },
    {
     "data": {
      "text/plain": [
       "[3, 4, 5, 6, 7, 8, 9, 10, 11, 9088]"
      ]
     },
     "execution_count": 134,
     "metadata": {},
     "output_type": "execute_result"
    }
   ],
   "source": [
    "recommender_songs([1,2],['popularity'])"
   ]
  }
 ],
 "metadata": {
  "kernelspec": {
   "display_name": "base",
   "language": "python",
   "name": "python3"
  },
  "language_info": {
   "codemirror_mode": {
    "name": "ipython",
    "version": 3
   },
   "file_extension": ".py",
   "mimetype": "text/x-python",
   "name": "python",
   "nbconvert_exporter": "python",
   "pygments_lexer": "ipython3",
   "version": "3.9.12"
  }
 },
 "nbformat": 4,
 "nbformat_minor": 2
}
