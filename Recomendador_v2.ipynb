{
 "cells": [
  {
   "cell_type": "markdown",
   "metadata": {},
   "source": [
    "## Recomendador con filtrado colaborativo"
   ]
  },
  {
   "cell_type": "markdown",
   "metadata": {},
   "source": [
    "Recomendador sin usar el framework de Surprise"
   ]
  },
  {
   "cell_type": "markdown",
   "metadata": {},
   "source": [
    "### Carga de datos"
   ]
  },
  {
   "cell_type": "markdown",
   "metadata": {},
   "source": [
    "Es necesario importar las librerías para nuestro recomendador."
   ]
  },
  {
   "cell_type": "code",
   "execution_count": 97,
   "metadata": {},
   "outputs": [],
   "source": [
    "import numpy as np\n",
    "import pandas as pd\n",
    "from sklearn.preprocessing import StandardScaler\n",
    "from sklearn.metrics.pairwise import cosine_similarity\n",
    "from sklearn.decomposition import TruncatedSVD\n",
    "from sklearn.cluster import KMeans\n",
    "from sklearn.metrics.pairwise import euclidean_distances\n",
    "from itertools import zip_longest, chain\n",
    "from sklearn.metrics.pairwise import cosine_distances\n",
    "from datetime import datetime"
   ]
  },
  {
   "cell_type": "markdown",
   "metadata": {},
   "source": [
    "Comenzamos cargando los datasets de las canciones junto a los ratings. El archivo original del dataset de las canciones incluía 1.2 millones de canciones por lo que se ha reducido el dataset a 50000 porque al no usar librerías específicas como Surprise no es eficiente y sobrepasa el uso de la memoria si utilizamos el dataset no reducido."
   ]
  },
  {
   "cell_type": "code",
   "execution_count": 98,
   "metadata": {},
   "outputs": [],
   "source": [
    "songs = pd.read_csv('spotify_data_mod_llaves.csv')\n",
    "#songs = pd.read_csv('spotify_data_mod_palo.csv')\n",
    "#songs = pd.read_csv('spotify_data_red.csv') Solo un género\n",
    "#songs = pd.read_csv('spotify_data.csv') Dataset original"
   ]
  },
  {
   "cell_type": "code",
   "execution_count": 99,
   "metadata": {},
   "outputs": [],
   "source": [
    "ratings = pd.read_csv('rating2.csv')"
   ]
  },
  {
   "cell_type": "markdown",
   "metadata": {},
   "source": [
    "### Explicación de los atributos de las canciones"
   ]
  },
  {
   "cell_type": "code",
   "execution_count": 100,
   "metadata": {},
   "outputs": [
    {
     "data": {
      "text/html": [
       "<div>\n",
       "<style scoped>\n",
       "    .dataframe tbody tr th:only-of-type {\n",
       "        vertical-align: middle;\n",
       "    }\n",
       "\n",
       "    .dataframe tbody tr th {\n",
       "        vertical-align: top;\n",
       "    }\n",
       "\n",
       "    .dataframe thead th {\n",
       "        text-align: right;\n",
       "    }\n",
       "</style>\n",
       "<table border=\"1\" class=\"dataframe\">\n",
       "  <thead>\n",
       "    <tr style=\"text-align: right;\">\n",
       "      <th></th>\n",
       "      <th>songId</th>\n",
       "      <th>artist_name</th>\n",
       "      <th>track_name</th>\n",
       "      <th>track_id</th>\n",
       "      <th>popularity</th>\n",
       "      <th>year</th>\n",
       "      <th>genre</th>\n",
       "      <th>danceability</th>\n",
       "      <th>energy</th>\n",
       "      <th>key</th>\n",
       "      <th>...</th>\n",
       "      <th>mode</th>\n",
       "      <th>speechiness</th>\n",
       "      <th>acousticness</th>\n",
       "      <th>instrumentalness</th>\n",
       "      <th>liveness</th>\n",
       "      <th>valence</th>\n",
       "      <th>tempo</th>\n",
       "      <th>duration_ms</th>\n",
       "      <th>time_signature</th>\n",
       "      <th>genres</th>\n",
       "    </tr>\n",
       "  </thead>\n",
       "  <tbody>\n",
       "    <tr>\n",
       "      <th>0</th>\n",
       "      <td>0</td>\n",
       "      <td>Jason Mraz</td>\n",
       "      <td>I Won't Give Up</td>\n",
       "      <td>53QF56cjZA9RTuuMZDrSA6</td>\n",
       "      <td>68</td>\n",
       "      <td>2012</td>\n",
       "      <td>acoustic</td>\n",
       "      <td>0.483</td>\n",
       "      <td>0.303</td>\n",
       "      <td>4</td>\n",
       "      <td>...</td>\n",
       "      <td>1</td>\n",
       "      <td>0.0429</td>\n",
       "      <td>0.6940</td>\n",
       "      <td>0.000000</td>\n",
       "      <td>0.1150</td>\n",
       "      <td>0.139</td>\n",
       "      <td>133.406</td>\n",
       "      <td>240166</td>\n",
       "      <td>3</td>\n",
       "      <td>{progressive-house,samba,sad,rock-n-roll,dubstep}</td>\n",
       "    </tr>\n",
       "    <tr>\n",
       "      <th>1</th>\n",
       "      <td>1</td>\n",
       "      <td>Jason Mraz</td>\n",
       "      <td>93 Million Miles</td>\n",
       "      <td>1s8tP3jP4GZcyHDsjvw218</td>\n",
       "      <td>50</td>\n",
       "      <td>2012</td>\n",
       "      <td>acoustic</td>\n",
       "      <td>0.572</td>\n",
       "      <td>0.454</td>\n",
       "      <td>3</td>\n",
       "      <td>...</td>\n",
       "      <td>1</td>\n",
       "      <td>0.0258</td>\n",
       "      <td>0.4770</td>\n",
       "      <td>0.000014</td>\n",
       "      <td>0.0974</td>\n",
       "      <td>0.515</td>\n",
       "      <td>140.182</td>\n",
       "      <td>216387</td>\n",
       "      <td>4</td>\n",
       "      <td>{rock}</td>\n",
       "    </tr>\n",
       "    <tr>\n",
       "      <th>2</th>\n",
       "      <td>2</td>\n",
       "      <td>Joshua Hyslop</td>\n",
       "      <td>Do Not Let Me Go</td>\n",
       "      <td>7BRCa8MPiyuvr2VU3O9W0F</td>\n",
       "      <td>57</td>\n",
       "      <td>2012</td>\n",
       "      <td>acoustic</td>\n",
       "      <td>0.409</td>\n",
       "      <td>0.234</td>\n",
       "      <td>3</td>\n",
       "      <td>...</td>\n",
       "      <td>1</td>\n",
       "      <td>0.0323</td>\n",
       "      <td>0.3380</td>\n",
       "      <td>0.000050</td>\n",
       "      <td>0.0895</td>\n",
       "      <td>0.145</td>\n",
       "      <td>139.832</td>\n",
       "      <td>158960</td>\n",
       "      <td>4</td>\n",
       "      <td>{rock-n-roll}</td>\n",
       "    </tr>\n",
       "    <tr>\n",
       "      <th>3</th>\n",
       "      <td>3</td>\n",
       "      <td>Boyce Avenue</td>\n",
       "      <td>Fast Car</td>\n",
       "      <td>63wsZUhUZLlh1OsyrZq7sz</td>\n",
       "      <td>58</td>\n",
       "      <td>2012</td>\n",
       "      <td>acoustic</td>\n",
       "      <td>0.392</td>\n",
       "      <td>0.251</td>\n",
       "      <td>10</td>\n",
       "      <td>...</td>\n",
       "      <td>1</td>\n",
       "      <td>0.0363</td>\n",
       "      <td>0.8070</td>\n",
       "      <td>0.000000</td>\n",
       "      <td>0.0797</td>\n",
       "      <td>0.508</td>\n",
       "      <td>204.961</td>\n",
       "      <td>304293</td>\n",
       "      <td>4</td>\n",
       "      <td>{german,classical}</td>\n",
       "    </tr>\n",
       "    <tr>\n",
       "      <th>4</th>\n",
       "      <td>4</td>\n",
       "      <td>Andrew Belle</td>\n",
       "      <td>Sky's Still Blue</td>\n",
       "      <td>6nXIYClvJAfi6ujLiKqEq8</td>\n",
       "      <td>54</td>\n",
       "      <td>2012</td>\n",
       "      <td>acoustic</td>\n",
       "      <td>0.430</td>\n",
       "      <td>0.791</td>\n",
       "      <td>6</td>\n",
       "      <td>...</td>\n",
       "      <td>0</td>\n",
       "      <td>0.0302</td>\n",
       "      <td>0.0726</td>\n",
       "      <td>0.019300</td>\n",
       "      <td>0.1100</td>\n",
       "      <td>0.217</td>\n",
       "      <td>171.864</td>\n",
       "      <td>244320</td>\n",
       "      <td>4</td>\n",
       "      <td>{ambient,sad}</td>\n",
       "    </tr>\n",
       "  </tbody>\n",
       "</table>\n",
       "<p>5 rows × 21 columns</p>\n",
       "</div>"
      ],
      "text/plain": [
       "   songId    artist_name        track_name                track_id  \\\n",
       "0       0     Jason Mraz   I Won't Give Up  53QF56cjZA9RTuuMZDrSA6   \n",
       "1       1     Jason Mraz  93 Million Miles  1s8tP3jP4GZcyHDsjvw218   \n",
       "2       2  Joshua Hyslop  Do Not Let Me Go  7BRCa8MPiyuvr2VU3O9W0F   \n",
       "3       3   Boyce Avenue          Fast Car  63wsZUhUZLlh1OsyrZq7sz   \n",
       "4       4   Andrew Belle  Sky's Still Blue  6nXIYClvJAfi6ujLiKqEq8   \n",
       "\n",
       "   popularity  year     genre  danceability  energy  key  ...  mode  \\\n",
       "0          68  2012  acoustic         0.483   0.303    4  ...     1   \n",
       "1          50  2012  acoustic         0.572   0.454    3  ...     1   \n",
       "2          57  2012  acoustic         0.409   0.234    3  ...     1   \n",
       "3          58  2012  acoustic         0.392   0.251   10  ...     1   \n",
       "4          54  2012  acoustic         0.430   0.791    6  ...     0   \n",
       "\n",
       "   speechiness  acousticness  instrumentalness  liveness  valence    tempo  \\\n",
       "0       0.0429        0.6940          0.000000    0.1150    0.139  133.406   \n",
       "1       0.0258        0.4770          0.000014    0.0974    0.515  140.182   \n",
       "2       0.0323        0.3380          0.000050    0.0895    0.145  139.832   \n",
       "3       0.0363        0.8070          0.000000    0.0797    0.508  204.961   \n",
       "4       0.0302        0.0726          0.019300    0.1100    0.217  171.864   \n",
       "\n",
       "   duration_ms  time_signature  \\\n",
       "0       240166               3   \n",
       "1       216387               4   \n",
       "2       158960               4   \n",
       "3       304293               4   \n",
       "4       244320               4   \n",
       "\n",
       "                                              genres  \n",
       "0  {progressive-house,samba,sad,rock-n-roll,dubstep}  \n",
       "1                                             {rock}  \n",
       "2                                      {rock-n-roll}  \n",
       "3                                 {german,classical}  \n",
       "4                                      {ambient,sad}  \n",
       "\n",
       "[5 rows x 21 columns]"
      ]
     },
     "execution_count": 100,
     "metadata": {},
     "output_type": "execute_result"
    }
   ],
   "source": [
    "# cargamos las primeras filas para ver las columnas del dataset\n",
    "songs.head()"
   ]
  },
  {
   "cell_type": "code",
   "execution_count": 101,
   "metadata": {},
   "outputs": [
    {
     "data": {
      "text/html": [
       "<div>\n",
       "<style scoped>\n",
       "    .dataframe tbody tr th:only-of-type {\n",
       "        vertical-align: middle;\n",
       "    }\n",
       "\n",
       "    .dataframe tbody tr th {\n",
       "        vertical-align: top;\n",
       "    }\n",
       "\n",
       "    .dataframe thead th {\n",
       "        text-align: right;\n",
       "    }\n",
       "</style>\n",
       "<table border=\"1\" class=\"dataframe\">\n",
       "  <thead>\n",
       "    <tr style=\"text-align: right;\">\n",
       "      <th></th>\n",
       "      <th>userId</th>\n",
       "      <th>songId</th>\n",
       "      <th>rating</th>\n",
       "      <th>timestamp</th>\n",
       "    </tr>\n",
       "  </thead>\n",
       "  <tbody>\n",
       "    <tr>\n",
       "      <th>0</th>\n",
       "      <td>1</td>\n",
       "      <td>4506</td>\n",
       "      <td>0</td>\n",
       "      <td>1705966778</td>\n",
       "    </tr>\n",
       "    <tr>\n",
       "      <th>1</th>\n",
       "      <td>1</td>\n",
       "      <td>2957</td>\n",
       "      <td>1</td>\n",
       "      <td>1705951830</td>\n",
       "    </tr>\n",
       "    <tr>\n",
       "      <th>2</th>\n",
       "      <td>1</td>\n",
       "      <td>9681</td>\n",
       "      <td>1</td>\n",
       "      <td>1705978128</td>\n",
       "    </tr>\n",
       "    <tr>\n",
       "      <th>3</th>\n",
       "      <td>1</td>\n",
       "      <td>9994</td>\n",
       "      <td>0</td>\n",
       "      <td>1705982837</td>\n",
       "    </tr>\n",
       "    <tr>\n",
       "      <th>4</th>\n",
       "      <td>1</td>\n",
       "      <td>1829</td>\n",
       "      <td>1</td>\n",
       "      <td>1705974094</td>\n",
       "    </tr>\n",
       "  </tbody>\n",
       "</table>\n",
       "</div>"
      ],
      "text/plain": [
       "   userId  songId  rating   timestamp\n",
       "0       1    4506       0  1705966778\n",
       "1       1    2957       1  1705951830\n",
       "2       1    9681       1  1705978128\n",
       "3       1    9994       0  1705982837\n",
       "4       1    1829       1  1705974094"
      ]
     },
     "execution_count": 101,
     "metadata": {},
     "output_type": "execute_result"
    }
   ],
   "source": [
    "ratings.head()"
   ]
  },
  {
   "cell_type": "markdown",
   "metadata": {},
   "source": [
    "Definición de los atributos\n",
    "+ ***artist_name***: nombre del artista\n",
    "- ***track_name***: nombre de la canción\n",
    "+ ***track_id***: id único de la canción es Spotify\n",
    "- ***popularity***: cuanto más alto es el valor, más popular es la canción (0-100)\n",
    "+ ***year***: año de lanzamiento de la canción\n",
    "- ***genre***: género de la canción\n",
    "+ ***danceability***: describe lo adecuada que es una pista para bailar basándose en una combinación de elementos musicales como el tempo, la estabilidad del ritmo, la fuerza del compás y la regularidad general. Un valor de 0.0 es el menos bailable y 1.0 el más bailable (0.0-1.0)\n",
    "- ***energy***: medida que representa una medida perceptiva de intensidad y actividad (0.0-1.0)\n",
    "+ ***key***: tonalidad de la pista y los números enteros se asignan a tonos utilizando la notación estándar Pitch Class. Por ejemplo, 0 = C, 1 = C♯/D♭, 2 = D, y así sucesivamente. Si no se detectó ninguna clave, el valor es -1 (-1-10)\n",
    "- ***loudness***: en decibelios (dB). Los valores de sonoridad se promedian en toda la pista y son útiles para comparar la sonoridad relativa de las pistas. La sonoridad es la cualidad de un sonido que es el principal correlato psicológico de la fuerza física (amplitud). Los valores suelen oscilar entre -60 y 0 db (-60-0dB)\n",
    "+ ***mode***: indica la modalidad (mayor o menor) de una pista, el tipo de escala del que se deriva su contenido melódico. Mayor se representa con 1 y menor con 0\n",
    "- ***speechiness***: detecta la presencia de palabras habladas en una pista. Cuanto más exclusivamente hablada sea la grabación (por ejemplo, programa de entrevistas, audiolibro, poesía), más se acercará a 1.0 el valor del atributo. Los valores superiores a 0,66 describen pistas que probablemente estén compuestas en su totalidad por palabras habladas. Los valores entre 0.33 y 0.66 describen pistas que pueden contener tanto música como voz, ya sea en secciones o en capas, incluyendo casos como la música rap. Los valores inferiores a 0.33 representan probablemente música y otras pistas no habladas\n",
    "+ ***acousticness***: medida de confianza de 0.0 a 1.0 de si la pista es acústica. 1,0 representa una confianza alta en que la pista es acústica (0.0-1.0)\n",
    "- ***instrumentalness***: predice si una pista no contiene voces. Los sonidos \"ooh\" y \"aah\" se consideran instrumentales en este contexto. Las pistas de rap o spoken word son claramente \"vocales\". Cuanto más se acerque el valor de instrumental a 1.0, mayor será la probabilidad de que la pista no contenga voces. Los valores superiores a 0.5 representan pistas instrumentales, pero la confianza es mayor a medida que el valor se acerca a 1.0 (0.0-1.0)\n",
    "+ ***liveness***: detecta la presencia de público en la grabación. Los valores de liveness más altos representan una mayor probabilidad de que la pista se haya interpretado en directo. Un valor superior a 0.8 indica una gran probabilidad de que la pista se haya grabado en directo (0.0-1.0)\n",
    "- ***valence***: medida de 0.0 a 1.0 que describe la positividad musical que transmite una pista. Las pistas con valencia alta suenan más positivas (por ejemplo, felices, alegres, eufóricas), mientras que las pistas con valencia baja suenan más negativas (por ejemplo, tristes, deprimidas, enfadadas) (0.0-1.0)\n",
    "+ ***tempo***: en pulsaciones por minuto (BPM). En terminología musical, el tempo es la velocidad o el ritmo de una pieza determinada y se deriva directamente de la duración media del compás\n",
    "- ***duration_ms***: duración de la pista en milisegundos\n",
    "+ ***time_signature***: convención notacional para especificar cuántos tiempos hay en cada compás (3-7)\n",
    "\n"
   ]
  },
  {
   "cell_type": "markdown",
   "metadata": {},
   "source": [
    "### Matriz de Correlación entre géneros (antigua)"
   ]
  },
  {
   "cell_type": "markdown",
   "metadata": {},
   "source": [
    "Vamos a contar los diferentes géneros que hay para empezar a crear la matriz de correlación entre los distintos géneros."
   ]
  },
  {
   "cell_type": "code",
   "execution_count": 102,
   "metadata": {},
   "outputs": [],
   "source": [
    "#from collections import Counter\n",
    "#genre_frequency = Counter(songs['genre'])\n",
    "#print(f\"Hay {len(genre_frequency)} géneros.\")\n",
    "#genre_frequency"
   ]
  },
  {
   "cell_type": "markdown",
   "metadata": {},
   "source": [
    "Lo escribimos en archivo para una mejor visualización, aunque no es necesario."
   ]
  },
  {
   "cell_type": "code",
   "execution_count": 103,
   "metadata": {},
   "outputs": [],
   "source": [
    "# Nombre del archivo\n",
    "#file_name = 'genres.txt'\n",
    "#genres = []\n",
    "\n",
    "# Abrir el archivo en modo escritura\n",
    "#with open(file_name, 'w') as archivo:\n",
    "    # Iterar sobre la lista y escribir cada elemento en una nueva línea\n",
    "    #for genre in songs:\n",
    "        #archivo.write(str(genre) + '\\n')\n",
    "        #genres.append(genre)"
   ]
  },
  {
   "cell_type": "markdown",
   "metadata": {},
   "source": [
    "Obtenemos la similitud entre géneros a través del parecido por texto, es decir, son parecidos los géneros como punk y punk-rock pero entre punk y romance, debido a que la primera pareja contiene punk en ambos."
   ]
  },
  {
   "cell_type": "code",
   "execution_count": 104,
   "metadata": {},
   "outputs": [],
   "source": [
    "#from sklearn.feature_extraction.text import TfidfVectorizer\n",
    "#from sklearn.metrics.pairwise import cosine_similarity\n",
    "\n",
    "# Convert genre names to TF-IDF vectors\n",
    "#vectorizer = TfidfVectorizer()\n",
    "#genre_vectors = vectorizer.fit_transform(genres)\n",
    "\n",
    "# Calculate cosine similarity between genre vectors\n",
    "#cosine_sim_genre = cosine_similarity(genre_vectors, genre_vectors)"
   ]
  },
  {
   "cell_type": "code",
   "execution_count": 105,
   "metadata": {},
   "outputs": [],
   "source": [
    "#cosine_sim_genre #visualizamos la matriz de similitud"
   ]
  },
  {
   "cell_type": "markdown",
   "metadata": {},
   "source": [
    "Para probar el ejemplo comentado arriba, probamos a ver la similitud entre punk y punk-rock y entre punk y romance"
   ]
  },
  {
   "cell_type": "code",
   "execution_count": 106,
   "metadata": {},
   "outputs": [],
   "source": [
    "#print('Similitud entre ', genres[61], ' y ', genres[62], ': ', cosine_sim_genre[61][62])\n",
    "#print('Similitud entre ', genres[61], ' y ', genres[65], ': ', cosine_sim_genre[61][65])"
   ]
  },
  {
   "cell_type": "markdown",
   "metadata": {},
   "source": [
    "Debido que a nuestro dataset no contiene una lista de todos los géneos de la canción en esta primera fase (antes de la conexión con la API de Spotify) se descarta una posible recomendación por géneros mediante una vectorización de estos en binario. En su lugar usaremos por parecido de nombre con TF-IDF (no se ha aplicado todavía)"
   ]
  },
  {
   "cell_type": "markdown",
   "metadata": {},
   "source": [
    "### Recomendación de géneros"
   ]
  },
  {
   "cell_type": "code",
   "execution_count": 107,
   "metadata": {},
   "outputs": [],
   "source": [
    "# Hay que llamar esta función al iniciar la aplicación\n",
    "def cosine_genre():\n",
    "    # Eliminar los caracteres \"{\" y \"}\"\n",
    "    songs['genres'] = songs['genres'].str.replace('{', '').str.replace('}', '')\n",
    "    #print(songs['genres'])\n",
    "\n",
    "    # Dividir la columna 'genres' por comas\n",
    "    songs['genres'] = songs['genres'].apply(lambda x: x.split(\",\"))\n",
    "    #songs['genres'] = songs['genres'].apply(lambda x: x.split(\"|\"))\n",
    "    \n",
    "\n",
    "\n",
    "    col_del = [\"songId\",\t\"artist_name\",\t\"track_name\",\t\"track_id\", \"popularity\", \"year\", \"genre\",\t\"danceability\",\t\"energy\",\t\"key\",\t\"loudness\",\t\"mode\",\t\"speechiness\",\t\"acousticness\",\t\"instrumentalness\",\t\"liveness\",\t\"valence\",\t\"tempo\",\t\"duration_ms\",\t\"time_signature\", \"genres\"]\n",
    "\n",
    "    songsAux = songs.copy()\n",
    "\n",
    "    genres = set(g for G in songsAux['genres'] for g in G)\n",
    "\n",
    "    for g in genres:\n",
    "        songsAux[g] = songsAux.genres.transform(lambda x: int(g in x))\n",
    "        \n",
    "    song_genre = songsAux.drop(columns=col_del)\n",
    "    print(song_genre.head())\n",
    "    print(song_genre['progressive-house'][0])\n",
    "\n",
    "    cosine_sim_genre = cosine_similarity(song_genre, song_genre)\n",
    "\n",
    "    return cosine_sim_genre"
   ]
  },
  {
   "cell_type": "code",
   "execution_count": 108,
   "metadata": {},
   "outputs": [],
   "source": [
    "# song_genre.head()"
   ]
  },
  {
   "cell_type": "code",
   "execution_count": 109,
   "metadata": {},
   "outputs": [
    {
     "data": {
      "text/plain": [
       "0       {progressive-house,samba,sad,rock-n-roll,dubstep}\n",
       "1                                                  {rock}\n",
       "2                                           {rock-n-roll}\n",
       "3                                      {german,classical}\n",
       "4                                           {ambient,sad}\n",
       "                              ...                        \n",
       "9995                                      {jazz,cantopop}\n",
       "9996                         {disco,grindcore,sleep,jazz}\n",
       "9997                 {disco,opera,funk,singer-songwriter}\n",
       "9998                     {drum-and-bass,house,psych-rock}\n",
       "9999                 {new-age,punk-rock,indian,grindcore}\n",
       "Name: genres, Length: 10000, dtype: object"
      ]
     },
     "execution_count": 109,
     "metadata": {},
     "output_type": "execute_result"
    }
   ],
   "source": [
    "songs['genres']"
   ]
  },
  {
   "cell_type": "code",
   "execution_count": 110,
   "metadata": {},
   "outputs": [
    {
     "name": "stdout",
     "output_type": "stream",
     "text": [
      "   edm  house  hard-rock  drum-and-bass  goth  samba  classical  ska  chill  \\\n",
      "0    0      0          0              0     0      1          0    0      0   \n",
      "1    0      0          0              0     0      0          0    0      0   \n",
      "2    0      0          0              0     0      0          0    0      0   \n",
      "3    0      0          0              0     0      0          1    0      0   \n",
      "4    0      0          0              0     0      0          0    0      0   \n",
      "\n",
      "   sad  ...  electro  jazz  blues  dancehall  sleep  indie-pop  dub  new-age  \\\n",
      "0    1  ...        0     0      0          0      0          0    0        0   \n",
      "1    0  ...        0     0      0          0      0          0    0        0   \n",
      "2    0  ...        0     0      0          0      0          0    0        0   \n",
      "3    0  ...        0     0      0          0      0          0    0        0   \n",
      "4    1  ...        0     0      0          0      0          0    0        0   \n",
      "\n",
      "   acoustic  pop  \n",
      "0         0    0  \n",
      "1         0    0  \n",
      "2         0    0  \n",
      "3         0    0  \n",
      "4         0    0  \n",
      "\n",
      "[5 rows x 74 columns]\n",
      "1\n",
      "Dimensiones de la matriz de similitud del coseno entre los géneros: (10000, 10000)\n"
     ]
    }
   ],
   "source": [
    "cosine_sim_genre = cosine_genre()\n",
    "print(f\"Dimensiones de la matriz de similitud del coseno entre los géneros: {cosine_sim_genre.shape}\")"
   ]
  },
  {
   "cell_type": "code",
   "execution_count": 111,
   "metadata": {},
   "outputs": [
    {
     "data": {
      "text/plain": [
       "array([[1.       , 0.       , 0.4472136, ..., 0.       , 0.       ,\n",
       "        0.       ],\n",
       "       [0.       , 1.       , 0.       , ..., 0.       , 0.       ,\n",
       "        0.       ],\n",
       "       [0.4472136, 0.       , 1.       , ..., 0.       , 0.       ,\n",
       "        0.       ],\n",
       "       ...,\n",
       "       [0.       , 0.       , 0.       , ..., 1.       , 0.       ,\n",
       "        0.       ],\n",
       "       [0.       , 0.       , 0.       , ..., 0.       , 1.       ,\n",
       "        0.       ],\n",
       "       [0.       , 0.       , 0.       , ..., 0.       , 0.       ,\n",
       "        1.       ]])"
      ]
     },
     "execution_count": 111,
     "metadata": {},
     "output_type": "execute_result"
    }
   ],
   "source": [
    "cosine_sim_genre"
   ]
  },
  {
   "cell_type": "markdown",
   "metadata": {},
   "source": [
    "### Recomendador Filtrado Colaborativo"
   ]
  },
  {
   "cell_type": "markdown",
   "metadata": {},
   "source": [
    "Código tomado de los apuntes de la directora del TFG."
   ]
  },
  {
   "cell_type": "markdown",
   "metadata": {},
   "source": [
    "El filtrado colaborativo se basa en recomendaciones por personas de gustos similares.\n",
    "\n",
    "Vamos a crear una matriz de dispersión o de utilidad (usuario-elemento), para ello hemos creado la función create_X()."
   ]
  },
  {
   "cell_type": "code",
   "execution_count": 112,
   "metadata": {},
   "outputs": [],
   "source": [
    "from scipy.sparse import csr_matrix\n",
    "\n",
    "def create_X(df):\n",
    "    \"\"\"\n",
    "    Genera una matriz dispersa a partir del marco de datos de calificaciones.\n",
    "    \n",
    "    Argumentos:\n",
    "        df: dataframe de pandas que contiene 3 columnas (userId, songId, rating)\n",
    "    \n",
    "    Devoluciones:\n",
    "        X: matriz dispersa\n",
    "        user_mapper: dict que asigna las identificaciones de usuario a los índices de usuario\n",
    "        user_inv_mapper: dict que asigna índices de usuario a ID de usuario\n",
    "        song_mapper: dict que asigna las identificaciones de canciones a los índices de canciones\n",
    "        song_inv_mapper: dict que asigna índices de canciones a ID de canciones\n",
    "        \n",
    "    \"\"\"\n",
    "    M = df['userId'].nunique()\n",
    "    N = df['songId'].nunique()\n",
    "\n",
    "    user_mapper = dict(zip(np.unique(df[\"userId\"]), list(range(M))))\n",
    "    song_mapper = dict(zip(np.unique(df[\"songId\"]), list(range(N))))\n",
    "    \n",
    "    user_inv_mapper = dict(zip(list(range(M)), np.unique(df[\"userId\"])))\n",
    "    song_inv_mapper = dict(zip(list(range(N)), np.unique(df[\"songId\"])))\n",
    "    \n",
    "    user_index = [user_mapper[i] for i in df['userId']]\n",
    "    item_index = [song_mapper[i] for i in df['songId']]\n",
    "\n",
    "    X = csr_matrix((df[\"rating\"], (user_index,item_index)), shape=(M,N))\n",
    "    \n",
    "    return X, user_mapper, song_mapper, user_inv_mapper, song_inv_mapper\n",
    "\n",
    "X, user_mapper, song_mapper, user_inv_mapper, song_inv_mapper = create_X(ratings)"
   ]
  },
  {
   "cell_type": "markdown",
   "metadata": {},
   "source": [
    "#### Dispersión"
   ]
  },
  {
   "cell_type": "markdown",
   "metadata": {},
   "source": [
    "La dispersión se calcula dividiendo el número de elementos almacenados en la matriz entre el número total de elementos."
   ]
  },
  {
   "cell_type": "code",
   "execution_count": 113,
   "metadata": {},
   "outputs": [
    {
     "name": "stdout",
     "output_type": "stream",
     "text": [
      "Matrix sparsity: 19.1%\n"
     ]
    }
   ],
   "source": [
    "n_total = X.shape[0]*X.shape[1]\n",
    "n_ratings = X.nnz\n",
    "sparsity = n_ratings/n_total\n",
    "print(f\"Matrix sparsity: {round(sparsity*100,2)}%\")"
   ]
  },
  {
   "cell_type": "markdown",
   "metadata": {},
   "source": [
    "Vemos que hay un 19.1% de dispersión que es mucho y eso indica que hay el problema cold-start (no todas las canciones están calificadas y entonces esas canciones se recomiendan menos)"
   ]
  },
  {
   "cell_type": "code",
   "execution_count": 114,
   "metadata": {},
   "outputs": [
    {
     "name": "stdout",
     "output_type": "stream",
     "text": [
      "Hay 10001 canciones con ratings.\n"
     ]
    }
   ],
   "source": [
    "n_ratings_per_song = X.getnnz(axis=0)\n",
    "\n",
    "print(f\"Hay {len(n_ratings_per_song)} canciones con ratings.\")"
   ]
  },
  {
   "cell_type": "markdown",
   "metadata": {},
   "source": [
    "#### Normalización de datos"
   ]
  },
  {
   "cell_type": "markdown",
   "metadata": {},
   "source": [
    "Vamos a calcular la media de puntuación de cada canción. Hay que recordar que las calificaciones son 0 o 1, es decir, no le gusta o le gusta al usuario."
   ]
  },
  {
   "cell_type": "code",
   "execution_count": 115,
   "metadata": {},
   "outputs": [],
   "source": [
    "#Calcula la media por canción\n",
    "sum_ratings_per_song = X.sum(axis=0)\n",
    "mean_rating_per_song = sum_ratings_per_song/n_ratings_per_song"
   ]
  },
  {
   "cell_type": "code",
   "execution_count": 116,
   "metadata": {},
   "outputs": [],
   "source": [
    "#Crear una nueva matriz con la media de valoración\n",
    "X_mean_song = np.tile(mean_rating_per_song, (X.shape[0],1))"
   ]
  },
  {
   "cell_type": "code",
   "execution_count": 117,
   "metadata": {},
   "outputs": [
    {
     "data": {
      "text/plain": [
       "(610, 10001)"
      ]
     },
     "execution_count": 117,
     "metadata": {},
     "output_type": "execute_result"
    }
   ],
   "source": [
    "X_mean_song.shape \n",
    "#Vamos a ver el tamaño de la matriz que será usuarios x canciones valoradas"
   ]
  },
  {
   "cell_type": "code",
   "execution_count": 118,
   "metadata": {},
   "outputs": [],
   "source": [
    "#Normalizamos los datos\n",
    "X_norm = X - csr_matrix(X_mean_song)"
   ]
  },
  {
   "cell_type": "markdown",
   "metadata": {},
   "source": [
    "Veamos ahora como están los valores nuevos"
   ]
  },
  {
   "cell_type": "code",
   "execution_count": 119,
   "metadata": {},
   "outputs": [
    {
     "name": "stdout",
     "output_type": "stream",
     "text": [
      "Original X: [[0 0 1 ... 0 0 0]]\n",
      "Normalized X: [[-0.47244094 -0.51162791  0.59859155 ... -0.5        -0.525\n",
      "  -0.56410256]]\n"
     ]
    }
   ],
   "source": [
    "print(\"Original X:\", X[0].todense())\n",
    "print(\"Normalized X:\", X_norm[0].todense())"
   ]
  },
  {
   "cell_type": "markdown",
   "metadata": {},
   "source": [
    "#### Recomendador filtrado colaborativo Item-Item con k-NN"
   ]
  },
  {
   "cell_type": "markdown",
   "metadata": {},
   "source": [
    "Ahora vamos a hacer el recomendador como tal que será mediante el algoritmo de k-NN obtiene las k canciones más similares dado un id de una canción y esa similitud estará definida solamente por las puntuaciones más parecidas"
   ]
  },
  {
   "cell_type": "code",
   "execution_count": 120,
   "metadata": {},
   "outputs": [],
   "source": [
    "from sklearn.neighbors import NearestNeighbors\n",
    "\n",
    "def find_similar_songs(song_id, X, song_mapper, song_inv_mapper, k, metric='cosine'):\n",
    "    \"\"\"\n",
    "    Encuentra los k vecinos más cercanos para una canción dada.\n",
    "    \n",
    "    Argumentos:\n",
    "        song_id: id de la canción de interés\n",
    "        X: matriz de utilidad user-item\n",
    "        k: número de canción similares que queremos recuperar\n",
    "        métrica: métrica de distancia para los cálculos de kNN\n",
    "    \n",
    "    Salida: devuelve una lista de k ID de canciones similares\n",
    "    \"\"\"\n",
    "    X = X.T\n",
    "    neighbour_ids = []\n",
    "    \n",
    "    song_ind = song_mapper[song_id]\n",
    "    song_vec = X[song_ind]\n",
    "    if isinstance(song_vec, (np.ndarray)):\n",
    "        song_vec = song_vec.reshape(1,-1)\n",
    "    # usamos k+1 porque la salida kNN incluye la canción de ID = song_id\n",
    "    kNN = NearestNeighbors(n_neighbors=k+1, algorithm=\"brute\", metric=metric)\n",
    "    kNN.fit(X)\n",
    "    neighbour = kNN.kneighbors(song_vec, return_distance=False)\n",
    "    for i in range(0,k):\n",
    "        n = neighbour.item(i)\n",
    "        neighbour_ids.append(song_inv_mapper[n])\n",
    "    neighbour_ids.pop(0)\n",
    "    return neighbour_ids"
   ]
  },
  {
   "cell_type": "markdown",
   "metadata": {},
   "source": [
    "Probemos con la segunda canción del dataset"
   ]
  },
  {
   "cell_type": "code",
   "execution_count": 121,
   "metadata": {},
   "outputs": [
    {
     "data": {
      "text/plain": [
       "[8010, 8288, 6259, 5864, 6668, 3731, 8044, 6833, 5643]"
      ]
     },
     "execution_count": 121,
     "metadata": {},
     "output_type": "execute_result"
    }
   ],
   "source": [
    "similar_songs = find_similar_songs(1, X_norm, song_mapper, song_inv_mapper, k=10)\n",
    "similar_songs"
   ]
  },
  {
   "cell_type": "markdown",
   "metadata": {},
   "source": [
    "A partir de ids no podemos saber que canciones son las recomendadas por lo que vamos a implementar código para que ese id lo transforme a una lista de información de la canción."
   ]
  },
  {
   "cell_type": "markdown",
   "metadata": {},
   "source": [
    "Probamos la recomendación con dos tipos distintos de métricas\n",
    "\n",
    "1. Métrica de similitud por Coseno"
   ]
  },
  {
   "cell_type": "code",
   "execution_count": 122,
   "metadata": {},
   "outputs": [
    {
     "name": "stdout",
     "output_type": "stream",
     "text": [
      "porque has escuchado ... 93 Million Miles de Jason Mraz (acoustic, 2012) te recomendamos:\n",
      "The Groove de Evil Needle (chill, 2012)\n",
      "Kamome de Openzone Bar (chill, 2012)\n",
      "New Jazz Go Home - Thugfucker Remix de Malente (breakbeat, 2012)\n",
      "More Contempt - Guau Remix de Aggresivnes (breakbeat, 2012)\n",
      "The One de Raymond Lam (cantopop, 2012)\n",
      "The Shivering Voice of the Ghost de Gehenna (black-metal, 2012)\n",
      "Night on Park Rouge de Openzone Bar (chill, 2012)\n",
      "紀念日 de Kelly Chen (cantopop, 2012)\n",
      "Shellshock - Original de Noisia (breakbeat, 2012)\n"
     ]
    }
   ],
   "source": [
    "song_titles = dict(zip(songs['songId'], songs['track_name']))\n",
    "\n",
    "song_id = 1\n",
    "\n",
    "similar_song = find_similar_songs(song_id, X_norm, song_mapper, song_inv_mapper, metric='cosine', k=10)\n",
    "song_title = song_titles[song_id] # Saca el título de la canción\n",
    "song_row = songs.loc[songs['songId'] == song_id] # Obtiene la columna que contiene el id de esa canción\n",
    "song_artist = song_row['artist_name'].values[0] #Obtiene el nombre del artista\n",
    "song_genre = song_row['genre'].values[0] #Obtiene el género de la canción\n",
    "song_year = song_row['year'].values[0] #Obtiene el año de la canción\n",
    "\n",
    "print(f\"porque has escuchado ... {song_title} de {song_artist} ({song_genre}, {song_year}) te recomendamos:\")\n",
    "for i in similar_song:\n",
    "    row_i = songs.loc[songs['songId'] == i]\n",
    "    artist_i = row_i['artist_name'].values[0]\n",
    "    genre_i = row_i['genre'].values[0]\n",
    "    year_i = row_i['year'].values[0]\n",
    "    print(f\"{song_titles[i]} de {artist_i} ({genre_i}, {year_i})\")"
   ]
  },
  {
   "cell_type": "markdown",
   "metadata": {},
   "source": [
    "2. Métrica de similitud por Euclidea"
   ]
  },
  {
   "cell_type": "code",
   "execution_count": 123,
   "metadata": {},
   "outputs": [
    {
     "name": "stdout",
     "output_type": "stream",
     "text": [
      "porque has escuchado ... 93 Million Miles de Jason Mraz (acoustic, 2012) te recomendamos:\n",
      "More Contempt - Guau Remix de Aggresivnes (breakbeat, 2012)\n",
      "Balladen Om Bifrost de Einherjer (black-metal, 2012)\n",
      "Forever Young de Alan Tam (cantopop, 2012)\n",
      "千風歌 de Christopher Wong (cantopop, 2012)\n",
      "Take A Swing de Rektchordz (breakbeat, 2012)\n",
      "New Jazz Go Home - Thugfucker Remix de Malente (breakbeat, 2012)\n",
      "留住秋色 de Jacky Cheung (cantopop, 2012)\n",
      "Things Are Changin' de Gary Clark Jr. (blues, 2012)\n",
      "Going Back To New Orleans de Joe Liggins (blues, 2012)\n"
     ]
    }
   ],
   "source": [
    "song_id = 1\n",
    "\n",
    "similar_song = find_similar_songs(song_id, X_norm, song_mapper, song_inv_mapper, metric='euclidean', k=10)\n",
    "song_title = song_titles[song_id]\n",
    "song_row = songs.loc[songs['songId'] == song_id]\n",
    "song_artist = song_row['artist_name'].values[0]\n",
    "song_genre = song_row['genre'].values[0]\n",
    "song_year = song_row['year'].values[0]\n",
    "\n",
    "print(f\"porque has escuchado ... {song_title} de {song_artist} ({song_genre}, {song_year}) te recomendamos:\")\n",
    "for i in similar_song:\n",
    "    row_i = songs.loc[songs['songId'] == i]\n",
    "    artist_i = row_i['artist_name'].values[0]\n",
    "    genre_i = row_i['genre'].values[0]\n",
    "    year_i = row_i['year'].values[0]\n",
    "    print(f\"{song_titles[i]} de {artist_i} ({genre_i}, {year_i})\")"
   ]
  },
  {
   "cell_type": "markdown",
   "metadata": {},
   "source": [
    "#### Cold-start"
   ]
  },
  {
   "cell_type": "markdown",
   "metadata": {},
   "source": [
    "Como se ha comentado antes, cold-star es un problema que aparece cuando no todas las canciones tienen valoraciones o tienen muy pocas. Para solucionarlo crearemos otro recomendador pero basado en contenido. La recomendación será acorde con los atributos que escoja el usuario."
   ]
  },
  {
   "cell_type": "code",
   "execution_count": 124,
   "metadata": {},
   "outputs": [
    {
     "name": "stdout",
     "output_type": "stream",
     "text": [
      "Hay 10000 películas en el dataset.\n"
     ]
    }
   ],
   "source": [
    "n_songs = songs['songId'].nunique()\n",
    "print(f\"Hay {n_songs} películas en el dataset.\")"
   ]
  },
  {
   "cell_type": "markdown",
   "metadata": {},
   "source": [
    "Vamos a hacer una función en la que el usuario pase los atributos (posiciones, ya se verá con la interfaz) que quiere incluir para su recomendación. El campo de género se incluirá en otra versión."
   ]
  },
  {
   "cell_type": "markdown",
   "metadata": {},
   "source": [
    "Los atributos que puede elegir género, año, duración y popularidad. El resto de atributos se tendrán en cuenta pero con menor porcentaje."
   ]
  },
  {
   "cell_type": "code",
   "execution_count": 125,
   "metadata": {},
   "outputs": [],
   "source": [
    "#Atributos que usuario puede elegir\n",
    "col_optional = [\"popularity\", \"year\", \"genre\",\t\"duration_ms\"]\n",
    "#Atributos restantes y más específicos\n",
    "col_specific = [\"danceability\",\t\"energy\",\t\"key\",\t\"loudness\",\t\"mode\",\t\"speechiness\",\t\"acousticness\",\t\"instrumentalness\",\t\"liveness\",\t\"valence\",\t\"tempo\",\t\"time_signature\"]"
   ]
  },
  {
   "cell_type": "markdown",
   "metadata": {},
   "source": [
    "Para hacer la matriz de correlación es mejor normalizar los valores ya que son muy dispersos entre sí. Esto se sabe porque hay atributos como loudness que va desde -60 a 0 y liveness de 0.0 a 1.0, por lo que hay que hacer sean más o menos parecidos."
   ]
  },
  {
   "cell_type": "code",
   "execution_count": 126,
   "metadata": {},
   "outputs": [
    {
     "data": {
      "text/plain": [
       "songId                                   1\n",
       "artist_name                     Jason Mraz\n",
       "track_name                93 Million Miles\n",
       "track_id            1s8tP3jP4GZcyHDsjvw218\n",
       "popularity                              50\n",
       "year                                  2012\n",
       "genre                             acoustic\n",
       "danceability                         0.572\n",
       "energy                               0.454\n",
       "key                                      3\n",
       "loudness                           -10.286\n",
       "mode                                     1\n",
       "speechiness                         0.0258\n",
       "acousticness                         0.477\n",
       "instrumentalness                  0.000014\n",
       "liveness                            0.0974\n",
       "valence                              0.515\n",
       "tempo                              140.182\n",
       "duration_ms                         216387\n",
       "time_signature                           4\n",
       "genres                              [rock]\n",
       "Name: 1, dtype: object"
      ]
     },
     "execution_count": 126,
     "metadata": {},
     "output_type": "execute_result"
    }
   ],
   "source": [
    "songs.loc[1]"
   ]
  },
  {
   "cell_type": "code",
   "execution_count": 127,
   "metadata": {},
   "outputs": [],
   "source": [
    "# Escalar las características para normalizar las escalas\n",
    "def normalize(col_to_normalize):\n",
    "    scaler = StandardScaler()\n",
    "\n",
    "    scaled_features = songs[col_to_normalize]\n",
    "    #Para evitar un warning\n",
    "    scaled_features_copy = scaled_features.copy()\n",
    "\n",
    "    scaled_features_copy.loc[:, col_to_normalize] = scaler.fit_transform(scaled_features_copy.loc[:, col_to_normalize])\n",
    "\n",
    "    scaled_features = scaled_features_copy\n",
    "\n",
    "    return scaled_features"
   ]
  },
  {
   "cell_type": "markdown",
   "metadata": {},
   "source": [
    "Vamos a observar como han cambiado los valores respecto al original"
   ]
  },
  {
   "cell_type": "code",
   "execution_count": 128,
   "metadata": {},
   "outputs": [
    {
     "name": "stderr",
     "output_type": "stream",
     "text": [
      "C:\\Users\\lmart\\AppData\\Local\\Temp\\ipykernel_19056\\1936094398.py:9: FutureWarning: Setting an item of incompatible dtype is deprecated and will raise in a future error of pandas. Value '[-0.36557645 -0.64519742 -0.64519742 ... -1.48406032  0.47328645\n",
      "  1.31214935]' has dtype incompatible with int64, please explicitly cast to a compatible dtype first.\n",
      "  scaled_features_copy.loc[:, col_to_normalize] = scaler.fit_transform(scaled_features_copy.loc[:, col_to_normalize])\n",
      "C:\\Users\\lmart\\AppData\\Local\\Temp\\ipykernel_19056\\1936094398.py:9: FutureWarning: Setting an item of incompatible dtype is deprecated and will raise in a future error of pandas. Value '[ 0.77063578  0.77063578  0.77063578 ...  0.77063578  0.77063578\n",
      " -1.29762986]' has dtype incompatible with int64, please explicitly cast to a compatible dtype first.\n",
      "  scaled_features_copy.loc[:, col_to_normalize] = scaler.fit_transform(scaled_features_copy.loc[:, col_to_normalize])\n",
      "C:\\Users\\lmart\\AppData\\Local\\Temp\\ipykernel_19056\\1936094398.py:9: FutureWarning: Setting an item of incompatible dtype is deprecated and will raise in a future error of pandas. Value '[-1.90766077  0.26730305  0.26730305 ...  0.26730305  0.26730305\n",
      "  2.44226688]' has dtype incompatible with int64, please explicitly cast to a compatible dtype first.\n",
      "  scaled_features_copy.loc[:, col_to_normalize] = scaler.fit_transform(scaled_features_copy.loc[:, col_to_normalize])\n"
     ]
    },
    {
     "data": {
      "text/html": [
       "<div>\n",
       "<style scoped>\n",
       "    .dataframe tbody tr th:only-of-type {\n",
       "        vertical-align: middle;\n",
       "    }\n",
       "\n",
       "    .dataframe tbody tr th {\n",
       "        vertical-align: top;\n",
       "    }\n",
       "\n",
       "    .dataframe thead th {\n",
       "        text-align: right;\n",
       "    }\n",
       "</style>\n",
       "<table border=\"1\" class=\"dataframe\">\n",
       "  <thead>\n",
       "    <tr style=\"text-align: right;\">\n",
       "      <th></th>\n",
       "      <th>danceability</th>\n",
       "      <th>energy</th>\n",
       "      <th>key</th>\n",
       "      <th>loudness</th>\n",
       "      <th>mode</th>\n",
       "      <th>speechiness</th>\n",
       "      <th>acousticness</th>\n",
       "      <th>instrumentalness</th>\n",
       "      <th>liveness</th>\n",
       "      <th>valence</th>\n",
       "      <th>tempo</th>\n",
       "      <th>time_signature</th>\n",
       "    </tr>\n",
       "  </thead>\n",
       "  <tbody>\n",
       "    <tr>\n",
       "      <th>0</th>\n",
       "      <td>-0.071773</td>\n",
       "      <td>-1.044028</td>\n",
       "      <td>-0.365576</td>\n",
       "      <td>-0.030354</td>\n",
       "      <td>0.770636</td>\n",
       "      <td>-0.365421</td>\n",
       "      <td>1.005995</td>\n",
       "      <td>-0.866021</td>\n",
       "      <td>-0.466519</td>\n",
       "      <td>-0.966180</td>\n",
       "      <td>0.420520</td>\n",
       "      <td>-1.907661</td>\n",
       "    </tr>\n",
       "    <tr>\n",
       "      <th>1</th>\n",
       "      <td>0.391532</td>\n",
       "      <td>-0.513815</td>\n",
       "      <td>-0.645197</td>\n",
       "      <td>-0.065829</td>\n",
       "      <td>0.770636</td>\n",
       "      <td>-0.648381</td>\n",
       "      <td>0.411396</td>\n",
       "      <td>-0.865986</td>\n",
       "      <td>-0.569550</td>\n",
       "      <td>0.437559</td>\n",
       "      <td>0.650543</td>\n",
       "      <td>0.267303</td>\n",
       "    </tr>\n",
       "    <tr>\n",
       "      <th>2</th>\n",
       "      <td>-0.456993</td>\n",
       "      <td>-1.286311</td>\n",
       "      <td>-0.645197</td>\n",
       "      <td>-0.598724</td>\n",
       "      <td>0.770636</td>\n",
       "      <td>-0.540823</td>\n",
       "      <td>0.030524</td>\n",
       "      <td>-0.865893</td>\n",
       "      <td>-0.615796</td>\n",
       "      <td>-0.943780</td>\n",
       "      <td>0.638661</td>\n",
       "      <td>0.267303</td>\n",
       "    </tr>\n",
       "    <tr>\n",
       "      <th>3</th>\n",
       "      <td>-0.545489</td>\n",
       "      <td>-1.226618</td>\n",
       "      <td>1.312149</td>\n",
       "      <td>0.002786</td>\n",
       "      <td>0.770636</td>\n",
       "      <td>-0.474633</td>\n",
       "      <td>1.315624</td>\n",
       "      <td>-0.866021</td>\n",
       "      <td>-0.673166</td>\n",
       "      <td>0.411425</td>\n",
       "      <td>2.849574</td>\n",
       "      <td>0.267303</td>\n",
       "    </tr>\n",
       "    <tr>\n",
       "      <th>4</th>\n",
       "      <td>-0.347674</td>\n",
       "      <td>0.669507</td>\n",
       "      <td>0.193665</td>\n",
       "      <td>0.691427</td>\n",
       "      <td>-1.297630</td>\n",
       "      <td>-0.575572</td>\n",
       "      <td>-0.696694</td>\n",
       "      <td>-0.816677</td>\n",
       "      <td>-0.495789</td>\n",
       "      <td>-0.674979</td>\n",
       "      <td>1.726041</td>\n",
       "      <td>0.267303</td>\n",
       "    </tr>\n",
       "  </tbody>\n",
       "</table>\n",
       "</div>"
      ],
      "text/plain": [
       "   danceability    energy       key  loudness      mode  speechiness  \\\n",
       "0     -0.071773 -1.044028 -0.365576 -0.030354  0.770636    -0.365421   \n",
       "1      0.391532 -0.513815 -0.645197 -0.065829  0.770636    -0.648381   \n",
       "2     -0.456993 -1.286311 -0.645197 -0.598724  0.770636    -0.540823   \n",
       "3     -0.545489 -1.226618  1.312149  0.002786  0.770636    -0.474633   \n",
       "4     -0.347674  0.669507  0.193665  0.691427 -1.297630    -0.575572   \n",
       "\n",
       "   acousticness  instrumentalness  liveness   valence     tempo  \\\n",
       "0      1.005995         -0.866021 -0.466519 -0.966180  0.420520   \n",
       "1      0.411396         -0.865986 -0.569550  0.437559  0.650543   \n",
       "2      0.030524         -0.865893 -0.615796 -0.943780  0.638661   \n",
       "3      1.315624         -0.866021 -0.673166  0.411425  2.849574   \n",
       "4     -0.696694         -0.816677 -0.495789 -0.674979  1.726041   \n",
       "\n",
       "   time_signature  \n",
       "0       -1.907661  \n",
       "1        0.267303  \n",
       "2        0.267303  \n",
       "3        0.267303  \n",
       "4        0.267303  "
      ]
     },
     "execution_count": 128,
     "metadata": {},
     "output_type": "execute_result"
    }
   ],
   "source": [
    "#Columnas normalizadas\n",
    "scaled_ft_specific = normalize(col_specific)\n",
    "scaled_ft_specific.head()"
   ]
  },
  {
   "cell_type": "code",
   "execution_count": 129,
   "metadata": {},
   "outputs": [
    {
     "data": {
      "text/html": [
       "<div>\n",
       "<style scoped>\n",
       "    .dataframe tbody tr th:only-of-type {\n",
       "        vertical-align: middle;\n",
       "    }\n",
       "\n",
       "    .dataframe tbody tr th {\n",
       "        vertical-align: top;\n",
       "    }\n",
       "\n",
       "    .dataframe thead th {\n",
       "        text-align: right;\n",
       "    }\n",
       "</style>\n",
       "<table border=\"1\" class=\"dataframe\">\n",
       "  <thead>\n",
       "    <tr style=\"text-align: right;\">\n",
       "      <th></th>\n",
       "      <th>danceability</th>\n",
       "      <th>energy</th>\n",
       "      <th>key</th>\n",
       "      <th>loudness</th>\n",
       "      <th>mode</th>\n",
       "      <th>speechiness</th>\n",
       "      <th>acousticness</th>\n",
       "      <th>instrumentalness</th>\n",
       "      <th>liveness</th>\n",
       "      <th>valence</th>\n",
       "      <th>tempo</th>\n",
       "      <th>time_signature</th>\n",
       "    </tr>\n",
       "  </thead>\n",
       "  <tbody>\n",
       "    <tr>\n",
       "      <th>0</th>\n",
       "      <td>0.483</td>\n",
       "      <td>0.303</td>\n",
       "      <td>4</td>\n",
       "      <td>-10.058</td>\n",
       "      <td>1</td>\n",
       "      <td>0.0429</td>\n",
       "      <td>0.6940</td>\n",
       "      <td>0.000000</td>\n",
       "      <td>0.1150</td>\n",
       "      <td>0.139</td>\n",
       "      <td>133.406</td>\n",
       "      <td>3</td>\n",
       "    </tr>\n",
       "    <tr>\n",
       "      <th>1</th>\n",
       "      <td>0.572</td>\n",
       "      <td>0.454</td>\n",
       "      <td>3</td>\n",
       "      <td>-10.286</td>\n",
       "      <td>1</td>\n",
       "      <td>0.0258</td>\n",
       "      <td>0.4770</td>\n",
       "      <td>0.000014</td>\n",
       "      <td>0.0974</td>\n",
       "      <td>0.515</td>\n",
       "      <td>140.182</td>\n",
       "      <td>4</td>\n",
       "    </tr>\n",
       "    <tr>\n",
       "      <th>2</th>\n",
       "      <td>0.409</td>\n",
       "      <td>0.234</td>\n",
       "      <td>3</td>\n",
       "      <td>-13.711</td>\n",
       "      <td>1</td>\n",
       "      <td>0.0323</td>\n",
       "      <td>0.3380</td>\n",
       "      <td>0.000050</td>\n",
       "      <td>0.0895</td>\n",
       "      <td>0.145</td>\n",
       "      <td>139.832</td>\n",
       "      <td>4</td>\n",
       "    </tr>\n",
       "    <tr>\n",
       "      <th>3</th>\n",
       "      <td>0.392</td>\n",
       "      <td>0.251</td>\n",
       "      <td>10</td>\n",
       "      <td>-9.845</td>\n",
       "      <td>1</td>\n",
       "      <td>0.0363</td>\n",
       "      <td>0.8070</td>\n",
       "      <td>0.000000</td>\n",
       "      <td>0.0797</td>\n",
       "      <td>0.508</td>\n",
       "      <td>204.961</td>\n",
       "      <td>4</td>\n",
       "    </tr>\n",
       "    <tr>\n",
       "      <th>4</th>\n",
       "      <td>0.430</td>\n",
       "      <td>0.791</td>\n",
       "      <td>6</td>\n",
       "      <td>-5.419</td>\n",
       "      <td>0</td>\n",
       "      <td>0.0302</td>\n",
       "      <td>0.0726</td>\n",
       "      <td>0.019300</td>\n",
       "      <td>0.1100</td>\n",
       "      <td>0.217</td>\n",
       "      <td>171.864</td>\n",
       "      <td>4</td>\n",
       "    </tr>\n",
       "  </tbody>\n",
       "</table>\n",
       "</div>"
      ],
      "text/plain": [
       "   danceability  energy  key  loudness  mode  speechiness  acousticness  \\\n",
       "0         0.483   0.303    4   -10.058     1       0.0429        0.6940   \n",
       "1         0.572   0.454    3   -10.286     1       0.0258        0.4770   \n",
       "2         0.409   0.234    3   -13.711     1       0.0323        0.3380   \n",
       "3         0.392   0.251   10    -9.845     1       0.0363        0.8070   \n",
       "4         0.430   0.791    6    -5.419     0       0.0302        0.0726   \n",
       "\n",
       "   instrumentalness  liveness  valence    tempo  time_signature  \n",
       "0          0.000000    0.1150    0.139  133.406               3  \n",
       "1          0.000014    0.0974    0.515  140.182               4  \n",
       "2          0.000050    0.0895    0.145  139.832               4  \n",
       "3          0.000000    0.0797    0.508  204.961               4  \n",
       "4          0.019300    0.1100    0.217  171.864               4  "
      ]
     },
     "execution_count": 129,
     "metadata": {},
     "output_type": "execute_result"
    }
   ],
   "source": [
    "#Columnas originales\n",
    "songs[col_specific].head()"
   ]
  },
  {
   "cell_type": "markdown",
   "metadata": {},
   "source": [
    "Ahora que están normalizados los valores vamos a crear una matriz de similitud del coseno para establecer la relación en los distintos valores y poder usarlos para la recomendación."
   ]
  },
  {
   "cell_type": "code",
   "execution_count": 130,
   "metadata": {},
   "outputs": [
    {
     "name": "stdout",
     "output_type": "stream",
     "text": [
      "Dimensiones de la matriz de similitud del coseno entre los atributos: (10000, 10000)\n"
     ]
    }
   ],
   "source": [
    "cosine_sim_specific = cosine_similarity(scaled_ft_specific, scaled_ft_specific)\n",
    "print(f\"Dimensiones de la matriz de similitud del coseno entre los atributos: {cosine_sim_specific.shape}\")"
   ]
  },
  {
   "cell_type": "markdown",
   "metadata": {},
   "source": [
    "Tenemos dos matrices de similitud: una entre géneros (cosine_sim_genre) y otra entre las caracteristicas (cosine_sim_feautures).\n",
    "\n",
    "En esta función vamos a usar el de las características en esta función."
   ]
  },
  {
   "cell_type": "code",
   "execution_count": 131,
   "metadata": {},
   "outputs": [],
   "source": [
    "def content_based_features(title):\n",
    "    song_idx = dict(zip(songs['songId'], list(songs.index)))\n",
    "    n_recommendations = 10\n",
    "\n",
    "    idx = song_idx[title]\n",
    "    sim_scores = list(enumerate(cosine_sim_specific[idx]))\n",
    "    sim_scores = sorted(sim_scores, key=lambda x: x[1], reverse=True)\n",
    "    sim_scores = sim_scores[1:(n_recommendations+1)] # (id, puntuacion)\n",
    "    similar_songs = [i[0] for i in sim_scores]\n",
    "\n",
    "    return similar_songs"
   ]
  },
  {
   "cell_type": "markdown",
   "metadata": {},
   "source": [
    "Vamos obtener el id de una canción cualquiera para poder hacer el ejemplo."
   ]
  },
  {
   "cell_type": "markdown",
   "metadata": {},
   "source": [
    "Mostramos todos los campos para comprobar que se realiza bien la recomendación."
   ]
  },
  {
   "cell_type": "markdown",
   "metadata": {},
   "source": [
    "### Recomendador general (PARTE IMPORTANTE)"
   ]
  },
  {
   "cell_type": "markdown",
   "metadata": {},
   "source": [
    "Las **funciones** anteriormente declaradas que van a ser utilzadas para el recomendador."
   ]
  },
  {
   "cell_type": "markdown",
   "metadata": {},
   "source": [
    "La función ***intercale_lists*** sirve para mezclar los resultados del recomendador basado en contenido y el colaborativo."
   ]
  },
  {
   "cell_type": "code",
   "execution_count": 132,
   "metadata": {},
   "outputs": [],
   "source": [
    "def intercalate_lists(*lists):\n",
    "    max_length = max(len(lst) for lst in lists)\n",
    "    interleaved = [item for sublist in zip_longest(*lists) for item in sublist if item is not None]\n",
    "    return interleaved[:max_length]"
   ]
  },
  {
   "cell_type": "markdown",
   "metadata": {},
   "source": [
    "Ahora vamos a hacer una función que se aquella que se llame cuando se le de al botón de recomendadar (***recommender*** es la función)."
   ]
  },
  {
   "cell_type": "markdown",
   "metadata": {},
   "source": [
    "La siguiente función ***sim_cosine_total*** calcula la matriz de similitud del coseno total, es decir, tiene en cuenta los atributos pasados y los atributos específicos que usamos con un menor porcentaje para una recomendación algo más exacta. Hacemos una media aritmética y damos la misma importancia a todos los atributos que el usuario elige sin preferencias."
   ]
  },
  {
   "cell_type": "code",
   "execution_count": 133,
   "metadata": {},
   "outputs": [],
   "source": [
    "def sim_cosine_total(options):\n",
    "    # Excluir si una de las opciones es género porque ese ya está calculado\n",
    "    num_opt = len(options) #para distribuir los porcentajes\n",
    "    is_genre = 0\n",
    "    if \"genres\" in options:\n",
    "        options.remove(\"genres\")\n",
    "        is_genre = 1\n",
    "\n",
    "        if len(options) == 0:\n",
    "            is_genre = 2\n",
    "    \n",
    "    if is_genre == 2:\n",
    "        cosine_sim_opt = cosine_sim_genre\n",
    "    else:\n",
    "        # Normalizamos los valores ya que son muy dispersos\n",
    "        scaled_ft_opt = normalize(options)\n",
    "        cosine_sim_opt_no_genre = cosine_similarity(scaled_ft_opt, scaled_ft_opt) #poco eficiente hacerlo para cada vez que se pida una recomendación?\n",
    "\n",
    "        if is_genre == 1:\n",
    "            percent_genre = 1/ num_opt\n",
    "            print(f\"porcentaje género {percent_genre}\")\n",
    "\n",
    "            matrix_genre = np.array(cosine_sim_genre)\n",
    "            matrix_no_genre = np.array(cosine_sim_opt_no_genre)\n",
    "\n",
    "            cosine_sim_opt = percent_genre * matrix_genre + (1-percent_genre) * matrix_no_genre\n",
    "\n",
    "        else: # no hay género en la lista\n",
    "            cosine_sim_opt = cosine_sim_opt_no_genre\n",
    "    \n",
    "    matrix_opt = np.array(cosine_sim_opt)\n",
    "    matrix_specific = np.array(cosine_sim_specific)\n",
    "\n",
    "    percent_specific = 0.00 # No le damos mucho porque no es lo más importante\n",
    "    \n",
    "    cosine_sim_final = (1-percent_specific)*matrix_opt + percent_specific*matrix_specific\n",
    "\n",
    "    return cosine_sim_final"
   ]
  },
  {
   "cell_type": "markdown",
   "metadata": {},
   "source": [
    "Primera fase (***first_stage***) representa el recomendador basado en contenido, el contenido a tener en cuenta son los atributos que ha seleccionado el usuario, si ha seleccionado."
   ]
  },
  {
   "cell_type": "code",
   "execution_count": 134,
   "metadata": {},
   "outputs": [
    {
     "name": "stdout",
     "output_type": "stream",
     "text": [
      "There are 74 genres.\n"
     ]
    },
    {
     "data": {
      "text/plain": [
       "Counter({'garage': 441,\n",
       "         'hardcore': 440,\n",
       "         'piano': 433,\n",
       "         'alt-rock': 432,\n",
       "         'samba': 431,\n",
       "         'salsa': 429,\n",
       "         'groove': 429,\n",
       "         'rock': 425,\n",
       "         'drum-and-bass': 424,\n",
       "         'dancehall': 424,\n",
       "         'indie-pop': 423,\n",
       "         'disco': 422,\n",
       "         'goth': 420,\n",
       "         'afrobeat': 420,\n",
       "         'blues': 419,\n",
       "         'sleep': 417,\n",
       "         'dance': 417,\n",
       "         'grindcore': 417,\n",
       "         'forro': 414,\n",
       "         'club': 413,\n",
       "         'emo': 412,\n",
       "         'electro': 412,\n",
       "         'ska': 412,\n",
       "         'sertanejo': 412,\n",
       "         'metalcore': 412,\n",
       "         'pop-film': 411,\n",
       "         'k-pop': 411,\n",
       "         'cantopop': 410,\n",
       "         'jazz': 410,\n",
       "         'indian': 409,\n",
       "         'show-tunes': 409,\n",
       "         'punk-rock': 409,\n",
       "         'industrial': 409,\n",
       "         'psych-rock': 407,\n",
       "         'romance': 407,\n",
       "         'new-age': 406,\n",
       "         'classical': 405,\n",
       "         'hardstyle': 404,\n",
       "         'pop': 403,\n",
       "         'progressive-house': 402,\n",
       "         'acoustic': 401,\n",
       "         'sad': 400,\n",
       "         'german': 400,\n",
       "         'rock-n-roll': 399,\n",
       "         'country': 399,\n",
       "         'hip-hop': 399,\n",
       "         'guitar': 398,\n",
       "         'ambient': 397,\n",
       "         'party': 397,\n",
       "         'metal': 396,\n",
       "         'opera': 396,\n",
       "         'dubstep': 395,\n",
       "         'funk': 395,\n",
       "         'dub': 394,\n",
       "         'death-metal': 393,\n",
       "         'gospel': 392,\n",
       "         'power-pop': 392,\n",
       "         'singer-songwriter': 390,\n",
       "         'deep-house': 390,\n",
       "         'detroit-techno': 389,\n",
       "         'breakbeat': 388,\n",
       "         'black-metal': 384,\n",
       "         'minimal-techno': 382,\n",
       "         'heavy-metal': 380,\n",
       "         'chicago-house': 379,\n",
       "         'punk': 379,\n",
       "         'house': 378,\n",
       "         'folk': 377,\n",
       "         'comedy': 376,\n",
       "         'edm': 375,\n",
       "         'french': 371,\n",
       "         'chill': 365,\n",
       "         'hard-rock': 355,\n",
       "         'electronic': 348})"
      ]
     },
     "execution_count": 134,
     "metadata": {},
     "output_type": "execute_result"
    }
   ],
   "source": [
    "from collections import Counter\n",
    "genre_frequency = Counter(g for genres in songs['genres'] for g in genres)\n",
    "print(f\"There are {len(genre_frequency)} genres.\")\n",
    "genre_frequency"
   ]
  },
  {
   "cell_type": "code",
   "execution_count": 135,
   "metadata": {},
   "outputs": [],
   "source": [
    "def genre_clustering(song_id):\n",
    "    # Eliminar los caracteres \"{\" y \"}\"\n",
    "    #ongs['genres'] = songs['genres'].str.replace('{', '').str.replace('}', '')\n",
    "    #print(songs['genres'])\n",
    "\n",
    "    # Dividir la columna 'genres' por comas\n",
    "    #songs['genres'] = songs['genres'].apply(lambda x: x.split(\",\"))\n",
    "    #songs['genres'] = songs['genres'].apply(lambda x: x.split(\"|\"))\n",
    "    print(song_id)\n",
    "    \n",
    "    \n",
    "    col_del = [\"songId\",\t\"artist_name\",\t\"track_name\",\t\"track_id\", \"popularity\", \"year\", \"genre\",\t\"danceability\",\t\"energy\",\t\"key\",\t\"loudness\",\t\"mode\",\t\"speechiness\",\t\"acousticness\",\t\"instrumentalness\",\t\"liveness\",\t\"valence\",\t\"tempo\",\t\"duration_ms\",\t\"time_signature\", \"genres\"]\n",
    "\n",
    "    songsAux = songs.copy()\n",
    "\n",
    "    genres = set(g for G in songsAux['genres'] for g in G)\n",
    "\n",
    "    for g in genres:\n",
    "        songsAux[g] = songsAux.genres.transform(lambda x: int(g in x))\n",
    "        \n",
    "    song_genre = songsAux.drop(columns=col_del)\n",
    "    \n",
    "    # Aplicamos K-means\n",
    "    kmeans = KMeans(n_clusters=1)\n",
    "    kmeans.fit(song_genre)\n",
    "\n",
    "    # Ahora, cada canción ha sido asignada a un cluster\n",
    "    song_genre['cluster'] = kmeans.labels_\n",
    "    \n",
    "    # Obtiene el cluster de la canción\n",
    "    song_cluster = song_genre.loc[song_id, 'cluster']\n",
    "\n",
    "    # Filtra el DataFrame para incluir solo las canciones en el mismo cluster\n",
    "    same_cluster_df = song_genre[song_genre['cluster'] == song_cluster]\n",
    "\n",
    "    # Calcula las distancias euclidianas entre la canción y todas las demás canciones en el mismo cluster\n",
    "    distances = cosine_distances(same_cluster_df.drop('cluster', axis=1), same_cluster_df.loc[song_id].drop('cluster').values.reshape(1, -1))\n",
    "\n",
    "    # Calcula las similitudes como el exponencial negativo de las distancias\n",
    "    similarities = np.exp(-distances)\n",
    "\n",
    "    # Obtiene los índices de las canciones ordenadas por similitud (de mayor a menor)\n",
    "    closest_song_ids = np.argsort(similarities.squeeze())[::-1]\n",
    "\n",
    "    # Obtiene los índices de las canciones más similares\n",
    "    closest_songs = closest_song_ids[:20]\n",
    "\n",
    "    return closest_songs"
   ]
  },
  {
   "cell_type": "code",
   "execution_count": 136,
   "metadata": {},
   "outputs": [
    {
     "name": "stdout",
     "output_type": "stream",
     "text": [
      "1\n"
     ]
    },
    {
     "data": {
      "text/plain": [
       "array([5685, 7571, 6083, 5790, 7357, 2797, 4096, 1170, 2926,  230, 2396,\n",
       "       9333, 1666, 3070, 9927,  472,  737, 1900, 7427, 7381], dtype=int64)"
      ]
     },
     "execution_count": 136,
     "metadata": {},
     "output_type": "execute_result"
    }
   ],
   "source": [
    "genre_clustering(1)"
   ]
  },
  {
   "cell_type": "code",
   "execution_count": 137,
   "metadata": {},
   "outputs": [],
   "source": [
    "def genre_cosine(song_id):\n",
    "    sim_scores = list(enumerate(cosine_sim_genre[song_id]))\n",
    "    sim_scores = sorted(sim_scores, key=lambda x: x[1], reverse=True)\n",
    "    sim_scores = sim_scores[1:(20+1)]\n",
    "    similar_songs = [i[0] for i in sim_scores]\n",
    "    return similar_songs"
   ]
  },
  {
   "cell_type": "code",
   "execution_count": 138,
   "metadata": {},
   "outputs": [
    {
     "data": {
      "text/plain": [
       "[230,\n",
       " 472,\n",
       " 737,\n",
       " 1170,\n",
       " 1543,\n",
       " 1666,\n",
       " 1900,\n",
       " 2396,\n",
       " 2621,\n",
       " 2797,\n",
       " 2808,\n",
       " 2926,\n",
       " 3070,\n",
       " 3755,\n",
       " 3972,\n",
       " 3980,\n",
       " 4074,\n",
       " 4096,\n",
       " 5003,\n",
       " 5130]"
      ]
     },
     "execution_count": 138,
     "metadata": {},
     "output_type": "execute_result"
    }
   ],
   "source": [
    "genre_cosine(1)"
   ]
  },
  {
   "cell_type": "code",
   "execution_count": 139,
   "metadata": {},
   "outputs": [],
   "source": [
    "def features_clustering(options, song_id):\n",
    "    df = songs[options].copy();\n",
    "        \n",
    "    scaler = StandardScaler()\n",
    "    df_scaled = scaler.fit_transform(df)\n",
    "\n",
    "    # Aplicamos K-means\n",
    "    kmeans = KMeans(n_clusters=1)\n",
    "    kmeans.fit(df_scaled)\n",
    "\n",
    "    # Ahora, cada canción ha sido asignada a un cluster\n",
    "    df['cluster'] = kmeans.labels_\n",
    "\n",
    "    # Obtiene el cluster de la canción\n",
    "    song_cluster = df.loc[song_id, 'cluster']\n",
    "\n",
    "    # Filtra el DataFrame para incluir solo las canciones en el mismo cluster\n",
    "    same_cluster_df = df[df['cluster'] == song_cluster]\n",
    "\n",
    "    # Calcula las distancias euclidianas entre la canción y todas las demás canciones en el mismo cluster\n",
    "    #distances = cosine_distances(same_cluster_df.drop('cluster', axis=1), same_cluster_df.drop('cluster', axis=1).loc[song_id].values.reshape(1, -1))\n",
    "    distances = euclidean_distances(same_cluster_df.drop('cluster', axis=1), df.loc[song_id].drop('cluster').values.reshape(1, -1))\n",
    "\n",
    "    # Obtiene los índices de las canciones ordenadas por similitud (de mayor a menor)\n",
    "    closest_song_ids = np.argsort(distances.squeeze())\n",
    "\n",
    "    # Obtiene los índices de las canciones más similares\n",
    "    closest_songs = closest_song_ids[:21]\n",
    "\n",
    "    closest_songs = [songid for songid in closest_songs if songid != song_id][:20]\n",
    "\n",
    "    return closest_songs"
   ]
  },
  {
   "cell_type": "code",
   "execution_count": 140,
   "metadata": {},
   "outputs": [
    {
     "data": {
      "text/plain": [
       "[2725,\n",
       " 2018,\n",
       " 1772,\n",
       " 1778,\n",
       " 1952,\n",
       " 2726,\n",
       " 2724,\n",
       " 1816,\n",
       " 2135,\n",
       " 1773,\n",
       " 1775,\n",
       " 1771,\n",
       " 7578,\n",
       " 2550,\n",
       " 1946,\n",
       " 1774,\n",
       " 1961,\n",
       " 2219,\n",
       " 2729,\n",
       " 1780]"
      ]
     },
     "execution_count": 140,
     "metadata": {},
     "output_type": "execute_result"
    }
   ],
   "source": [
    "features_clustering(['popularity'],0)"
   ]
  },
  {
   "cell_type": "markdown",
   "metadata": {},
   "source": [
    "***explanation_content*** es para el recomendador basado en contenido"
   ]
  },
  {
   "cell_type": "code",
   "execution_count": 141,
   "metadata": {},
   "outputs": [],
   "source": [
    "def option_toSpanish(options):\n",
    "    opciones = []\n",
    "    #col_optional = [\"popularity\", \"year\", \"genres\",\t\"duration_ms\"]\n",
    "    for o in options:\n",
    "        if o == 'popularity':\n",
    "            opciones.append('con una popularidad de')\n",
    "        if o == 'year':\n",
    "            opciones.append('del año')\n",
    "        if o == 'genres':\n",
    "            opciones.append('cuyo(s) género(s) son')\n",
    "        if o == 'duration_ms':\n",
    "            opciones.append('una duración de')\n",
    "        \n",
    "    return opciones"
   ]
  },
  {
   "cell_type": "code",
   "execution_count": 142,
   "metadata": {},
   "outputs": [],
   "source": [
    "def explanation_content(similar_songs, options, song_id):\n",
    "    \n",
    "    explanation = []\n",
    "    opciones = option_toSpanish(options)\n",
    "        \n",
    "    for i in range(0, len(similar_songs)):\n",
    "        song_name = songs[songs[\"songId\"] == song_id][\"track_name\"].iloc[0]\n",
    "        stri = \"Porque te ha gustado \" + song_name + \" y teniendo en cuenta \"\n",
    "        if len(options) > 1:\n",
    "            stri += \"las opciones seleccionadas (\"\n",
    "        else:\n",
    "            stri += \"la opción seleccionada (\"\n",
    "        \n",
    "        if \"duration_ms\" != options[0]:\n",
    "            options_value = songs[songs[\"songId\"] == song_id][options[0]].iloc[0]\n",
    "            stri += opciones[0] + \" \" + str(options_value)\n",
    "        else:\n",
    "            options_value = songs[songs[\"songId\"] == song_id][options[0]].iloc[0]\n",
    "            # Convertir milisegundos a segundos\n",
    "            total_seconds = options_value / 1000\n",
    "\n",
    "            # Calcular minutos y segundos\n",
    "            mins = int(total_seconds // 60)\n",
    "            secs = int(total_seconds % 60)\n",
    "            \n",
    "            stri += opciones[0] + \" \" + str(mins) + \":\" + str(secs)\n",
    "        \n",
    "        for j in range(1, len(opciones)):\n",
    "            if j == len(opciones)-1:\n",
    "                stri += ' y '\n",
    "            else:\n",
    "                stri += ', '\n",
    "            \n",
    "            if \"duration_ms\" != options[j]:\n",
    "                options_value = songs[songs[\"songId\"] == song_id][options[j]].iloc[0]\n",
    "                stri += opciones[j] + \" \" + str(options_value)\n",
    "            else:\n",
    "                options_value = songs[songs[\"songId\"] == song_id][options[j]].iloc[0]\n",
    "                # Convertir milisegundos a segundos\n",
    "                total_seconds = options_value / 1000\n",
    "\n",
    "                # Calcular minutos y segundos\n",
    "                mins = int(total_seconds // 60)\n",
    "                secs = int(total_seconds % 60)\n",
    "                \n",
    "                stri += opciones[j] + \" \" + str(mins) + \":\" + str(secs)\n",
    "        \n",
    "        song_name_sim = songs[songs[\"songId\"] == similar_songs[i]][\"track_name\"].iloc[0]\n",
    "        stri += \"): te recomendamos la canción \" + song_name_sim + ' ('\n",
    "                \n",
    "        if \"duration_ms\" != options[0]:\n",
    "            options_value = songs[songs[\"songId\"] == similar_songs[i]][options[0]].iloc[0]\n",
    "            stri += opciones[0] + \" \" + str(options_value)\n",
    "        else:\n",
    "            options_value = songs[songs[\"songId\"] == similar_songs[i]][options[0]].iloc[0]\n",
    "            # Convertir milisegundos a segundos\n",
    "            total_seconds = options_value / 1000\n",
    "\n",
    "            # Calcular minutos y segundos\n",
    "            mins = int(total_seconds // 60)\n",
    "            secs = int(total_seconds % 60)\n",
    "            \n",
    "            stri += opciones[0] + \" \" + str(mins) + \":\" + str(secs)\n",
    "        \n",
    "        for j in range(1, len(options)):\n",
    "            if j == len(options)-1:\n",
    "                stri += ' y '\n",
    "            else:\n",
    "                stri += ', '\n",
    "                \n",
    "            if \"duration_ms\" != options[j]:\n",
    "                options_value = songs[songs[\"songId\"] == similar_songs[i]][options[j]].iloc[0]\n",
    "                stri += opciones[j] + \" \" + str(options_value)\n",
    "            else:\n",
    "                options_value = songs[songs[\"songId\"] == similar_songs[i]][options[j]].iloc[0]\n",
    "                # Convertir milisegundos a segundos\n",
    "                total_seconds = options_value / 1000\n",
    "\n",
    "                # Calcular minutos y segundos\n",
    "                mins = int(total_seconds // 60)\n",
    "                secs = int(total_seconds % 60)\n",
    "                \n",
    "                stri += opciones[j] + \" \" + str(mins) + \":\" + str(secs)\n",
    "        \n",
    "        stri += \")\"\n",
    "        \n",
    "        explanation.append(stri)\n",
    "        \n",
    "    return explanation"
   ]
  },
  {
   "cell_type": "code",
   "execution_count": 143,
   "metadata": {},
   "outputs": [],
   "source": [
    "def first_stage(song_id, options):\n",
    "    # 1. Hay que comprobar si hay atributos a tener en cuenta (options) -> con matrices de similitud\n",
    "    '''\n",
    "    cosine_sim = sim_cosine_total(options)\n",
    "    \n",
    "    song_idx = dict(zip(songs['songId'], list(songs.index)))\n",
    "    n_recommendations = 20\n",
    "\n",
    "    idx = song_idx[song_id]\n",
    "    sim_scores = list(enumerate(cosine_sim[idx]))\n",
    "    sim_scores = sorted(sim_scores, key=lambda x: x[1], reverse=True)\n",
    "    sim_scores = sim_scores[1:(n_recommendations+1)] # (id, puntuacion)\n",
    "    similar_songs = [i[0] for i in sim_scores]\n",
    "    '''\n",
    "    \n",
    "    # Clustering\n",
    "    \n",
    "    if 'genres' not in options:\n",
    "        similar_songs = features_clustering(options, song_id)\n",
    "        print(\"here\")\n",
    "        explanation = explanation_content(similar_songs, options, song_id)\n",
    "        \n",
    "    else:\n",
    "        print(song_id)\n",
    "        #similar_songs_genres = genre_clustering(song_id)\n",
    "        similar_songs_genres = genre_cosine(song_id)\n",
    "        explanation1 = explanation_content(similar_songs_genres, [\"genres\"], song_id)\n",
    "        \n",
    "        if len(options) > 1:\n",
    "            options_aux = options.copy()\n",
    "            options_aux.remove('genres') \n",
    "            \n",
    "            similar_songs_features = features_clustering(options_aux,song_id)\n",
    "            explanation2 = explanation_content(similar_songs_features, options_aux, song_id)\n",
    "            \n",
    "            similar_songs = intercalate_lists(similar_songs_genres, similar_songs_features)[:20]\n",
    "            explanation = intercalate_lists(explanation1, explanation2)[:20]\n",
    "            \n",
    "        else:\n",
    "            similar_songs = similar_songs_genres[:20]\n",
    "            explanation = explanation1\n",
    "    \n",
    "    return similar_songs, explanation[:20]"
   ]
  },
  {
   "cell_type": "code",
   "execution_count": 144,
   "metadata": {},
   "outputs": [
    {
     "name": "stdout",
     "output_type": "stream",
     "text": [
      "0\n"
     ]
    },
    {
     "data": {
      "text/plain": [
       "([2317,\n",
       "  285,\n",
       "  385,\n",
       "  1510,\n",
       "  3975,\n",
       "  4431,\n",
       "  5119,\n",
       "  6760,\n",
       "  6848,\n",
       "  7574,\n",
       "  9167,\n",
       "  4163,\n",
       "  7139,\n",
       "  29,\n",
       "  352,\n",
       "  1581,\n",
       "  1763,\n",
       "  2251,\n",
       "  3110,\n",
       "  4670],\n",
       " [\"Porque te ha gustado I Won't Give Up y teniendo en cuenta la opción seleccionada (cuyo(s) género(s) son ['progressive-house', 'samba', 'sad', 'rock-n-roll', 'dubstep']): te recomendamos la canción Sometime cuyo(s) género(s) son ['samba', 'rock-n-roll', 'dubstep'])\",\n",
       "  \"Porque te ha gustado I Won't Give Up y teniendo en cuenta la opción seleccionada (cuyo(s) género(s) son ['progressive-house', 'samba', 'sad', 'rock-n-roll', 'dubstep']): te recomendamos la canción The Club Hits of Today Will Be the Show Tunes of Tomorrow cuyo(s) género(s) son ['progressive-house', 'samba'])\",\n",
       "  \"Porque te ha gustado I Won't Give Up y teniendo en cuenta la opción seleccionada (cuyo(s) género(s) son ['progressive-house', 'samba', 'sad', 'rock-n-roll', 'dubstep']): te recomendamos la canción The Worms Crawl In cuyo(s) género(s) son ['progressive-house', 'dubstep'])\",\n",
       "  \"Porque te ha gustado I Won't Give Up y teniendo en cuenta la opción seleccionada (cuyo(s) género(s) son ['progressive-house', 'samba', 'sad', 'rock-n-roll', 'dubstep']): te recomendamos la canción Ifa cuyo(s) género(s) son ['samba', 'rock-n-roll'])\",\n",
       "  \"Porque te ha gustado I Won't Give Up y teniendo en cuenta la opción seleccionada (cuyo(s) género(s) son ['progressive-house', 'samba', 'sad', 'rock-n-roll', 'dubstep']): te recomendamos la canción God Seed - Live cuyo(s) género(s) son ['dubstep', 'rock-n-roll'])\",\n",
       "  \"Porque te ha gustado I Won't Give Up y teniendo en cuenta la opción seleccionada (cuyo(s) género(s) son ['progressive-house', 'samba', 'sad', 'rock-n-roll', 'dubstep']): te recomendamos la canción Client cuyo(s) género(s) son ['progressive-house', 'rock-n-roll'])\",\n",
       "  \"Porque te ha gustado I Won't Give Up y teniendo en cuenta la opción seleccionada (cuyo(s) género(s) son ['progressive-house', 'samba', 'sad', 'rock-n-roll', 'dubstep']): te recomendamos la canción Tracking My Roots cuyo(s) género(s) son ['samba', 'progressive-house'])\",\n",
       "  \"Porque te ha gustado I Won't Give Up y teniendo en cuenta la opción seleccionada (cuyo(s) género(s) son ['progressive-house', 'samba', 'sad', 'rock-n-roll', 'dubstep']): te recomendamos la canción 冇事,有心 cuyo(s) género(s) son ['samba', 'dubstep'])\",\n",
       "  \"Porque te ha gustado I Won't Give Up y teniendo en cuenta la opción seleccionada (cuyo(s) género(s) son ['progressive-house', 'samba', 'sad', 'rock-n-roll', 'dubstep']): te recomendamos la canción 歲月 cuyo(s) género(s) son ['sad', 'dubstep'])\",\n",
       "  \"Porque te ha gustado I Won't Give Up y teniendo en cuenta la opción seleccionada (cuyo(s) género(s) son ['progressive-house', 'samba', 'sad', 'rock-n-roll', 'dubstep']): te recomendamos la canción Lost and Found - Del Mar Edit cuyo(s) género(s) son ['dubstep', 'progressive-house'])\",\n",
       "  \"Porque te ha gustado I Won't Give Up y teniendo en cuenta la opción seleccionada (cuyo(s) género(s) son ['progressive-house', 'samba', 'sad', 'rock-n-roll', 'dubstep']): te recomendamos la canción O ignis spiritus cuyo(s) género(s) son ['progressive-house', 'sad'])\",\n",
       "  \"Porque te ha gustado I Won't Give Up y teniendo en cuenta la opción seleccionada (cuyo(s) género(s) son ['progressive-house', 'samba', 'sad', 'rock-n-roll', 'dubstep']): te recomendamos la canción Elestial cuyo(s) género(s) son ['sleep', 'funk', 'samba', 'sad', 'dubstep'])\",\n",
       "  \"Porque te ha gustado I Won't Give Up y teniendo en cuenta la opción seleccionada (cuyo(s) género(s) son ['progressive-house', 'samba', 'sad', 'rock-n-roll', 'dubstep']): te recomendamos la canción 尋找 (國) cuyo(s) género(s) son ['power-pop', 'samba', 'progressive-house', 'afrobeat', 'dubstep'])\",\n",
       "  \"Porque te ha gustado I Won't Give Up y teniendo en cuenta la opción seleccionada (cuyo(s) género(s) son ['progressive-house', 'samba', 'sad', 'rock-n-roll', 'dubstep']): te recomendamos la canción Holding On and Letting Go cuyo(s) género(s) son ['sleep', 'rock-n-roll', 'sad'])\",\n",
       "  \"Porque te ha gustado I Won't Give Up y teniendo en cuenta la opción seleccionada (cuyo(s) género(s) son ['progressive-house', 'samba', 'sad', 'rock-n-roll', 'dubstep']): te recomendamos la canción Reasons Not To Be An Idiot cuyo(s) género(s) son ['sad', 'rock-n-roll', 'house'])\",\n",
       "  \"Porque te ha gustado I Won't Give Up y teniendo en cuenta la opción seleccionada (cuyo(s) género(s) son ['progressive-house', 'samba', 'sad', 'rock-n-roll', 'dubstep']): te recomendamos la canción E Go Listen (feat. Janet) cuyo(s) género(s) son ['dubstep', 'rock-n-roll', 'punk-rock'])\",\n",
       "  \"Porque te ha gustado I Won't Give Up y teniendo en cuenta la opción seleccionada (cuyo(s) género(s) son ['progressive-house', 'samba', 'sad', 'rock-n-roll', 'dubstep']): te recomendamos la canción Clean Up cuyo(s) género(s) son ['sertanejo', 'samba', 'sad'])\",\n",
       "  \"Porque te ha gustado I Won't Give Up y teniendo en cuenta la opción seleccionada (cuyo(s) género(s) son ['progressive-house', 'samba', 'sad', 'rock-n-roll', 'dubstep']): te recomendamos la canción No Reflection cuyo(s) género(s) son ['romance', 'dubstep', 'sad'])\",\n",
       "  \"Porque te ha gustado I Won't Give Up y teniendo en cuenta la opción seleccionada (cuyo(s) género(s) son ['progressive-house', 'samba', 'sad', 'rock-n-roll', 'dubstep']): te recomendamos la canción Les soirs cuyo(s) género(s) son ['rock-n-roll', 'german', 'dubstep'])\",\n",
       "  \"Porque te ha gustado I Won't Give Up y teniendo en cuenta la opción seleccionada (cuyo(s) género(s) son ['progressive-house', 'samba', 'sad', 'rock-n-roll', 'dubstep']): te recomendamos la canción Fade Into Obscurity cuyo(s) género(s) son ['progressive-house', 'samba', 'indie-pop'])\"])"
      ]
     },
     "execution_count": 144,
     "metadata": {},
     "output_type": "execute_result"
    }
   ],
   "source": [
    "first_stage(0, ['genres'])"
   ]
  },
  {
   "cell_type": "code",
   "execution_count": 145,
   "metadata": {},
   "outputs": [
    {
     "data": {
      "text/plain": [
       "'We Came To Party - Original'"
      ]
     },
     "execution_count": 145,
     "metadata": {},
     "output_type": "execute_result"
    }
   ],
   "source": [
    "songs[songs[\"songId\"] == 6253][\"track_name\"].iloc[0]\n"
   ]
  },
  {
   "cell_type": "code",
   "execution_count": 146,
   "metadata": {},
   "outputs": [
    {
     "data": {
      "text/plain": [
       "['samba', 'blues', 'acoustic']"
      ]
     },
     "execution_count": 146,
     "metadata": {},
     "output_type": "execute_result"
    }
   ],
   "source": [
    "songs[songs[\"songId\"] == 6253][\"genres\"].iloc[0]"
   ]
  },
  {
   "cell_type": "markdown",
   "metadata": {},
   "source": [
    "Segunda fase (***second_stage***) representa el recomendador filtrado colaborativo, se recomienda acorde con las canciones que le han gustando a otros usuarios y tienen, por lo tanto, gustos parecidos entre sí."
   ]
  },
  {
   "cell_type": "code",
   "execution_count": 147,
   "metadata": {},
   "outputs": [],
   "source": [
    "def explanation_collaborative(similar_songs, song_id):\n",
    "    explanation = []\n",
    "        \n",
    "    for i in range(0, len(similar_songs)):\n",
    "        song_name = songs[songs[\"songId\"] == song_id][\"track_name\"].iloc[0]\n",
    "        \n",
    "        str = \"Porque te ha gustado \" + song_name + \" y teniendo en cuenta los gustos similares a otros usuarios\"\n",
    "        \n",
    "        explanation.append(str)\n",
    "        \n",
    "    return explanation"
   ]
  },
  {
   "cell_type": "code",
   "execution_count": 148,
   "metadata": {},
   "outputs": [],
   "source": [
    "def second_stage(song_id): # collaborative_recommender\n",
    "    # Matriz de factorización\n",
    "    svd = TruncatedSVD(n_components=20, n_iter=10)\n",
    "    Z = svd.fit_transform(X.T)\n",
    "    \n",
    "    similar_songs = find_similar_songs(song_id, Z.T, song_mapper, song_inv_mapper, metric='cosine', k=20)\n",
    "    \n",
    "    explanation = explanation_collaborative(similar_songs, song_id)\n",
    "    \n",
    "    # No optimizado\n",
    "    #similar_songs = find_similar_songs(song_id, X_norm, song_mapper, #song_inv_mapper, metric='euclidean', k=20)\n",
    "    \n",
    "    #similar_songs = find_similar_songs(song_id, X_norm, song_mapper, song_inv_mapper, metric='cosine', k=10) # Hemos visto antes que euclides es algo más rápido\n",
    "    \n",
    "    return similar_songs, explanation"
   ]
  },
  {
   "cell_type": "code",
   "execution_count": 149,
   "metadata": {},
   "outputs": [
    {
     "data": {
      "text/plain": [
       "([4685,\n",
       "  4174,\n",
       "  1041,\n",
       "  3152,\n",
       "  2336,\n",
       "  1545,\n",
       "  1197,\n",
       "  184,\n",
       "  7777,\n",
       "  5454,\n",
       "  9988,\n",
       "  3614,\n",
       "  3111,\n",
       "  9369,\n",
       "  3199,\n",
       "  6660,\n",
       "  577,\n",
       "  7106,\n",
       "  542],\n",
       " ['Porque te ha gustado 93 Million Miles y teniendo en cuenta los gustos similares a otros usuarios',\n",
       "  'Porque te ha gustado 93 Million Miles y teniendo en cuenta los gustos similares a otros usuarios',\n",
       "  'Porque te ha gustado 93 Million Miles y teniendo en cuenta los gustos similares a otros usuarios',\n",
       "  'Porque te ha gustado 93 Million Miles y teniendo en cuenta los gustos similares a otros usuarios',\n",
       "  'Porque te ha gustado 93 Million Miles y teniendo en cuenta los gustos similares a otros usuarios',\n",
       "  'Porque te ha gustado 93 Million Miles y teniendo en cuenta los gustos similares a otros usuarios',\n",
       "  'Porque te ha gustado 93 Million Miles y teniendo en cuenta los gustos similares a otros usuarios',\n",
       "  'Porque te ha gustado 93 Million Miles y teniendo en cuenta los gustos similares a otros usuarios',\n",
       "  'Porque te ha gustado 93 Million Miles y teniendo en cuenta los gustos similares a otros usuarios',\n",
       "  'Porque te ha gustado 93 Million Miles y teniendo en cuenta los gustos similares a otros usuarios',\n",
       "  'Porque te ha gustado 93 Million Miles y teniendo en cuenta los gustos similares a otros usuarios',\n",
       "  'Porque te ha gustado 93 Million Miles y teniendo en cuenta los gustos similares a otros usuarios',\n",
       "  'Porque te ha gustado 93 Million Miles y teniendo en cuenta los gustos similares a otros usuarios',\n",
       "  'Porque te ha gustado 93 Million Miles y teniendo en cuenta los gustos similares a otros usuarios',\n",
       "  'Porque te ha gustado 93 Million Miles y teniendo en cuenta los gustos similares a otros usuarios',\n",
       "  'Porque te ha gustado 93 Million Miles y teniendo en cuenta los gustos similares a otros usuarios',\n",
       "  'Porque te ha gustado 93 Million Miles y teniendo en cuenta los gustos similares a otros usuarios',\n",
       "  'Porque te ha gustado 93 Million Miles y teniendo en cuenta los gustos similares a otros usuarios',\n",
       "  'Porque te ha gustado 93 Million Miles y teniendo en cuenta los gustos similares a otros usuarios'])"
      ]
     },
     "execution_count": 149,
     "metadata": {},
     "output_type": "execute_result"
    }
   ],
   "source": [
    "second_stage(1)"
   ]
  },
  {
   "cell_type": "code",
   "execution_count": null,
   "metadata": {},
   "outputs": [],
   "source": []
  },
  {
   "cell_type": "markdown",
   "metadata": {},
   "source": [
    "Tercera fase (***third_stage***) representa basado en conocimiento, que solo se usará en el caso de que el usuario no haya introducido ninguna opción y recomendará por popularidad de la canción, que es algo que el sistema sabe (conocimiento)"
   ]
  },
  {
   "cell_type": "code",
   "execution_count": 150,
   "metadata": {},
   "outputs": [],
   "source": [
    "def third_stage(song_id):\n",
    "    # Supongamos que 'df' es tu DataFrame que contiene las características de las canciones\n",
    "    # Primero, normalizamos los datos\n",
    "    df = songs.copy();\n",
    "    \n",
    "    col_del = ['songId', 'artist_name', 'track_name', 'track_id','genre', 'genres']\n",
    "    \n",
    "    df = df.drop(columns=col_del)\n",
    "    \n",
    "    scaler = StandardScaler()\n",
    "    df_scaled = scaler.fit_transform(df)\n",
    "\n",
    "    # Aplicamos K-means\n",
    "    kmeans = KMeans(n_clusters=1)\n",
    "    kmeans.fit(df_scaled)\n",
    "\n",
    "    # Ahora, cada canción ha sido asignada a un cluster\n",
    "    df['cluster'] = kmeans.labels_\n",
    "\n",
    "    # Obtiene el cluster de la canción\n",
    "    song_cluster = df.loc[song_id, 'cluster']\n",
    "\n",
    "    # Filtra el DataFrame para incluir solo las canciones en el mismo cluster\n",
    "    same_cluster_df = df[df['cluster'] == song_cluster]\n",
    "\n",
    "    # Calcula las distancias euclidianas entre la canción y todas las demás canciones en el mismo cluster\n",
    "    distances = euclidean_distances(same_cluster_df.drop('cluster', axis=1), df.loc[song_id].drop('cluster').values.reshape(1, -1))\n",
    "\n",
    "    # Obtiene los índices de las canciones ordenadas por distancia (de menor a mayor)\n",
    "    closest_song_ids = np.argsort(distances.squeeze())\n",
    "\n",
    "    # Obtiene los índices de las canciones más cercanas\n",
    "    closest_songs = closest_song_ids[:21]\n",
    "\n",
    "    closest_songs = [songid for songid in closest_songs if songid != song_id][:20]\n",
    "    #closest_songs = same_cluster_df.iloc[closest_song_ids[:20]]\n",
    "    \n",
    "    features = ['popularity', 'year', 'danceability', 'energy', 'key', 'loudness', 'mode', 'speechiness', 'acousticness', 'instrumentalness', 'liveness', 'valence', 'tempo', 'duration_ms', 'time_signature']\n",
    "    \n",
    "    explanation = []\n",
    "        \n",
    "    for i in range(0, len(closest_songs)):\n",
    "        song_name = songs[songs[\"songId\"] == song_id][\"track_name\"].iloc[0]\n",
    "        stri = \"Porque te ha gustado \" + song_name + \" y teniendo en cuenta todas las características de la canción\"\n",
    "        \n",
    "        song_name_sim = songs[songs[\"songId\"] == closest_songs[i]][\"track_name\"].iloc[0]\n",
    "        stri += \" te recomendamos la canción \" + song_name_sim \n",
    "        \n",
    "        explanation.append(stri)\n",
    "\n",
    "    return closest_songs, explanation\n",
    "\n",
    "    # plt.figure(figsize=(10, 7))\n",
    "    \n",
    "    # Para cada cluster\n",
    "    #for i in range(kmeans.n_clusters):\n",
    "        # Encuentra las canciones en este cluster\n",
    "        # cluster = df[df['cluster'] == i]  \n",
    "        # Dibuja las canciones de este cluster\n",
    "        # plt.scatter(cluster['popularity'], cluster['duration_ms'], label=f'Cluster {i}')\n",
    "    # plt.legend()\n",
    "    # plt.show()"
   ]
  },
  {
   "cell_type": "code",
   "execution_count": 151,
   "metadata": {},
   "outputs": [
    {
     "data": {
      "text/plain": [
       "([6399,\n",
       "  2059,\n",
       "  1746,\n",
       "  1747,\n",
       "  6648,\n",
       "  579,\n",
       "  5222,\n",
       "  1336,\n",
       "  5446,\n",
       "  2165,\n",
       "  1204,\n",
       "  5256,\n",
       "  7825,\n",
       "  849,\n",
       "  8072,\n",
       "  8521,\n",
       "  3143,\n",
       "  4476,\n",
       "  4182,\n",
       "  782],\n",
       " ['Porque te ha gustado 93 Million Miles y teniendo en cuenta todas las características de la canción te recomendamos la canción 蜚蜚',\n",
       "  \"Porque te ha gustado 93 Million Miles y teniendo en cuenta todas las características de la canción te recomendamos la canción We Don't Belong\",\n",
       "  'Porque te ha gustado 93 Million Miles y teniendo en cuenta todas las características de la canción te recomendamos la canción Darker Shade of Black',\n",
       "  'Porque te ha gustado 93 Million Miles y teniendo en cuenta todas las características de la canción te recomendamos la canción Darker Shade of Pale',\n",
       "  'Porque te ha gustado 93 Million Miles y teniendo en cuenta todas las características de la canción te recomendamos la canción 午夜皇后',\n",
       "  \"Porque te ha gustado 93 Million Miles y teniendo en cuenta todas las características de la canción te recomendamos la canción Life's A Party\",\n",
       "  \"Porque te ha gustado 93 Million Miles y teniendo en cuenta todas las características de la canción te recomendamos la canción Dancin' Tonight\",\n",
       "  'Porque te ha gustado 93 Million Miles y teniendo en cuenta todas las características de la canción te recomendamos la canción Turncoat',\n",
       "  \"Porque te ha gustado 93 Million Miles y teniendo en cuenta todas las características de la canción te recomendamos la canción What Cha Do'in to Me\",\n",
       "  'Porque te ha gustado 93 Million Miles y teniendo en cuenta todas las características de la canción te recomendamos la canción Oh My God',\n",
       "  'Porque te ha gustado 93 Million Miles y teniendo en cuenta todas las características de la canción te recomendamos la canción Cut Me Down (feat. Kylie Auldist)',\n",
       "  'Porque te ha gustado 93 Million Miles y teniendo en cuenta todas las características de la canción te recomendamos la canción Sweet Little Angel - Live',\n",
       "  'Porque te ha gustado 93 Million Miles y teniendo en cuenta todas las características de la canción te recomendamos la canción Saola',\n",
       "  'Porque te ha gustado 93 Million Miles y teniendo en cuenta todas las características de la canción te recomendamos la canción Street in ime',\n",
       "  \"Porque te ha gustado 93 Million Miles y teniendo en cuenta todas las características de la canción te recomendamos la canción You're My Rescue\",\n",
       "  'Porque te ha gustado 93 Million Miles y teniendo en cuenta todas las características de la canción te recomendamos la canción Frühlingsglaube (Arr. Franz Liszt)',\n",
       "  'Porque te ha gustado 93 Million Miles y teniendo en cuenta todas las características de la canción te recomendamos la canción Mary Celeste',\n",
       "  'Porque te ha gustado 93 Million Miles y teniendo en cuenta todas las características de la canción te recomendamos la canción Krigsatte Faner',\n",
       "  'Porque te ha gustado 93 Million Miles y teniendo en cuenta todas las características de la canción te recomendamos la canción True Names',\n",
       "  'Porque te ha gustado 93 Million Miles y teniendo en cuenta todas las características de la canción te recomendamos la canción Last Call'])"
      ]
     },
     "execution_count": 151,
     "metadata": {},
     "output_type": "execute_result"
    }
   ],
   "source": [
    "third_stage(1)"
   ]
  },
  {
   "cell_type": "markdown",
   "metadata": {},
   "source": [
    "La función ***recommender*** es el recomendador final que devuelve las canciones más parecidas dada una canción seleccionada y los atributos a tener en cuenta, estos últimos pueden ser ninguno y directamente se pasa a un filtrado colaborativo."
   ]
  },
  {
   "cell_type": "code",
   "execution_count": 152,
   "metadata": {},
   "outputs": [],
   "source": [
    "#num_ratings = len(ratings[ratings['userId'] == user_id])"
   ]
  },
  {
   "cell_type": "code",
   "execution_count": 153,
   "metadata": {},
   "outputs": [],
   "source": [
    "def recommender(song_id, options, user_id):\n",
    "    # Primera fase: consiste en la obtención de la lista de canciones parecidas que cumplan con los atributos que el usuario ha elegido.\n",
    "    list_songs_content = [] # Lista de canciones recomendadas basadas\n",
    "    list_songs_collaborative = []\n",
    "    \n",
    "    if len(options) != 0: \n",
    "        list_songs_content, explanation_1 = first_stage(song_id, options)\n",
    "\n",
    "    # Segunda fase: filtrado colaborativo (si la lista es demasiado grande)\n",
    "    num_ratings = len(ratings[ratings['userId'] == user_id])\n",
    "    \n",
    "    if num_ratings > 0:\n",
    "        list_songs_collaborative, explanation_2 = second_stage(song_id)\n",
    "    list_final = []\n",
    "\n",
    "    if len(list_songs_content) > 10 and len(list_songs_collaborative) != 0: # Es necesario hacer la intersección -> segunda fase\n",
    "        aux = intercalate_lists(list_songs_content, list_songs_collaborative)\n",
    "        aux_explanation = intercalate_lists(explanation_1, explanation_2)\n",
    "                    \n",
    "        list_final = aux.copy()[:10]\n",
    "        explanation = aux_explanation.copy()[:10]\n",
    "        \n",
    "    elif len(list_songs_content) == 0:\n",
    "        if len(list_songs_collaborative) == 0 or num_ratings == 0:\n",
    "            aux, aux_explanation = third_stage(song_id)\n",
    "        else: \n",
    "            aux = list_songs_collaborative\n",
    "            aux_explanation = explanation_2\n",
    "                    \n",
    "        list_final = aux.copy()[:10]\n",
    "        explanation = aux_explanation.copy()[:10]\n",
    "    else:\n",
    "        aux = list_songs_content\n",
    "        aux_explanation = explanation_1\n",
    "        \n",
    "        list_final = aux.copy()[:10]\n",
    "        explanation = aux_explanation.copy()[:10]\n",
    "    \n",
    "    return list_final, explanation"
   ]
  },
  {
   "cell_type": "markdown",
   "metadata": {},
   "source": [
    "Hacemos unas pruebas y parece ser que funciona bien"
   ]
  },
  {
   "cell_type": "code",
   "execution_count": 154,
   "metadata": {},
   "outputs": [
    {
     "name": "stdout",
     "output_type": "stream",
     "text": [
      "here\n"
     ]
    },
    {
     "data": {
      "text/plain": [
       "([1951, 2599, 1827, 7641, 1807, 2034, 16, 644, 2732, 9417],\n",
       " ['Porque te ha gustado Do Not Let Me Go y teniendo en cuenta la opción seleccionada (con una popularidad de 57): te recomendamos la canción The Heart Of Worship con una popularidad de 57)',\n",
       "  'Porque te ha gustado Do Not Let Me Go y teniendo en cuenta los gustos similares a otros usuarios',\n",
       "  'Porque te ha gustado Do Not Let Me Go y teniendo en cuenta la opción seleccionada (con una popularidad de 57): te recomendamos la canción The Way It Was con una popularidad de 57)',\n",
       "  'Porque te ha gustado Do Not Let Me Go y teniendo en cuenta los gustos similares a otros usuarios',\n",
       "  'Porque te ha gustado Do Not Let Me Go y teniendo en cuenta la opción seleccionada (con una popularidad de 57): te recomendamos la canción Lion con una popularidad de 57)',\n",
       "  'Porque te ha gustado Do Not Let Me Go y teniendo en cuenta los gustos similares a otros usuarios',\n",
       "  'Porque te ha gustado Do Not Let Me Go y teniendo en cuenta la opción seleccionada (con una popularidad de 57): te recomendamos la canción Home con una popularidad de 57)',\n",
       "  'Porque te ha gustado Do Not Let Me Go y teniendo en cuenta los gustos similares a otros usuarios',\n",
       "  'Porque te ha gustado Do Not Let Me Go y teniendo en cuenta la opción seleccionada (con una popularidad de 57): te recomendamos la canción Dance For Me Wallis con una popularidad de 57)',\n",
       "  'Porque te ha gustado Do Not Let Me Go y teniendo en cuenta los gustos similares a otros usuarios'])"
      ]
     },
     "execution_count": 154,
     "metadata": {},
     "output_type": "execute_result"
    }
   ],
   "source": [
    "recommender(2, ['popularity'], 1)"
   ]
  },
  {
   "cell_type": "markdown",
   "metadata": {},
   "source": [
    "### Recomendador para varias canciones (PARTE IMPORTANTE)"
   ]
  },
  {
   "cell_type": "markdown",
   "metadata": {},
   "source": [
    "La función ***merge_lists*** evita repetidos de manera eficiente"
   ]
  },
  {
   "cell_type": "code",
   "execution_count": 155,
   "metadata": {},
   "outputs": [],
   "source": [
    "def merge_lists(l1, l2, l3):\n",
    "    # Convertir l1 a un conjunto para búsquedas eficientes\n",
    "    s1 = set(l1)\n",
    "    s3 = set(l3)\n",
    "\n",
    "    # Crear una nueva lista para los elementos de l2 que no están en l1\n",
    "    l2 = [item for item in l2 if (item not in s1 and item not in s3)]\n",
    "\n",
    "    # Añadir los elementos de l2 a l1\n",
    "    l1.extend(l2)\n",
    "\n",
    "    return l1"
   ]
  },
  {
   "cell_type": "markdown",
   "metadata": {},
   "source": [
    "La función ***recommender_songs*** devuelve las canciones similares de una lista de canciones. Consiste en devolver las canciones comunes de las similares de cada canción y así sucesivamente hasta conseguir al menos 10."
   ]
  },
  {
   "cell_type": "code",
   "execution_count": 156,
   "metadata": {},
   "outputs": [],
   "source": [
    "def recommender_songs(songs_id, options, user_id):\n",
    "    ret_songs = []\n",
    "    ret_expl = []\n",
    "    \n",
    "    similar_songs = []\n",
    "    explanation_songs = []\n",
    "   \n",
    "    ids = songs_id.copy() # Copiamos los ids pasados\n",
    "    # Recorremos todas para obtener la lista de canciones similares de cada canción de seleccionada\n",
    "    # Luego se hace intersección\n",
    "    # De la intersección si no se ha llegado a 10 canciones en común, con esa intersección se vuelve a buscar las similares y comunes pero a estas y se añaden en la lista final las que no estén ya.\n",
    "    for song_id in ids:\n",
    "        s, e = recommender(song_id,options,user_id) \n",
    "        similar_songs.append(s)\n",
    "        explanation_songs.append(e)\n",
    "    \n",
    "    aux_songs = intercalate_lists(*similar_songs)\n",
    "    print(similar_songs)\n",
    "    print(explanation_songs)\n",
    "    \n",
    "    aux_expl = intercalate_lists(*explanation_songs)\n",
    "            \n",
    "    return aux_songs[:10], aux_expl[:10]"
   ]
  },
  {
   "cell_type": "markdown",
   "metadata": {},
   "source": [
    "Lo he probado y funciona"
   ]
  },
  {
   "cell_type": "code",
   "execution_count": 157,
   "metadata": {},
   "outputs": [
    {
     "name": "stdout",
     "output_type": "stream",
     "text": [
      "[[9457, 30, 5550, 7346, 5009, 6482, 2777, 6119, 8636, 8580]]\n",
      "[['Porque te ha gustado Stuck On You y teniendo en cuenta todas las características de la canción te recomendamos la canción Love You Like A Love Song (Glee Cast Version)', 'Porque te ha gustado Stuck On You y teniendo en cuenta todas las características de la canción te recomendamos la canción Everybody Knows My Name', 'Porque te ha gustado Stuck On You y teniendo en cuenta todas las características de la canción te recomendamos la canción A Lesson Learned', \"Porque te ha gustado Stuck On You y teniendo en cuenta todas las características de la canción te recomendamos la canción It's A Crime - Caribou Mix\", \"Porque te ha gustado Stuck On You y teniendo en cuenta todas las características de la canción te recomendamos la canción Couldn't Get It Right\", 'Porque te ha gustado Stuck On You y teniendo en cuenta todas las características de la canción te recomendamos la canción 思念是一種病(國)', 'Porque te ha gustado Stuck On You y teniendo en cuenta todas las características de la canción te recomendamos la canción You', 'Porque te ha gustado Stuck On You y teniendo en cuenta todas las características de la canción te recomendamos la canción Happy Song - Radio Edit', 'Porque te ha gustado Stuck On You y teniendo en cuenta todas las características de la canción te recomendamos la canción All-night Vigil, Op. 37, \"Vespers\": Hail, O Virgin Mother (Ave Maria)', 'Porque te ha gustado Stuck On You y teniendo en cuenta todas las características de la canción te recomendamos la canción Lullaby Of Birdland <featuring 手嶌葵>']]\n"
     ]
    },
    {
     "data": {
      "text/plain": [
       "([9457, 30, 5550, 7346, 5009, 6482, 2777, 6119, 8636, 8580],\n",
       " ['Porque te ha gustado Stuck On You y teniendo en cuenta todas las características de la canción te recomendamos la canción Love You Like A Love Song (Glee Cast Version)',\n",
       "  'Porque te ha gustado Stuck On You y teniendo en cuenta todas las características de la canción te recomendamos la canción Everybody Knows My Name',\n",
       "  'Porque te ha gustado Stuck On You y teniendo en cuenta todas las características de la canción te recomendamos la canción A Lesson Learned',\n",
       "  \"Porque te ha gustado Stuck On You y teniendo en cuenta todas las características de la canción te recomendamos la canción It's A Crime - Caribou Mix\",\n",
       "  \"Porque te ha gustado Stuck On You y teniendo en cuenta todas las características de la canción te recomendamos la canción Couldn't Get It Right\",\n",
       "  'Porque te ha gustado Stuck On You y teniendo en cuenta todas las características de la canción te recomendamos la canción 思念是一種病(國)',\n",
       "  'Porque te ha gustado Stuck On You y teniendo en cuenta todas las características de la canción te recomendamos la canción You',\n",
       "  'Porque te ha gustado Stuck On You y teniendo en cuenta todas las características de la canción te recomendamos la canción Happy Song - Radio Edit',\n",
       "  'Porque te ha gustado Stuck On You y teniendo en cuenta todas las características de la canción te recomendamos la canción All-night Vigil, Op. 37, \"Vespers\": Hail, O Virgin Mother (Ave Maria)',\n",
       "  'Porque te ha gustado Stuck On You y teniendo en cuenta todas las características de la canción te recomendamos la canción Lullaby Of Birdland <featuring 手嶌葵>'])"
      ]
     },
     "execution_count": 157,
     "metadata": {},
     "output_type": "execute_result"
    }
   ],
   "source": [
    "recommender_songs([22],[], 45455)\n"
   ]
  },
  {
   "cell_type": "code",
   "execution_count": 158,
   "metadata": {},
   "outputs": [
    {
     "data": {
      "text/plain": [
       "'Forgetting'"
      ]
     },
     "execution_count": 158,
     "metadata": {},
     "output_type": "execute_result"
    }
   ],
   "source": [
    "songs[songs[\"songId\"] == 748][\"track_name\"].iloc[0]"
   ]
  },
  {
   "cell_type": "code",
   "execution_count": 159,
   "metadata": {},
   "outputs": [
    {
     "name": "stdout",
     "output_type": "stream",
     "text": [
      "19\n"
     ]
    },
    {
     "name": "stdout",
     "output_type": "stream",
     "text": [
      "[[8497, 4095, 84, 2415, 5670, 921, 114, 820, 6275, 6138]]\n",
      "[[\"Porque te ha gustado Once Upon Another Time y teniendo en cuenta la opción seleccionada (cuyo(s) género(s) son ['classical', 'indie-pop', 'club', 'metal']): te recomendamos la canción Little Expressionless Animals cuyo(s) género(s) son ['club', 'industrial', 'indie-pop', 'classical'])\", 'Porque te ha gustado Once Upon Another Time y teniendo en cuenta los gustos similares a otros usuarios', 'Porque te ha gustado Once Upon Another Time y teniendo en cuenta la opción seleccionada (con una popularidad de 39): te recomendamos la canción I Want It That Way con una popularidad de 39)', 'Porque te ha gustado Once Upon Another Time y teniendo en cuenta los gustos similares a otros usuarios', \"Porque te ha gustado Once Upon Another Time y teniendo en cuenta la opción seleccionada (cuyo(s) género(s) son ['classical', 'indie-pop', 'club', 'metal']): te recomendamos la canción Alpha Centauri cuyo(s) género(s) son ['metal', 'indie-pop'])\", 'Porque te ha gustado Once Upon Another Time y teniendo en cuenta los gustos similares a otros usuarios', 'Porque te ha gustado Once Upon Another Time y teniendo en cuenta la opción seleccionada (con una popularidad de 39): te recomendamos la canción It Will Rain con una popularidad de 39)', 'Porque te ha gustado Once Upon Another Time y teniendo en cuenta los gustos similares a otros usuarios', \"Porque te ha gustado Once Upon Another Time y teniendo en cuenta la opción seleccionada (cuyo(s) género(s) son ['classical', 'indie-pop', 'club', 'metal']): te recomendamos la canción Doubles cuyo(s) género(s) son ['metal', 'club'])\", 'Porque te ha gustado Once Upon Another Time y teniendo en cuenta los gustos similares a otros usuarios']]\n"
     ]
    },
    {
     "data": {
      "text/plain": [
       "([8497, 4095, 84, 2415, 5670, 921, 114, 820, 6275, 6138],\n",
       " [\"Porque te ha gustado Once Upon Another Time y teniendo en cuenta la opción seleccionada (cuyo(s) género(s) son ['classical', 'indie-pop', 'club', 'metal']): te recomendamos la canción Little Expressionless Animals cuyo(s) género(s) son ['club', 'industrial', 'indie-pop', 'classical'])\",\n",
       "  'Porque te ha gustado Once Upon Another Time y teniendo en cuenta los gustos similares a otros usuarios',\n",
       "  'Porque te ha gustado Once Upon Another Time y teniendo en cuenta la opción seleccionada (con una popularidad de 39): te recomendamos la canción I Want It That Way con una popularidad de 39)',\n",
       "  'Porque te ha gustado Once Upon Another Time y teniendo en cuenta los gustos similares a otros usuarios',\n",
       "  \"Porque te ha gustado Once Upon Another Time y teniendo en cuenta la opción seleccionada (cuyo(s) género(s) son ['classical', 'indie-pop', 'club', 'metal']): te recomendamos la canción Alpha Centauri cuyo(s) género(s) son ['metal', 'indie-pop'])\",\n",
       "  'Porque te ha gustado Once Upon Another Time y teniendo en cuenta los gustos similares a otros usuarios',\n",
       "  'Porque te ha gustado Once Upon Another Time y teniendo en cuenta la opción seleccionada (con una popularidad de 39): te recomendamos la canción It Will Rain con una popularidad de 39)',\n",
       "  'Porque te ha gustado Once Upon Another Time y teniendo en cuenta los gustos similares a otros usuarios',\n",
       "  \"Porque te ha gustado Once Upon Another Time y teniendo en cuenta la opción seleccionada (cuyo(s) género(s) son ['classical', 'indie-pop', 'club', 'metal']): te recomendamos la canción Doubles cuyo(s) género(s) son ['metal', 'club'])\",\n",
       "  'Porque te ha gustado Once Upon Another Time y teniendo en cuenta los gustos similares a otros usuarios'])"
      ]
     },
     "execution_count": 159,
     "metadata": {},
     "output_type": "execute_result"
    }
   ],
   "source": [
    "recommender_songs([19],['genres', 'popularity'], 1)"
   ]
  },
  {
   "cell_type": "code",
   "execution_count": 160,
   "metadata": {},
   "outputs": [
    {
     "name": "stdout",
     "output_type": "stream",
     "text": [
      "here\n",
      "here\n",
      "here\n",
      "[[3265, 9493, 8006, 1841, 7185, 5338, 676, 8543, 4829, 6901], [5647, 4810, 7831, 2464, 5050, 5873, 9029, 7330, 9043, 6274], [4620, 9399, 6596, 7934, 1764, 1253, 7669, 2800, 2435, 7331]]\n",
      "[['Porque te ha gustado Transvestities Can Be Cannibals Too y teniendo en cuenta la opción seleccionada (una duración de 4:36): te recomendamos la canción Opus 54 una duración de 4:36)', 'Porque te ha gustado Transvestities Can Be Cannibals Too y teniendo en cuenta los gustos similares a otros usuarios', 'Porque te ha gustado Transvestities Can Be Cannibals Too y teniendo en cuenta la opción seleccionada (una duración de 4:36): te recomendamos la canción Mental Breakdown (2004) una duración de 4:37)', 'Porque te ha gustado Transvestities Can Be Cannibals Too y teniendo en cuenta los gustos similares a otros usuarios', 'Porque te ha gustado Transvestities Can Be Cannibals Too y teniendo en cuenta la opción seleccionada (una duración de 4:36): te recomendamos la canción 世外桃源 una duración de 4:36)', 'Porque te ha gustado Transvestities Can Be Cannibals Too y teniendo en cuenta los gustos similares a otros usuarios', 'Porque te ha gustado Transvestities Can Be Cannibals Too y teniendo en cuenta la opción seleccionada (una duración de 4:36): te recomendamos la canción Driver Pull una duración de 4:37)', 'Porque te ha gustado Transvestities Can Be Cannibals Too y teniendo en cuenta los gustos similares a otros usuarios', \"Porque te ha gustado Transvestities Can Be Cannibals Too y teniendo en cuenta la opción seleccionada (una duración de 4:36): te recomendamos la canción She's Gone una duración de 4:37)\", 'Porque te ha gustado Transvestities Can Be Cannibals Too y teniendo en cuenta los gustos similares a otros usuarios'], ['Porque te ha gustado Still Here y teniendo en cuenta la opción seleccionada (una duración de 1:22): te recomendamos la canción Pusher Theme una duración de 1:22)', 'Porque te ha gustado Still Here y teniendo en cuenta los gustos similares a otros usuarios', 'Porque te ha gustado Still Here y teniendo en cuenta la opción seleccionada (una duración de 1:22): te recomendamos la canción O-hashi 2 una duración de 1:22)', 'Porque te ha gustado Still Here y teniendo en cuenta los gustos similares a otros usuarios', 'Porque te ha gustado Still Here y teniendo en cuenta la opción seleccionada (una duración de 1:22): te recomendamos la canción The Wildness una duración de 1:22)', 'Porque te ha gustado Still Here y teniendo en cuenta los gustos similares a otros usuarios', 'Porque te ha gustado Still Here y teniendo en cuenta la opción seleccionada (una duración de 1:22): te recomendamos la canción Beethoven: Fortepiano and Horn in F op. 17, II. Poco adagio, quasi Andante una duración de 1:22)', 'Porque te ha gustado Still Here y teniendo en cuenta los gustos similares a otros usuarios', 'Porque te ha gustado Still Here y teniendo en cuenta la opción seleccionada (una duración de 1:22): te recomendamos la canción Quatre petites prières de Saint François d’ Assise: III. Seigneur, je vous en prie una duración de 1:22)', 'Porque te ha gustado Still Here y teniendo en cuenta los gustos similares a otros usuarios'], ['Porque te ha gustado Stay y teniendo en cuenta la opción seleccionada (una duración de 4:22): te recomendamos la canción Blutgeil (Live) una duración de 4:22)', 'Porque te ha gustado Stay y teniendo en cuenta los gustos similares a otros usuarios', 'Porque te ha gustado Stay y teniendo en cuenta la opción seleccionada (una duración de 4:22): te recomendamos la canción 非常夏日 una duración de 4:22)', 'Porque te ha gustado Stay y teniendo en cuenta los gustos similares a otros usuarios', 'Porque te ha gustado Stay y teniendo en cuenta la opción seleccionada (una duración de 4:22): te recomendamos la canción Lazy Bones Harold Butler-Ras una duración de 4:22)', 'Porque te ha gustado Stay y teniendo en cuenta los gustos similares a otros usuarios', 'Porque te ha gustado Stay y teniendo en cuenta la opción seleccionada (una duración de 4:22): te recomendamos la canción Dragon Pirates una duración de 4:22)', 'Porque te ha gustado Stay y teniendo en cuenta los gustos similares a otros usuarios', 'Porque te ha gustado Stay y teniendo en cuenta la opción seleccionada (una duración de 4:22): te recomendamos la canción Bocanegra una duración de 4:22)', 'Porque te ha gustado Stay y teniendo en cuenta los gustos similares a otros usuarios']]\n"
     ]
    },
    {
     "data": {
      "text/plain": [
       "([3265, 5647, 4620, 9493, 4810, 9399, 8006, 7831, 6596, 1841],\n",
       " ['Porque te ha gustado Transvestities Can Be Cannibals Too y teniendo en cuenta la opción seleccionada (una duración de 4:36): te recomendamos la canción Opus 54 una duración de 4:36)',\n",
       "  'Porque te ha gustado Still Here y teniendo en cuenta la opción seleccionada (una duración de 1:22): te recomendamos la canción Pusher Theme una duración de 1:22)',\n",
       "  'Porque te ha gustado Stay y teniendo en cuenta la opción seleccionada (una duración de 4:22): te recomendamos la canción Blutgeil (Live) una duración de 4:22)',\n",
       "  'Porque te ha gustado Transvestities Can Be Cannibals Too y teniendo en cuenta los gustos similares a otros usuarios',\n",
       "  'Porque te ha gustado Still Here y teniendo en cuenta los gustos similares a otros usuarios',\n",
       "  'Porque te ha gustado Stay y teniendo en cuenta los gustos similares a otros usuarios',\n",
       "  'Porque te ha gustado Transvestities Can Be Cannibals Too y teniendo en cuenta la opción seleccionada (una duración de 4:36): te recomendamos la canción Mental Breakdown (2004) una duración de 4:37)',\n",
       "  'Porque te ha gustado Still Here y teniendo en cuenta la opción seleccionada (una duración de 1:22): te recomendamos la canción O-hashi 2 una duración de 1:22)',\n",
       "  'Porque te ha gustado Stay y teniendo en cuenta la opción seleccionada (una duración de 4:22): te recomendamos la canción 非常夏日 una duración de 4:22)',\n",
       "  'Porque te ha gustado Transvestities Can Be Cannibals Too y teniendo en cuenta los gustos similares a otros usuarios'])"
      ]
     },
     "execution_count": 160,
     "metadata": {},
     "output_type": "execute_result"
    }
   ],
   "source": [
    "recommender_songs([17,31,27],['duration_ms'], 1)"
   ]
  },
  {
   "cell_type": "code",
   "execution_count": 161,
   "metadata": {},
   "outputs": [
    {
     "name": "stdout",
     "output_type": "stream",
     "text": [
      "1\n",
      "[[230, 5071, 6399, 3752, 472, 2909, 2059, 8563, 737, 3360]]\n",
      "[[\"Porque te ha gustado 93 Million Miles y teniendo en cuenta la opción seleccionada (cuyo(s) género(s) son ['rock']): te recomendamos la canción You're My Best Friend cuyo(s) género(s) son ['rock'])\", 'Porque te ha gustado 93 Million Miles y teniendo en cuenta los gustos similares a otros usuarios', 'Porque te ha gustado 93 Million Miles y teniendo en cuenta las opciones seleccionadas (una duración de 3:36, con una popularidad de 50 y del año 2012): te recomendamos la canción 蜚蜚 una duración de 3:36, con una popularidad de 50 y del año 2012)', 'Porque te ha gustado 93 Million Miles y teniendo en cuenta los gustos similares a otros usuarios', \"Porque te ha gustado 93 Million Miles y teniendo en cuenta la opción seleccionada (cuyo(s) género(s) son ['rock']): te recomendamos la canción Master Maqui - Area 52 Version cuyo(s) género(s) son ['rock'])\", 'Porque te ha gustado 93 Million Miles y teniendo en cuenta los gustos similares a otros usuarios', \"Porque te ha gustado 93 Million Miles y teniendo en cuenta las opciones seleccionadas (una duración de 3:36, con una popularidad de 50 y del año 2012): te recomendamos la canción We Don't Belong una duración de 3:36, con una popularidad de 39 y del año 2012)\", 'Porque te ha gustado 93 Million Miles y teniendo en cuenta los gustos similares a otros usuarios', \"Porque te ha gustado 93 Million Miles y teniendo en cuenta la opción seleccionada (cuyo(s) género(s) son ['rock']): te recomendamos la canción Lost in the World cuyo(s) género(s) son ['rock'])\", 'Porque te ha gustado 93 Million Miles y teniendo en cuenta los gustos similares a otros usuarios']]\n"
     ]
    },
    {
     "data": {
      "text/plain": [
       "([230, 5071, 6399, 3752, 472, 2909, 2059, 8563, 737, 3360],\n",
       " [\"Porque te ha gustado 93 Million Miles y teniendo en cuenta la opción seleccionada (cuyo(s) género(s) son ['rock']): te recomendamos la canción You're My Best Friend cuyo(s) género(s) son ['rock'])\",\n",
       "  'Porque te ha gustado 93 Million Miles y teniendo en cuenta los gustos similares a otros usuarios',\n",
       "  'Porque te ha gustado 93 Million Miles y teniendo en cuenta las opciones seleccionadas (una duración de 3:36, con una popularidad de 50 y del año 2012): te recomendamos la canción 蜚蜚 una duración de 3:36, con una popularidad de 50 y del año 2012)',\n",
       "  'Porque te ha gustado 93 Million Miles y teniendo en cuenta los gustos similares a otros usuarios',\n",
       "  \"Porque te ha gustado 93 Million Miles y teniendo en cuenta la opción seleccionada (cuyo(s) género(s) son ['rock']): te recomendamos la canción Master Maqui - Area 52 Version cuyo(s) género(s) son ['rock'])\",\n",
       "  'Porque te ha gustado 93 Million Miles y teniendo en cuenta los gustos similares a otros usuarios',\n",
       "  \"Porque te ha gustado 93 Million Miles y teniendo en cuenta las opciones seleccionadas (una duración de 3:36, con una popularidad de 50 y del año 2012): te recomendamos la canción We Don't Belong una duración de 3:36, con una popularidad de 39 y del año 2012)\",\n",
       "  'Porque te ha gustado 93 Million Miles y teniendo en cuenta los gustos similares a otros usuarios',\n",
       "  \"Porque te ha gustado 93 Million Miles y teniendo en cuenta la opción seleccionada (cuyo(s) género(s) son ['rock']): te recomendamos la canción Lost in the World cuyo(s) género(s) son ['rock'])\",\n",
       "  'Porque te ha gustado 93 Million Miles y teniendo en cuenta los gustos similares a otros usuarios'])"
      ]
     },
     "execution_count": 161,
     "metadata": {},
     "output_type": "execute_result"
    }
   ],
   "source": [
    "recommender_songs([1],['duration_ms','popularity','year','genres'], 1)"
   ]
  },
  {
   "cell_type": "code",
   "execution_count": 162,
   "metadata": {},
   "outputs": [
    {
     "data": {
      "text/plain": [
       "'Hurry Up'"
      ]
     },
     "execution_count": 162,
     "metadata": {},
     "output_type": "execute_result"
    }
   ],
   "source": [
    "songs[songs[\"songId\"] == 1664][\"track_name\"].iloc[0]"
   ]
  },
  {
   "cell_type": "code",
   "execution_count": 163,
   "metadata": {},
   "outputs": [],
   "source": [
    "def update_ratings():\n",
    "    global ratings\n",
    "    ratings.to_csv('ratings.csv', index=False)"
   ]
  },
  {
   "cell_type": "code",
   "execution_count": 164,
   "metadata": {},
   "outputs": [],
   "source": [
    "def add_rating(song_id, user_id):\n",
    "    global ratings\n",
    "    if ((ratings['userId'] == user_id) & (ratings['songId'] == song_id)).any():\n",
    "        # Obtener el timestamp actual\n",
    "        new_timestamp = datetime.timestamp(datetime.now())\n",
    "        # Añadir la nueva fila al DataFrame\n",
    "        #global ratings\n",
    "        ratings.loc[(ratings['userId'] == user_id) & (ratings['songId'] == song_id), 'rating'] = 1\n",
    "        ratings.loc[(ratings['userId'] == user_id) & (ratings['songId'] == song_id), 'timestamp'] = new_timestamp\n",
    "    else:\n",
    "        # Obtener el timestamp actual\n",
    "        new_timestamp = datetime.timestamp(datetime.now())\n",
    "        # Crear una nueva fila como un diccionario\n",
    "        new_row = {'userId': user_id, 'songId': song_id,  'rating': 1, 'timestamp': new_timestamp}\n",
    "        # Añadir la nueva fila al DataFrame\n",
    "        #global ratings\n",
    "        ratings.loc[len(ratings)] = new_row\n",
    "    \n",
    "    update_ratings()"
   ]
  },
  {
   "cell_type": "code",
   "execution_count": 165,
   "metadata": {},
   "outputs": [],
   "source": [
    "def delete_rating(song_id, user_id):\n",
    "    global ratings\n",
    "    if not((ratings['userId'] == user_id) & (ratings['songId'] == song_id)).any():\n",
    "        return\n",
    "    # Obtener el timestamp actual\n",
    "    new_timestamp = datetime.timestamp(datetime.now())\n",
    "    # Añadir la nueva fila al DataFrame\n",
    "    #global ratings\n",
    "    ratings.loc[(ratings['userId'] == user_id) & (ratings['songId'] == song_id), 'rating'] = 0\n",
    "    ratings.loc[(ratings['userId'] == user_id) & (ratings['songId'] == song_id), 'timestamp'] = new_timestamp\n",
    "    \n",
    "    update_ratings()"
   ]
  },
  {
   "cell_type": "code",
   "execution_count": 166,
   "metadata": {},
   "outputs": [
    {
     "data": {
      "text/html": [
       "<div>\n",
       "<style scoped>\n",
       "    .dataframe tbody tr th:only-of-type {\n",
       "        vertical-align: middle;\n",
       "    }\n",
       "\n",
       "    .dataframe tbody tr th {\n",
       "        vertical-align: top;\n",
       "    }\n",
       "\n",
       "    .dataframe thead th {\n",
       "        text-align: right;\n",
       "    }\n",
       "</style>\n",
       "<table border=\"1\" class=\"dataframe\">\n",
       "  <thead>\n",
       "    <tr style=\"text-align: right;\">\n",
       "      <th></th>\n",
       "      <th>userId</th>\n",
       "      <th>songId</th>\n",
       "      <th>rating</th>\n",
       "      <th>timestamp</th>\n",
       "    </tr>\n",
       "  </thead>\n",
       "  <tbody>\n",
       "    <tr>\n",
       "      <th>0</th>\n",
       "      <td>1</td>\n",
       "      <td>4506</td>\n",
       "      <td>0</td>\n",
       "      <td>1705966778</td>\n",
       "    </tr>\n",
       "    <tr>\n",
       "      <th>1</th>\n",
       "      <td>1</td>\n",
       "      <td>2957</td>\n",
       "      <td>1</td>\n",
       "      <td>1705951830</td>\n",
       "    </tr>\n",
       "    <tr>\n",
       "      <th>2</th>\n",
       "      <td>1</td>\n",
       "      <td>9681</td>\n",
       "      <td>1</td>\n",
       "      <td>1705978128</td>\n",
       "    </tr>\n",
       "    <tr>\n",
       "      <th>3</th>\n",
       "      <td>1</td>\n",
       "      <td>9994</td>\n",
       "      <td>0</td>\n",
       "      <td>1705982837</td>\n",
       "    </tr>\n",
       "    <tr>\n",
       "      <th>4</th>\n",
       "      <td>1</td>\n",
       "      <td>1829</td>\n",
       "      <td>1</td>\n",
       "      <td>1705974094</td>\n",
       "    </tr>\n",
       "  </tbody>\n",
       "</table>\n",
       "</div>"
      ],
      "text/plain": [
       "   userId  songId  rating   timestamp\n",
       "0       1    4506       0  1705966778\n",
       "1       1    2957       1  1705951830\n",
       "2       1    9681       1  1705978128\n",
       "3       1    9994       0  1705982837\n",
       "4       1    1829       1  1705974094"
      ]
     },
     "execution_count": 166,
     "metadata": {},
     "output_type": "execute_result"
    }
   ],
   "source": [
    "ratings.head()"
   ]
  },
  {
   "cell_type": "code",
   "execution_count": 167,
   "metadata": {},
   "outputs": [],
   "source": [
    "add_rating(1,4506)"
   ]
  },
  {
   "cell_type": "code",
   "execution_count": 168,
   "metadata": {},
   "outputs": [],
   "source": [
    "delete_rating(1,4506)"
   ]
  },
  {
   "cell_type": "code",
   "execution_count": 169,
   "metadata": {},
   "outputs": [
    {
     "data": {
      "text/plain": [
       "1164950"
      ]
     },
     "execution_count": 169,
     "metadata": {},
     "output_type": "execute_result"
    }
   ],
   "source": [
    "len(ratings)"
   ]
  },
  {
   "cell_type": "code",
   "execution_count": 170,
   "metadata": {},
   "outputs": [
    {
     "data": {
      "text/plain": [
       "userId       4.506000e+03\n",
       "songId       1.000000e+00\n",
       "rating       0.000000e+00\n",
       "timestamp    1.714403e+09\n",
       "Name: 1164949, dtype: float64"
      ]
     },
     "execution_count": 170,
     "metadata": {},
     "output_type": "execute_result"
    }
   ],
   "source": [
    "ratings.iloc[1164949]"
   ]
  },
  {
   "cell_type": "code",
   "execution_count": 171,
   "metadata": {},
   "outputs": [],
   "source": [
    "update_ratings()"
   ]
  },
  {
   "cell_type": "code",
   "execution_count": 172,
   "metadata": {},
   "outputs": [],
   "source": [
    "def new_ratings(user_id):\n",
    "    global ratings\n",
    "    ratings = ratings[ratings[\"userId\"] != user_id]\n",
    "    update_ratings()"
   ]
  },
  {
   "cell_type": "code",
   "execution_count": 173,
   "metadata": {},
   "outputs": [],
   "source": [
    "new_ratings(1)"
   ]
  },
  {
   "cell_type": "code",
   "execution_count": 174,
   "metadata": {},
   "outputs": [
    {
     "data": {
      "text/html": [
       "<div>\n",
       "<style scoped>\n",
       "    .dataframe tbody tr th:only-of-type {\n",
       "        vertical-align: middle;\n",
       "    }\n",
       "\n",
       "    .dataframe tbody tr th {\n",
       "        vertical-align: top;\n",
       "    }\n",
       "\n",
       "    .dataframe thead th {\n",
       "        text-align: right;\n",
       "    }\n",
       "</style>\n",
       "<table border=\"1\" class=\"dataframe\">\n",
       "  <thead>\n",
       "    <tr style=\"text-align: right;\">\n",
       "      <th></th>\n",
       "      <th>userId</th>\n",
       "      <th>songId</th>\n",
       "      <th>rating</th>\n",
       "      <th>timestamp</th>\n",
       "    </tr>\n",
       "  </thead>\n",
       "  <tbody>\n",
       "    <tr>\n",
       "      <th>366</th>\n",
       "      <td>2</td>\n",
       "      <td>8348</td>\n",
       "      <td>0</td>\n",
       "      <td>1.705976e+09</td>\n",
       "    </tr>\n",
       "    <tr>\n",
       "      <th>367</th>\n",
       "      <td>2</td>\n",
       "      <td>824</td>\n",
       "      <td>0</td>\n",
       "      <td>1.705961e+09</td>\n",
       "    </tr>\n",
       "    <tr>\n",
       "      <th>368</th>\n",
       "      <td>2</td>\n",
       "      <td>3451</td>\n",
       "      <td>0</td>\n",
       "      <td>1.705957e+09</td>\n",
       "    </tr>\n",
       "    <tr>\n",
       "      <th>369</th>\n",
       "      <td>2</td>\n",
       "      <td>1896</td>\n",
       "      <td>1</td>\n",
       "      <td>1.705980e+09</td>\n",
       "    </tr>\n",
       "    <tr>\n",
       "      <th>370</th>\n",
       "      <td>2</td>\n",
       "      <td>2006</td>\n",
       "      <td>0</td>\n",
       "      <td>1.705970e+09</td>\n",
       "    </tr>\n",
       "  </tbody>\n",
       "</table>\n",
       "</div>"
      ],
      "text/plain": [
       "     userId  songId  rating     timestamp\n",
       "366       2    8348       0  1.705976e+09\n",
       "367       2     824       0  1.705961e+09\n",
       "368       2    3451       0  1.705957e+09\n",
       "369       2    1896       1  1.705980e+09\n",
       "370       2    2006       0  1.705970e+09"
      ]
     },
     "execution_count": 174,
     "metadata": {},
     "output_type": "execute_result"
    }
   ],
   "source": [
    "ratings.head()"
   ]
  }
 ],
 "metadata": {
  "kernelspec": {
   "display_name": "base",
   "language": "python",
   "name": "python3"
  },
  "language_info": {
   "codemirror_mode": {
    "name": "ipython",
    "version": 3
   },
   "file_extension": ".py",
   "mimetype": "text/x-python",
   "name": "python",
   "nbconvert_exporter": "python",
   "pygments_lexer": "ipython3",
   "version": "3.12.1"
  }
 },
 "nbformat": 4,
 "nbformat_minor": 2
}
