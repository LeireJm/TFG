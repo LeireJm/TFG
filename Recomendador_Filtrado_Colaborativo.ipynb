{
 "cells": [
  {
   "cell_type": "markdown",
   "metadata": {},
   "source": [
    "## Recomendador con filtrado colaborativo"
   ]
  },
  {
   "cell_type": "markdown",
   "metadata": {},
   "source": [
    "Recomendador sin usar el framework de Surprise"
   ]
  },
  {
   "cell_type": "markdown",
   "metadata": {},
   "source": [
    "### Carga de datos"
   ]
  },
  {
   "cell_type": "markdown",
   "metadata": {},
   "source": [
    "Es necesario importar las librerías para nuestro recomendador."
   ]
  },
  {
   "cell_type": "code",
   "execution_count": 1,
   "metadata": {},
   "outputs": [],
   "source": [
    "import numpy as np\n",
    "import pandas as pd\n",
    "import matplotlib.pyplot as plt\n",
    "from sklearn.preprocessing import StandardScaler\n",
    "from sklearn.cluster import KMeans\n",
    "from sklearn.metrics import pairwise_distances_argmin_min\n",
    "import seaborn as sns"
   ]
  },
  {
   "cell_type": "markdown",
   "metadata": {},
   "source": [
    "Comenzamos cargando los datasets de las canciones junto a los ratings. El archivo original del dataset de las canciones incluía 1.2 millones de canciones por lo que se ha reducido el dataset a 50000 porque al no usar librerías específicas como Surprise no es eficiente y sobrepasa el uso de la memoria si utilizamos el dataset no reducido."
   ]
  },
  {
   "cell_type": "code",
   "execution_count": 2,
   "metadata": {},
   "outputs": [],
   "source": [
    "songs = pd.read_csv('spotify_data_red.csv')\n",
    "#songs = pd.read_csv('spotify_data.csv') Dataset original"
   ]
  },
  {
   "cell_type": "code",
   "execution_count": 3,
   "metadata": {},
   "outputs": [],
   "source": [
    "ratings = pd.read_csv('rating.csv')"
   ]
  },
  {
   "cell_type": "markdown",
   "metadata": {},
   "source": [
    "### Explicación de los atributos de las canciones"
   ]
  },
  {
   "cell_type": "code",
   "execution_count": 4,
   "metadata": {},
   "outputs": [
    {
     "data": {
      "text/html": [
       "<div>\n",
       "<style scoped>\n",
       "    .dataframe tbody tr th:only-of-type {\n",
       "        vertical-align: middle;\n",
       "    }\n",
       "\n",
       "    .dataframe tbody tr th {\n",
       "        vertical-align: top;\n",
       "    }\n",
       "\n",
       "    .dataframe thead th {\n",
       "        text-align: right;\n",
       "    }\n",
       "</style>\n",
       "<table border=\"1\" class=\"dataframe\">\n",
       "  <thead>\n",
       "    <tr style=\"text-align: right;\">\n",
       "      <th></th>\n",
       "      <th>songId</th>\n",
       "      <th>artist_name</th>\n",
       "      <th>track_name</th>\n",
       "      <th>track_id</th>\n",
       "      <th>popularity</th>\n",
       "      <th>year</th>\n",
       "      <th>genre</th>\n",
       "      <th>danceability</th>\n",
       "      <th>energy</th>\n",
       "      <th>key</th>\n",
       "      <th>loudness</th>\n",
       "      <th>mode</th>\n",
       "      <th>speechiness</th>\n",
       "      <th>acousticness</th>\n",
       "      <th>instrumentalness</th>\n",
       "      <th>liveness</th>\n",
       "      <th>valence</th>\n",
       "      <th>tempo</th>\n",
       "      <th>duration_ms</th>\n",
       "      <th>time_signature</th>\n",
       "    </tr>\n",
       "  </thead>\n",
       "  <tbody>\n",
       "    <tr>\n",
       "      <th>0</th>\n",
       "      <td>0</td>\n",
       "      <td>Jason Mraz</td>\n",
       "      <td>I Won't Give Up</td>\n",
       "      <td>53QF56cjZA9RTuuMZDrSA6</td>\n",
       "      <td>68</td>\n",
       "      <td>2012</td>\n",
       "      <td>acoustic</td>\n",
       "      <td>0.483</td>\n",
       "      <td>0.303</td>\n",
       "      <td>4</td>\n",
       "      <td>-10.058</td>\n",
       "      <td>1</td>\n",
       "      <td>0.0429</td>\n",
       "      <td>0.6940</td>\n",
       "      <td>0.000000</td>\n",
       "      <td>0.1150</td>\n",
       "      <td>0.139</td>\n",
       "      <td>133.406</td>\n",
       "      <td>240166</td>\n",
       "      <td>3</td>\n",
       "    </tr>\n",
       "    <tr>\n",
       "      <th>1</th>\n",
       "      <td>1</td>\n",
       "      <td>Jason Mraz</td>\n",
       "      <td>93 Million Miles</td>\n",
       "      <td>1s8tP3jP4GZcyHDsjvw218</td>\n",
       "      <td>50</td>\n",
       "      <td>2012</td>\n",
       "      <td>acoustic</td>\n",
       "      <td>0.572</td>\n",
       "      <td>0.454</td>\n",
       "      <td>3</td>\n",
       "      <td>-10.286</td>\n",
       "      <td>1</td>\n",
       "      <td>0.0258</td>\n",
       "      <td>0.4770</td>\n",
       "      <td>0.000014</td>\n",
       "      <td>0.0974</td>\n",
       "      <td>0.515</td>\n",
       "      <td>140.182</td>\n",
       "      <td>216387</td>\n",
       "      <td>4</td>\n",
       "    </tr>\n",
       "    <tr>\n",
       "      <th>2</th>\n",
       "      <td>2</td>\n",
       "      <td>Joshua Hyslop</td>\n",
       "      <td>Do Not Let Me Go</td>\n",
       "      <td>7BRCa8MPiyuvr2VU3O9W0F</td>\n",
       "      <td>57</td>\n",
       "      <td>2012</td>\n",
       "      <td>acoustic</td>\n",
       "      <td>0.409</td>\n",
       "      <td>0.234</td>\n",
       "      <td>3</td>\n",
       "      <td>-13.711</td>\n",
       "      <td>1</td>\n",
       "      <td>0.0323</td>\n",
       "      <td>0.3380</td>\n",
       "      <td>0.000050</td>\n",
       "      <td>0.0895</td>\n",
       "      <td>0.145</td>\n",
       "      <td>139.832</td>\n",
       "      <td>158960</td>\n",
       "      <td>4</td>\n",
       "    </tr>\n",
       "    <tr>\n",
       "      <th>3</th>\n",
       "      <td>3</td>\n",
       "      <td>Boyce Avenue</td>\n",
       "      <td>Fast Car</td>\n",
       "      <td>63wsZUhUZLlh1OsyrZq7sz</td>\n",
       "      <td>58</td>\n",
       "      <td>2012</td>\n",
       "      <td>acoustic</td>\n",
       "      <td>0.392</td>\n",
       "      <td>0.251</td>\n",
       "      <td>10</td>\n",
       "      <td>-9.845</td>\n",
       "      <td>1</td>\n",
       "      <td>0.0363</td>\n",
       "      <td>0.8070</td>\n",
       "      <td>0.000000</td>\n",
       "      <td>0.0797</td>\n",
       "      <td>0.508</td>\n",
       "      <td>204.961</td>\n",
       "      <td>304293</td>\n",
       "      <td>4</td>\n",
       "    </tr>\n",
       "    <tr>\n",
       "      <th>4</th>\n",
       "      <td>4</td>\n",
       "      <td>Andrew Belle</td>\n",
       "      <td>Sky's Still Blue</td>\n",
       "      <td>6nXIYClvJAfi6ujLiKqEq8</td>\n",
       "      <td>54</td>\n",
       "      <td>2012</td>\n",
       "      <td>acoustic</td>\n",
       "      <td>0.430</td>\n",
       "      <td>0.791</td>\n",
       "      <td>6</td>\n",
       "      <td>-5.419</td>\n",
       "      <td>0</td>\n",
       "      <td>0.0302</td>\n",
       "      <td>0.0726</td>\n",
       "      <td>0.019300</td>\n",
       "      <td>0.1100</td>\n",
       "      <td>0.217</td>\n",
       "      <td>171.864</td>\n",
       "      <td>244320</td>\n",
       "      <td>4</td>\n",
       "    </tr>\n",
       "  </tbody>\n",
       "</table>\n",
       "</div>"
      ],
      "text/plain": [
       "   songId    artist_name        track_name                track_id  \\\n",
       "0       0     Jason Mraz   I Won't Give Up  53QF56cjZA9RTuuMZDrSA6   \n",
       "1       1     Jason Mraz  93 Million Miles  1s8tP3jP4GZcyHDsjvw218   \n",
       "2       2  Joshua Hyslop  Do Not Let Me Go  7BRCa8MPiyuvr2VU3O9W0F   \n",
       "3       3   Boyce Avenue          Fast Car  63wsZUhUZLlh1OsyrZq7sz   \n",
       "4       4   Andrew Belle  Sky's Still Blue  6nXIYClvJAfi6ujLiKqEq8   \n",
       "\n",
       "   popularity  year     genre  danceability  energy  key  loudness  mode  \\\n",
       "0          68  2012  acoustic         0.483   0.303    4   -10.058     1   \n",
       "1          50  2012  acoustic         0.572   0.454    3   -10.286     1   \n",
       "2          57  2012  acoustic         0.409   0.234    3   -13.711     1   \n",
       "3          58  2012  acoustic         0.392   0.251   10    -9.845     1   \n",
       "4          54  2012  acoustic         0.430   0.791    6    -5.419     0   \n",
       "\n",
       "   speechiness  acousticness  instrumentalness  liveness  valence    tempo  \\\n",
       "0       0.0429        0.6940          0.000000    0.1150    0.139  133.406   \n",
       "1       0.0258        0.4770          0.000014    0.0974    0.515  140.182   \n",
       "2       0.0323        0.3380          0.000050    0.0895    0.145  139.832   \n",
       "3       0.0363        0.8070          0.000000    0.0797    0.508  204.961   \n",
       "4       0.0302        0.0726          0.019300    0.1100    0.217  171.864   \n",
       "\n",
       "   duration_ms  time_signature  \n",
       "0       240166               3  \n",
       "1       216387               4  \n",
       "2       158960               4  \n",
       "3       304293               4  \n",
       "4       244320               4  "
      ]
     },
     "execution_count": 4,
     "metadata": {},
     "output_type": "execute_result"
    }
   ],
   "source": [
    "# cargamos las primeras filas para ver las columnas del dataset\n",
    "songs.head()"
   ]
  },
  {
   "cell_type": "markdown",
   "metadata": {},
   "source": [
    "Definición de los atributos\n",
    "+ ***artist_name***: nombre del artista\n",
    "- ***track_name***: nombre de la canción\n",
    "+ ***track_id***: id único de la canción es Spotify\n",
    "- ***popularity***: cuanto más alto es el valor, más popular es la canción (0-100)\n",
    "+ ***year***: año de lanzamiento de la canción\n",
    "- ***genre***: género de la canción\n",
    "+ ***danceability***: describe lo adecuada que es una pista para bailar basándose en una combinación de elementos musicales como el tempo, la estabilidad del ritmo, la fuerza del compás y la regularidad general. Un valor de 0.0 es el menos bailable y 1.0 el más bailable (0.0-1.0)\n",
    "- ***energy***: medida que representa una medida perceptiva de intensidad y actividad (0.0-1.0)\n",
    "+ ***key***: tonalidad de la pista y los números enteros se asignan a tonos utilizando la notación estándar Pitch Class. Por ejemplo, 0 = C, 1 = C♯/D♭, 2 = D, y así sucesivamente. Si no se detectó ninguna clave, el valor es -1 (-1-10)\n",
    "- ***loudness***: en decibelios (dB). Los valores de sonoridad se promedian en toda la pista y son útiles para comparar la sonoridad relativa de las pistas. La sonoridad es la cualidad de un sonido que es el principal correlato psicológico de la fuerza física (amplitud). Los valores suelen oscilar entre -60 y 0 db (-60-0dB)\n",
    "+ ***mode***: indica la modalidad (mayor o menor) de una pista, el tipo de escala del que se deriva su contenido melódico. Mayor se representa con 1 y menor con 0\n",
    "- ***speechiness***: detecta la presencia de palabras habladas en una pista. Cuanto más exclusivamente hablada sea la grabación (por ejemplo, programa de entrevistas, audiolibro, poesía), más se acercará a 1.0 el valor del atributo. Los valores superiores a 0,66 describen pistas que probablemente estén compuestas en su totalidad por palabras habladas. Los valores entre 0.33 y 0.66 describen pistas que pueden contener tanto música como voz, ya sea en secciones o en capas, incluyendo casos como la música rap. Los valores inferiores a 0.33 representan probablemente música y otras pistas no habladas\n",
    "+ ***acousticness***: medida de confianza de 0.0 a 1.0 de si la pista es acústica. 1,0 representa una confianza alta en que la pista es acústica (0.0-1.0)\n",
    "- ***instrumentalness***: predice si una pista no contiene voces. Los sonidos \"ooh\" y \"aah\" se consideran instrumentales en este contexto. Las pistas de rap o spoken word son claramente \"vocales\". Cuanto más se acerque el valor de instrumental a 1.0, mayor será la probabilidad de que la pista no contenga voces. Los valores superiores a 0.5 representan pistas instrumentales, pero la confianza es mayor a medida que el valor se acerca a 1.0 (0.0-1.0)\n",
    "+ ***liveness***: detecta la presencia de público en la grabación. Los valores de liveness más altos representan una mayor probabilidad de que la pista se haya interpretado en directo. Un valor superior a 0.8 indica una gran probabilidad de que la pista se haya grabado en directo (0.0-1.0)\n",
    "- ***valence***: medida de 0.0 a 1.0 que describe la positividad musical que transmite una pista. Las pistas con valencia alta suenan más positivas (por ejemplo, felices, alegres, eufóricas), mientras que las pistas con valencia baja suenan más negativas (por ejemplo, tristes, deprimidas, enfadadas) (0.0-1.0)\n",
    "+ ***tempo***: en pulsaciones por minuto (BPM). En terminología musical, el tempo es la velocidad o el ritmo de una pieza determinada y se deriva directamente de la duración media del compás\n",
    "- ***duration_ms***: duración de la pista en milisegundos\n",
    "+ ***time_signature***: convención notacional para especificar cuántos tiempos hay en cada compás (3-7)\n",
    "\n"
   ]
  },
  {
   "cell_type": "markdown",
   "metadata": {},
   "source": [
    "### Matriz de Correlación entre géneros"
   ]
  },
  {
   "cell_type": "markdown",
   "metadata": {},
   "source": [
    "Vamos a contar los diferentes géneros que hay para empezar a crear la matriz de correlación entre los distintos géneros."
   ]
  },
  {
   "cell_type": "code",
   "execution_count": 5,
   "metadata": {},
   "outputs": [
    {
     "name": "stdout",
     "output_type": "stream",
     "text": [
      "Hay 74 géneros.\n"
     ]
    },
    {
     "data": {
      "text/plain": [
       "Counter({'acoustic': 968,\n",
       "         'afrobeat': 802,\n",
       "         'alt-rock': 954,\n",
       "         'ambient': 981,\n",
       "         'black-metal': 985,\n",
       "         'blues': 909,\n",
       "         'breakbeat': 799,\n",
       "         'cantopop': 934,\n",
       "         'chicago-house': 244,\n",
       "         'chill': 944,\n",
       "         'classical': 805,\n",
       "         'club': 921,\n",
       "         'comedy': 979,\n",
       "         'country': 879,\n",
       "         'dance': 786,\n",
       "         'dancehall': 900,\n",
       "         'death-metal': 885,\n",
       "         'deep-house': 917,\n",
       "         'detroit-techno': 119,\n",
       "         'disco': 756,\n",
       "         'drum-and-bass': 834,\n",
       "         'dub': 700,\n",
       "         'dubstep': 490,\n",
       "         'edm': 510,\n",
       "         'electro': 385,\n",
       "         'electronic': 421,\n",
       "         'emo': 933,\n",
       "         'folk': 706,\n",
       "         'forro': 921,\n",
       "         'french': 759,\n",
       "         'funk': 629,\n",
       "         'garage': 741,\n",
       "         'german': 788,\n",
       "         'gospel': 949,\n",
       "         'goth': 808,\n",
       "         'grindcore': 854,\n",
       "         'groove': 713,\n",
       "         'guitar': 818,\n",
       "         'hard-rock': 545,\n",
       "         'hardcore': 584,\n",
       "         'hardstyle': 803,\n",
       "         'heavy-metal': 711,\n",
       "         'hip-hop': 661,\n",
       "         'house': 144,\n",
       "         'indian': 875,\n",
       "         'indie-pop': 401,\n",
       "         'industrial': 660,\n",
       "         'jazz': 678,\n",
       "         'k-pop': 890,\n",
       "         'metal': 340,\n",
       "         'metalcore': 259,\n",
       "         'minimal-techno': 746,\n",
       "         'new-age': 940,\n",
       "         'opera': 674,\n",
       "         'party': 545,\n",
       "         'piano': 460,\n",
       "         'pop': 294,\n",
       "         'pop-film': 802,\n",
       "         'power-pop': 846,\n",
       "         'progressive-house': 429,\n",
       "         'psych-rock': 499,\n",
       "         'punk': 332,\n",
       "         'punk-rock': 245,\n",
       "         'rock': 191,\n",
       "         'rock-n-roll': 720,\n",
       "         'romance': 314,\n",
       "         'sad': 64,\n",
       "         'salsa': 965,\n",
       "         'samba': 897,\n",
       "         'sertanejo': 864,\n",
       "         'show-tunes': 716,\n",
       "         'singer-songwriter': 694,\n",
       "         'ska': 728,\n",
       "         'sleep': 58})"
      ]
     },
     "execution_count": 5,
     "metadata": {},
     "output_type": "execute_result"
    }
   ],
   "source": [
    "from collections import Counter\n",
    "genre_frequency = Counter(songs['genre'])\n",
    "print(f\"Hay {len(genre_frequency)} géneros.\")\n",
    "genre_frequency"
   ]
  },
  {
   "cell_type": "markdown",
   "metadata": {},
   "source": [
    "Lo escribimos en archivo para una mejor visualización, aunque no es necesario."
   ]
  },
  {
   "cell_type": "code",
   "execution_count": 6,
   "metadata": {},
   "outputs": [],
   "source": [
    "# Nombre del archivo\n",
    "file_name = 'genres.txt'\n",
    "genres = []\n",
    "\n",
    "# Abrir el archivo en modo escritura\n",
    "with open(file_name, 'w') as archivo:\n",
    "    # Iterar sobre la lista y escribir cada elemento en una nueva línea\n",
    "    for genre in genre_frequency:\n",
    "        archivo.write(str(genre) + '\\n')\n",
    "        genres.append(genre)"
   ]
  },
  {
   "cell_type": "markdown",
   "metadata": {},
   "source": [
    "Obtenemos la similitud entre géneros a través del parecido por texto, es decir, son parecidos los géneros como punk y punk-rock pero entre punk y romance, debido a que la primera pareja contiene punk en ambos."
   ]
  },
  {
   "cell_type": "code",
   "execution_count": 7,
   "metadata": {},
   "outputs": [],
   "source": [
    "from sklearn.feature_extraction.text import TfidfVectorizer\n",
    "from sklearn.metrics.pairwise import cosine_similarity\n",
    "\n",
    "# Convert genre names to TF-IDF vectors\n",
    "vectorizer = TfidfVectorizer()\n",
    "genre_vectors = vectorizer.fit_transform(genres)\n",
    "\n",
    "# Calculate cosine similarity between genre vectors\n",
    "cosine_sim_genre = cosine_similarity(genre_vectors, genre_vectors)"
   ]
  },
  {
   "cell_type": "code",
   "execution_count": 8,
   "metadata": {},
   "outputs": [
    {
     "data": {
      "text/plain": [
       "array([[1., 0., 0., ..., 0., 0., 0.],\n",
       "       [0., 1., 0., ..., 0., 0., 0.],\n",
       "       [0., 0., 1., ..., 0., 0., 0.],\n",
       "       ...,\n",
       "       [0., 0., 0., ..., 1., 0., 0.],\n",
       "       [0., 0., 0., ..., 0., 1., 0.],\n",
       "       [0., 0., 0., ..., 0., 0., 1.]])"
      ]
     },
     "execution_count": 8,
     "metadata": {},
     "output_type": "execute_result"
    }
   ],
   "source": [
    "cosine_sim_genre #visualizamos la matriz de similitud"
   ]
  },
  {
   "cell_type": "markdown",
   "metadata": {},
   "source": [
    "Para probar el ejemplo comentado arriba, probamos a ver la similitud entre punk y punk-rock y entre punk y romance"
   ]
  },
  {
   "cell_type": "code",
   "execution_count": 9,
   "metadata": {},
   "outputs": [
    {
     "name": "stdout",
     "output_type": "stream",
     "text": [
      "Similitud entre  punk  y  punk-rock :  0.7811868929584836\n",
      "Similitud entre  punk  y  romance :  0.0\n"
     ]
    }
   ],
   "source": [
    "print('Similitud entre ', genres[61], ' y ', genres[62], ': ', cosine_sim_genre[61][62])\n",
    "print('Similitud entre ', genres[61], ' y ', genres[65], ': ', cosine_sim_genre[61][65])"
   ]
  },
  {
   "cell_type": "markdown",
   "metadata": {},
   "source": [
    "Debido que a nuestro dataset no contiene una lista de todos los géneos de la canción en esta primera fase (antes de la conexión con la API de Spotify) se descarta una posible recomendación por géneros mediante una vectorización de estos en binario. En su lugar usaremos por parecido de nombre con TF-IDF (no se ha aplicado todavía)"
   ]
  },
  {
   "cell_type": "markdown",
   "metadata": {},
   "source": [
    "### Recomendador Filtrado Colaborativo"
   ]
  },
  {
   "cell_type": "markdown",
   "metadata": {},
   "source": [
    "Código tomado de los apuntos de la directora del TFG."
   ]
  },
  {
   "cell_type": "markdown",
   "metadata": {},
   "source": [
    "El filtrado colaborativo se basa en recomendaciones por personas de gustos similares.\n",
    "\n",
    "Vamos a crear una matriz de dispersión o de utilidaad (usuario-elemento), para ello hemos creado la función create_X()."
   ]
  },
  {
   "cell_type": "code",
   "execution_count": 10,
   "metadata": {},
   "outputs": [],
   "source": [
    "from scipy.sparse import csr_matrix\n",
    "\n",
    "def create_X(df):\n",
    "    \"\"\"\n",
    "    Genera una matriz dispersa a partir del marco de datos de calificaciones.\n",
    "    \n",
    "    Argumentos:\n",
    "        df: dataframe de pandas que contiene 3 columnas (userId, songId, rating)\n",
    "    \n",
    "    Devoluciones:\n",
    "        X: matriz dispersa\n",
    "        user_mapper: dict que asigna las identificaciones de usuario a los índices de usuario\n",
    "        user_inv_mapper: dict que asigna índices de usuario a ID de usuario\n",
    "        song_mapper: dict que asigna las identificaciones de canciones a los índices de canciones\n",
    "        song_inv_mapper: dict que asigna índices de canciones a ID de canciones\n",
    "        \n",
    "    \"\"\"\n",
    "    M = df['userId'].nunique()\n",
    "    N = df['songId'].nunique()\n",
    "\n",
    "    user_mapper = dict(zip(np.unique(df[\"userId\"]), list(range(M))))\n",
    "    song_mapper = dict(zip(np.unique(df[\"songId\"]), list(range(N))))\n",
    "    \n",
    "    user_inv_mapper = dict(zip(list(range(M)), np.unique(df[\"userId\"])))\n",
    "    song_inv_mapper = dict(zip(list(range(N)), np.unique(df[\"songId\"])))\n",
    "    \n",
    "    user_index = [user_mapper[i] for i in df['userId']]\n",
    "    item_index = [song_mapper[i] for i in df['songId']]\n",
    "\n",
    "    X = csr_matrix((df[\"rating\"], (user_index,item_index)), shape=(M,N))\n",
    "    \n",
    "    return X, user_mapper, song_mapper, user_inv_mapper, song_inv_mapper\n",
    "\n",
    "X, user_mapper, song_mapper, user_inv_mapper, song_inv_mapper = create_X(ratings)"
   ]
  },
  {
   "cell_type": "markdown",
   "metadata": {},
   "source": [
    "#### Dispersión"
   ]
  },
  {
   "cell_type": "markdown",
   "metadata": {},
   "source": [
    "La dispersió se calcula dividiendo el número de elementos almacenados en la matriz entre el número total de elementos."
   ]
  },
  {
   "cell_type": "code",
   "execution_count": 11,
   "metadata": {},
   "outputs": [
    {
     "name": "stdout",
     "output_type": "stream",
     "text": [
      "Matrix sparsity: 6.16%\n"
     ]
    }
   ],
   "source": [
    "n_total = X.shape[0]*X.shape[1]\n",
    "n_ratings = X.nnz\n",
    "sparsity = n_ratings/n_total\n",
    "print(f\"Matrix sparsity: {round(sparsity*100,2)}%\")"
   ]
  },
  {
   "cell_type": "markdown",
   "metadata": {},
   "source": [
    "Vemos que hay un 6% de dispersión que no es mucho y eso indica que el resto tienen problema cold-start (no todas las canciones están calificadas y entonces esas canciones se recomiendan menos)"
   ]
  },
  {
   "cell_type": "code",
   "execution_count": 16,
   "metadata": {},
   "outputs": [
    {
     "name": "stdout",
     "output_type": "stream",
     "text": [
      "Hay 32768 canciones con ratings.\n"
     ]
    }
   ],
   "source": [
    "n_ratings_per_song = X.getnnz(axis=0)\n",
    "\n",
    "print(f\"Hay {len(n_ratings_per_song)} canciones con ratings.\")"
   ]
  },
  {
   "cell_type": "markdown",
   "metadata": {},
   "source": [
    "#### Normalización de datos"
   ]
  },
  {
   "cell_type": "markdown",
   "metadata": {},
   "source": [
    "Vamos a calcular la media de puntuación de cada canción. Hay que recordar que las calificaciones son 0 o 1, es decir, no le gusta o le gusta al usuario."
   ]
  },
  {
   "cell_type": "code",
   "execution_count": 17,
   "metadata": {},
   "outputs": [],
   "source": [
    "#Calcula la media por canción\n",
    "sum_ratings_per_song = X.sum(axis=0)\n",
    "mean_rating_per_song = sum_ratings_per_song/n_ratings_per_song"
   ]
  },
  {
   "cell_type": "code",
   "execution_count": 18,
   "metadata": {},
   "outputs": [],
   "source": [
    "#Crear una nueva matriz con la media de valoración\n",
    "X_mean_song = np.tile(mean_rating_per_song, (X.shape[0],1))"
   ]
  },
  {
   "cell_type": "code",
   "execution_count": 19,
   "metadata": {},
   "outputs": [
    {
     "data": {
      "text/plain": [
       "(610, 32768)"
      ]
     },
     "execution_count": 19,
     "metadata": {},
     "output_type": "execute_result"
    }
   ],
   "source": [
    "X_mean_song.shape \n",
    "#Vamos a ver el tamaño de la matriz que será usuarios x canciones valoradas"
   ]
  },
  {
   "cell_type": "code",
   "execution_count": 20,
   "metadata": {},
   "outputs": [],
   "source": [
    "#Normalizamos los datos\n",
    "X_norm = X - csr_matrix(X_mean_song)"
   ]
  },
  {
   "cell_type": "markdown",
   "metadata": {},
   "source": [
    "Veamos ahora como están los valores nuevos"
   ]
  },
  {
   "cell_type": "code",
   "execution_count": 21,
   "metadata": {},
   "outputs": [
    {
     "name": "stdout",
     "output_type": "stream",
     "text": [
      "Original X: [[0 0 0 ... 0 0 0]]\n",
      "Normalized X: [[-0.63636364 -0.47222222 -0.48780488 ... -0.37142857 -0.5\n",
      "  -0.51515152]]\n"
     ]
    }
   ],
   "source": [
    "print(\"Original X:\", X[0].todense())\n",
    "print(\"Normalized X:\", X_norm[0].todense())"
   ]
  },
  {
   "cell_type": "markdown",
   "metadata": {},
   "source": [
    "#### Recomendador filtrado colaborativo Item-Item con k-NN"
   ]
  },
  {
   "cell_type": "markdown",
   "metadata": {},
   "source": [
    "Ahora vamos a hacer el recomendador como tal que será mediante el algoritmo de k-NN obtiene las k canciones más similares dado un id de una canción y esa similitud estará definida solamente por las puntuaciones más parecidas"
   ]
  },
  {
   "cell_type": "code",
   "execution_count": 22,
   "metadata": {},
   "outputs": [],
   "source": [
    "from sklearn.neighbors import NearestNeighbors\n",
    "\n",
    "def find_similar_songs(song_id, X, song_mapper, song_inv_mapper, k, metric='cosine'):\n",
    "    \"\"\"\n",
    "    Encuentra los k vecinos más cercanos para una canción dada.\n",
    "    \n",
    "    Argumentos:\n",
    "        song_id: id de la canción de interés\n",
    "        X: matriz de utilidad user-item\n",
    "        k: número de canción similares que queremos recuperar\n",
    "        métrica: métrica de distancia para los cálculos de kNN\n",
    "    \n",
    "    Salida: devuelve una lista de k ID de canciones similares\n",
    "    \"\"\"\n",
    "    X = X.T\n",
    "    neighbour_ids = []\n",
    "    \n",
    "    song_ind = song_mapper[song_id]\n",
    "    song_vec = X[song_ind]\n",
    "    if isinstance(song_vec, (np.ndarray)):\n",
    "        song_vec = song_vec.reshape(1,-1)\n",
    "    # usamos k+1 porque la salida kNN incluye la canción de ID = song_id\n",
    "    kNN = NearestNeighbors(n_neighbors=k+1, algorithm=\"brute\", metric=metric)\n",
    "    kNN.fit(X)\n",
    "    neighbour = kNN.kneighbors(song_vec, return_distance=False)\n",
    "    for i in range(0,k):\n",
    "        n = neighbour.item(i)\n",
    "        neighbour_ids.append(song_inv_mapper[n])\n",
    "    neighbour_ids.pop(0)\n",
    "    return neighbour_ids"
   ]
  },
  {
   "cell_type": "markdown",
   "metadata": {},
   "source": [
    "Probemos con la segunda canción del dataset"
   ]
  },
  {
   "cell_type": "code",
   "execution_count": 23,
   "metadata": {},
   "outputs": [
    {
     "data": {
      "text/plain": [
       "[2877, 7406, 3055, 25540, 15795, 14544, 8380, 14749, 5325]"
      ]
     },
     "execution_count": 23,
     "metadata": {},
     "output_type": "execute_result"
    }
   ],
   "source": [
    "similar_songs = find_similar_songs(1, X_norm, song_mapper, song_inv_mapper, k=10)\n",
    "similar_songs"
   ]
  },
  {
   "cell_type": "markdown",
   "metadata": {},
   "source": [
    "A partir de ids no podemos saber que canciones son las recomendadas por lo que vamos a implementar código para que ese id lo transforme a una lista de información de la canción."
   ]
  },
  {
   "cell_type": "markdown",
   "metadata": {},
   "source": [
    "Probamos la recomendación con dos tipos distintos de métricas\n",
    "\n",
    "1. Métrica de similitud por Coseno"
   ]
  },
  {
   "cell_type": "code",
   "execution_count": 24,
   "metadata": {},
   "outputs": [
    {
     "name": "stdout",
     "output_type": "stream",
     "text": [
      "porque has escuchado ... Lion Skin - feat. Jonny Craig and Tyler Carter de Hands Like Houses (hardcore, 2012) te recomendamos:\n",
      "Barstools and Banjos (feat. The Lacs) de Moccasin Creek (country, 2012)\n",
      "Surrounded By Control de Noisear (grindcore, 2012)\n",
      "Wayward Girl Blues de Lottie Kimbrough (blues, 2012)\n",
      "Terror 404 de Perturbator (club, 2012)\n",
      "Sailing into the Earth de Gorod (death-metal, 2012)\n",
      "Tengo un Amor de Toby Love (hip-hop, 2012)\n",
      "TESKNOTA /SHARAZAN/ de JUSTYNA I PIOTR (disco, 2012)\n",
      "Red Hot de Billy \"The Kid\" Emerson (blues, 2012)\n",
      "Keiki de paniyolo (ambient, 2012)\n"
     ]
    }
   ],
   "source": [
    "song_titles = dict(zip(songs['songId'], songs['track_name']))\n",
    "\n",
    "song_id = 30000\n",
    "\n",
    "similar_song = find_similar_songs(song_id, X_norm, song_mapper, song_inv_mapper, metric='cosine', k=10)\n",
    "song_title = song_titles[song_id] # Saca el título de la canción\n",
    "song_row = songs.loc[songs['songId'] == song_id] # Obtiene la columna que contiene el id de esa canción\n",
    "song_artist = song_row['artist_name'].values[0] #Obtiene el nombre del artista\n",
    "song_genre = song_row['genre'].values[0] #Obtiene el género de la canción\n",
    "song_year = song_row['year'].values[0] #Obtiene el año de la canción\n",
    "\n",
    "print(f\"porque has escuchado ... {song_title} de {song_artist} ({song_genre}, {song_year}) te recomendamos:\")\n",
    "for i in similar_song:\n",
    "    row_i = songs.loc[songs['songId'] == i]\n",
    "    artist_i = row_i['artist_name'].values[0]\n",
    "    genre_i = row_i['genre'].values[0]\n",
    "    year_i = row_i['year'].values[0]\n",
    "    print(f\"{song_titles[i]} de {artist_i} ({genre_i}, {year_i})\")"
   ]
  },
  {
   "cell_type": "markdown",
   "metadata": {},
   "source": [
    "2. Métrica de similitud por Euclidea"
   ]
  },
  {
   "cell_type": "code",
   "execution_count": 25,
   "metadata": {},
   "outputs": [
    {
     "name": "stdout",
     "output_type": "stream",
     "text": [
      "porque has escuchado ... Lion Skin - feat. Jonny Craig and Tyler Carter de Hands Like Houses (hardcore, 2012) te recomendamos:\n",
      "Surrounded By Control de Noisear (grindcore, 2012)\n",
      "Headfirst de Bulldozer Crash (club, 2012)\n",
      "Tangomania: I. Infortunio de Cecilio Perera (guitar, 2012)\n",
      "Traveller de Black Coffee (deep-house, 2012)\n",
      "Let's Torture Each Other de Forgotten Tomb (black-metal, 2012)\n",
      "Look Alive de Cut La Roc (breakbeat, 2012)\n",
      "El Pacino de Bang Data (afrobeat, 2012)\n",
      "Sailing into the Earth de Gorod (death-metal, 2012)\n",
      "Heaven Like de Parabelle (hard-rock, 2012)\n"
     ]
    }
   ],
   "source": [
    "song_id = 30000\n",
    "\n",
    "similar_song = find_similar_songs(song_id, X_norm, song_mapper, song_inv_mapper, metric='euclidean', k=10)\n",
    "song_title = song_titles[song_id]\n",
    "song_row = songs.loc[songs['songId'] == song_id]\n",
    "song_artist = song_row['artist_name'].values[0]\n",
    "song_genre = song_row['genre'].values[0]\n",
    "song_year = song_row['year'].values[0]\n",
    "\n",
    "print(f\"porque has escuchado ... {song_title} de {song_artist} ({song_genre}, {song_year}) te recomendamos:\")\n",
    "for i in similar_song:\n",
    "    row_i = songs.loc[songs['songId'] == i]\n",
    "    artist_i = row_i['artist_name'].values[0]\n",
    "    genre_i = row_i['genre'].values[0]\n",
    "    year_i = row_i['year'].values[0]\n",
    "    print(f\"{song_titles[i]} de {artist_i} ({genre_i}, {year_i})\")"
   ]
  },
  {
   "cell_type": "markdown",
   "metadata": {},
   "source": [
    "#### Cold-start"
   ]
  },
  {
   "cell_type": "markdown",
   "metadata": {},
   "source": [
    "Como se ha comentado antes, cold-star es un problema que aparece cuando no todas las canciones tienen valoraciones o tienen muy pocas. Para solucionarlo crearemos otro recomendador pero basado en contenido. La recomendación será acorde con los atributos que escoja el usuario."
   ]
  },
  {
   "cell_type": "code",
   "execution_count": 26,
   "metadata": {},
   "outputs": [
    {
     "name": "stdout",
     "output_type": "stream",
     "text": [
      "Hay 50000 películas en el dataset.\n"
     ]
    }
   ],
   "source": [
    "n_songs = songs['songId'].nunique()\n",
    "print(f\"Hay {n_songs} películas en el dataset.\")"
   ]
  },
  {
   "cell_type": "markdown",
   "metadata": {},
   "source": [
    "Vamos a hacer una función en la que el usuario pase los atributos (posiciones, ya se verá con la interfaz) que quiere incluir para su recomendación. El campo de género se incluirá en otra versión."
   ]
  },
  {
   "cell_type": "code",
   "execution_count": 27,
   "metadata": {},
   "outputs": [],
   "source": [
    "#Atributos que usuario puede elegir\n",
    "col_content = [\"popularity\", \"year\",\t\"danceability\",\t\"energy\",\t\"key\",\t\"loudness\",\t\"mode\",\t\"speechiness\",\t\"acousticness\",\t\"instrumentalness\",\t\"liveness\",\t\"valence\",\t\"tempo\",\t\"duration_ms\",\t\"time_signature\"]"
   ]
  },
  {
   "cell_type": "code",
   "execution_count": 28,
   "metadata": {},
   "outputs": [],
   "source": [
    "#Función para que el usuario elija los atributos que quiera para la recomendación\n",
    "def choose_content(contents):\n",
    "    cols = []\n",
    "    for x in contents:\n",
    "        cols.append(col_content[x])\n",
    "    return cols"
   ]
  },
  {
   "cell_type": "markdown",
   "metadata": {},
   "source": [
    "Para hacer la matriz de correlación es mejor normalizar los valores ya que son muy dispersos entre sí. Esto se sabe porque hay atributos como loudness que va desde -60 a 0 y liveness de 0.0 a 1.0, por lo que hay que hacer sean más o menos parecidos."
   ]
  },
  {
   "cell_type": "code",
   "execution_count": 29,
   "metadata": {},
   "outputs": [],
   "source": [
    "# Escalar las características para normalizar las escalas\n",
    "scaler = StandardScaler()\n",
    "\n",
    "scaled_features = songs[col_content]\n",
    "#Para evitar un warning\n",
    "scaled_features_copy = scaled_features.copy()\n",
    "\n",
    "scaled_features_copy.loc[:, col_content] = scaler.fit_transform(scaled_features_copy.loc[:, col_content])\n",
    "\n",
    "scaled_features = scaled_features_copy"
   ]
  },
  {
   "cell_type": "markdown",
   "metadata": {},
   "source": [
    "Vamos a observar como han cambiado los valores respecto al original"
   ]
  },
  {
   "cell_type": "code",
   "execution_count": 30,
   "metadata": {},
   "outputs": [
    {
     "data": {
      "text/html": [
       "<div>\n",
       "<style scoped>\n",
       "    .dataframe tbody tr th:only-of-type {\n",
       "        vertical-align: middle;\n",
       "    }\n",
       "\n",
       "    .dataframe tbody tr th {\n",
       "        vertical-align: top;\n",
       "    }\n",
       "\n",
       "    .dataframe thead th {\n",
       "        text-align: right;\n",
       "    }\n",
       "</style>\n",
       "<table border=\"1\" class=\"dataframe\">\n",
       "  <thead>\n",
       "    <tr style=\"text-align: right;\">\n",
       "      <th></th>\n",
       "      <th>popularity</th>\n",
       "      <th>year</th>\n",
       "      <th>danceability</th>\n",
       "      <th>energy</th>\n",
       "      <th>key</th>\n",
       "      <th>loudness</th>\n",
       "      <th>mode</th>\n",
       "      <th>speechiness</th>\n",
       "      <th>acousticness</th>\n",
       "      <th>instrumentalness</th>\n",
       "      <th>liveness</th>\n",
       "      <th>valence</th>\n",
       "      <th>tempo</th>\n",
       "      <th>duration_ms</th>\n",
       "      <th>time_signature</th>\n",
       "    </tr>\n",
       "  </thead>\n",
       "  <tbody>\n",
       "    <tr>\n",
       "      <th>0</th>\n",
       "      <td>3.636637</td>\n",
       "      <td>0.0</td>\n",
       "      <td>-0.280234</td>\n",
       "      <td>-1.388464</td>\n",
       "      <td>-0.358773</td>\n",
       "      <td>-0.314242</td>\n",
       "      <td>0.756294</td>\n",
       "      <td>-0.383319</td>\n",
       "      <td>1.168240</td>\n",
       "      <td>-0.684245</td>\n",
       "      <td>-0.552423</td>\n",
       "      <td>-1.177847</td>\n",
       "      <td>0.373424</td>\n",
       "      <td>-0.119915</td>\n",
       "      <td>-2.000985</td>\n",
       "    </tr>\n",
       "    <tr>\n",
       "      <th>1</th>\n",
       "      <td>2.361441</td>\n",
       "      <td>0.0</td>\n",
       "      <td>0.209859</td>\n",
       "      <td>-0.809507</td>\n",
       "      <td>-0.639948</td>\n",
       "      <td>-0.357714</td>\n",
       "      <td>0.756294</td>\n",
       "      <td>-0.513867</td>\n",
       "      <td>0.533630</td>\n",
       "      <td>-0.684207</td>\n",
       "      <td>-0.637493</td>\n",
       "      <td>0.215478</td>\n",
       "      <td>0.604831</td>\n",
       "      <td>-0.288371</td>\n",
       "      <td>0.239057</td>\n",
       "    </tr>\n",
       "    <tr>\n",
       "      <th>2</th>\n",
       "      <td>2.857351</td>\n",
       "      <td>0.0</td>\n",
       "      <td>-0.687728</td>\n",
       "      <td>-1.653020</td>\n",
       "      <td>-0.639948</td>\n",
       "      <td>-1.010746</td>\n",
       "      <td>0.756294</td>\n",
       "      <td>-0.464244</td>\n",
       "      <td>0.127129</td>\n",
       "      <td>-0.684107</td>\n",
       "      <td>-0.675677</td>\n",
       "      <td>-1.155613</td>\n",
       "      <td>0.592878</td>\n",
       "      <td>-0.695195</td>\n",
       "      <td>0.239057</td>\n",
       "    </tr>\n",
       "    <tr>\n",
       "      <th>3</th>\n",
       "      <td>2.928195</td>\n",
       "      <td>0.0</td>\n",
       "      <td>-0.781341</td>\n",
       "      <td>-1.587840</td>\n",
       "      <td>1.328276</td>\n",
       "      <td>-0.273630</td>\n",
       "      <td>0.756294</td>\n",
       "      <td>-0.433706</td>\n",
       "      <td>1.498705</td>\n",
       "      <td>-0.684245</td>\n",
       "      <td>-0.723045</td>\n",
       "      <td>0.189538</td>\n",
       "      <td>2.817103</td>\n",
       "      <td>0.334373</td>\n",
       "      <td>0.239057</td>\n",
       "    </tr>\n",
       "    <tr>\n",
       "      <th>4</th>\n",
       "      <td>2.644818</td>\n",
       "      <td>0.0</td>\n",
       "      <td>-0.572088</td>\n",
       "      <td>0.482602</td>\n",
       "      <td>0.203576</td>\n",
       "      <td>0.570258</td>\n",
       "      <td>-1.322237</td>\n",
       "      <td>-0.480276</td>\n",
       "      <td>-0.649026</td>\n",
       "      <td>-0.630773</td>\n",
       "      <td>-0.576591</td>\n",
       "      <td>-0.888806</td>\n",
       "      <td>1.686805</td>\n",
       "      <td>-0.090487</td>\n",
       "      <td>0.239057</td>\n",
       "    </tr>\n",
       "  </tbody>\n",
       "</table>\n",
       "</div>"
      ],
      "text/plain": [
       "   popularity  year  danceability    energy       key  loudness      mode  \\\n",
       "0    3.636637   0.0     -0.280234 -1.388464 -0.358773 -0.314242  0.756294   \n",
       "1    2.361441   0.0      0.209859 -0.809507 -0.639948 -0.357714  0.756294   \n",
       "2    2.857351   0.0     -0.687728 -1.653020 -0.639948 -1.010746  0.756294   \n",
       "3    2.928195   0.0     -0.781341 -1.587840  1.328276 -0.273630  0.756294   \n",
       "4    2.644818   0.0     -0.572088  0.482602  0.203576  0.570258 -1.322237   \n",
       "\n",
       "   speechiness  acousticness  instrumentalness  liveness   valence     tempo  \\\n",
       "0    -0.383319      1.168240         -0.684245 -0.552423 -1.177847  0.373424   \n",
       "1    -0.513867      0.533630         -0.684207 -0.637493  0.215478  0.604831   \n",
       "2    -0.464244      0.127129         -0.684107 -0.675677 -1.155613  0.592878   \n",
       "3    -0.433706      1.498705         -0.684245 -0.723045  0.189538  2.817103   \n",
       "4    -0.480276     -0.649026         -0.630773 -0.576591 -0.888806  1.686805   \n",
       "\n",
       "   duration_ms  time_signature  \n",
       "0    -0.119915       -2.000985  \n",
       "1    -0.288371        0.239057  \n",
       "2    -0.695195        0.239057  \n",
       "3     0.334373        0.239057  \n",
       "4    -0.090487        0.239057  "
      ]
     },
     "execution_count": 30,
     "metadata": {},
     "output_type": "execute_result"
    }
   ],
   "source": [
    "#Columnas normalizadas\n",
    "scaled_features.head()"
   ]
  },
  {
   "cell_type": "code",
   "execution_count": 31,
   "metadata": {},
   "outputs": [
    {
     "data": {
      "text/html": [
       "<div>\n",
       "<style scoped>\n",
       "    .dataframe tbody tr th:only-of-type {\n",
       "        vertical-align: middle;\n",
       "    }\n",
       "\n",
       "    .dataframe tbody tr th {\n",
       "        vertical-align: top;\n",
       "    }\n",
       "\n",
       "    .dataframe thead th {\n",
       "        text-align: right;\n",
       "    }\n",
       "</style>\n",
       "<table border=\"1\" class=\"dataframe\">\n",
       "  <thead>\n",
       "    <tr style=\"text-align: right;\">\n",
       "      <th></th>\n",
       "      <th>popularity</th>\n",
       "      <th>year</th>\n",
       "      <th>danceability</th>\n",
       "      <th>energy</th>\n",
       "      <th>key</th>\n",
       "      <th>loudness</th>\n",
       "      <th>mode</th>\n",
       "      <th>speechiness</th>\n",
       "      <th>acousticness</th>\n",
       "      <th>instrumentalness</th>\n",
       "      <th>liveness</th>\n",
       "      <th>valence</th>\n",
       "      <th>tempo</th>\n",
       "      <th>duration_ms</th>\n",
       "      <th>time_signature</th>\n",
       "    </tr>\n",
       "  </thead>\n",
       "  <tbody>\n",
       "    <tr>\n",
       "      <th>0</th>\n",
       "      <td>68</td>\n",
       "      <td>2012</td>\n",
       "      <td>0.483</td>\n",
       "      <td>0.303</td>\n",
       "      <td>4</td>\n",
       "      <td>-10.058</td>\n",
       "      <td>1</td>\n",
       "      <td>0.0429</td>\n",
       "      <td>0.6940</td>\n",
       "      <td>0.000000</td>\n",
       "      <td>0.1150</td>\n",
       "      <td>0.139</td>\n",
       "      <td>133.406</td>\n",
       "      <td>240166</td>\n",
       "      <td>3</td>\n",
       "    </tr>\n",
       "    <tr>\n",
       "      <th>1</th>\n",
       "      <td>50</td>\n",
       "      <td>2012</td>\n",
       "      <td>0.572</td>\n",
       "      <td>0.454</td>\n",
       "      <td>3</td>\n",
       "      <td>-10.286</td>\n",
       "      <td>1</td>\n",
       "      <td>0.0258</td>\n",
       "      <td>0.4770</td>\n",
       "      <td>0.000014</td>\n",
       "      <td>0.0974</td>\n",
       "      <td>0.515</td>\n",
       "      <td>140.182</td>\n",
       "      <td>216387</td>\n",
       "      <td>4</td>\n",
       "    </tr>\n",
       "    <tr>\n",
       "      <th>2</th>\n",
       "      <td>57</td>\n",
       "      <td>2012</td>\n",
       "      <td>0.409</td>\n",
       "      <td>0.234</td>\n",
       "      <td>3</td>\n",
       "      <td>-13.711</td>\n",
       "      <td>1</td>\n",
       "      <td>0.0323</td>\n",
       "      <td>0.3380</td>\n",
       "      <td>0.000050</td>\n",
       "      <td>0.0895</td>\n",
       "      <td>0.145</td>\n",
       "      <td>139.832</td>\n",
       "      <td>158960</td>\n",
       "      <td>4</td>\n",
       "    </tr>\n",
       "    <tr>\n",
       "      <th>3</th>\n",
       "      <td>58</td>\n",
       "      <td>2012</td>\n",
       "      <td>0.392</td>\n",
       "      <td>0.251</td>\n",
       "      <td>10</td>\n",
       "      <td>-9.845</td>\n",
       "      <td>1</td>\n",
       "      <td>0.0363</td>\n",
       "      <td>0.8070</td>\n",
       "      <td>0.000000</td>\n",
       "      <td>0.0797</td>\n",
       "      <td>0.508</td>\n",
       "      <td>204.961</td>\n",
       "      <td>304293</td>\n",
       "      <td>4</td>\n",
       "    </tr>\n",
       "    <tr>\n",
       "      <th>4</th>\n",
       "      <td>54</td>\n",
       "      <td>2012</td>\n",
       "      <td>0.430</td>\n",
       "      <td>0.791</td>\n",
       "      <td>6</td>\n",
       "      <td>-5.419</td>\n",
       "      <td>0</td>\n",
       "      <td>0.0302</td>\n",
       "      <td>0.0726</td>\n",
       "      <td>0.019300</td>\n",
       "      <td>0.1100</td>\n",
       "      <td>0.217</td>\n",
       "      <td>171.864</td>\n",
       "      <td>244320</td>\n",
       "      <td>4</td>\n",
       "    </tr>\n",
       "  </tbody>\n",
       "</table>\n",
       "</div>"
      ],
      "text/plain": [
       "   popularity  year  danceability  energy  key  loudness  mode  speechiness  \\\n",
       "0          68  2012         0.483   0.303    4   -10.058     1       0.0429   \n",
       "1          50  2012         0.572   0.454    3   -10.286     1       0.0258   \n",
       "2          57  2012         0.409   0.234    3   -13.711     1       0.0323   \n",
       "3          58  2012         0.392   0.251   10    -9.845     1       0.0363   \n",
       "4          54  2012         0.430   0.791    6    -5.419     0       0.0302   \n",
       "\n",
       "   acousticness  instrumentalness  liveness  valence    tempo  duration_ms  \\\n",
       "0        0.6940          0.000000    0.1150    0.139  133.406       240166   \n",
       "1        0.4770          0.000014    0.0974    0.515  140.182       216387   \n",
       "2        0.3380          0.000050    0.0895    0.145  139.832       158960   \n",
       "3        0.8070          0.000000    0.0797    0.508  204.961       304293   \n",
       "4        0.0726          0.019300    0.1100    0.217  171.864       244320   \n",
       "\n",
       "   time_signature  \n",
       "0               3  \n",
       "1               4  \n",
       "2               4  \n",
       "3               4  \n",
       "4               4  "
      ]
     },
     "execution_count": 31,
     "metadata": {},
     "output_type": "execute_result"
    }
   ],
   "source": [
    "#Columnas originales\n",
    "songs[col_content].head()"
   ]
  },
  {
   "cell_type": "markdown",
   "metadata": {},
   "source": [
    "Ahora que están normalizados los valores vamos a crear una matriz de similitud del coseno para establecer la relación en los distintos valores y poder usarlos para la recomendación."
   ]
  },
  {
   "cell_type": "code",
   "execution_count": 32,
   "metadata": {},
   "outputs": [],
   "source": [
    "cosine_sim_features = cosine_similarity(scaled_features, scaled_features)"
   ]
  },
  {
   "cell_type": "markdown",
   "metadata": {},
   "source": [
    "Tenemos dos matrices de similitud: una entre géneros (cosine_sim_genre) y otra entre las caracteristicas (cosine_sim_feautures).\n",
    "\n",
    "En esta función vamos a usar el de las características en esta función."
   ]
  },
  {
   "cell_type": "code",
   "execution_count": 34,
   "metadata": {},
   "outputs": [],
   "source": [
    "def content_based_features(title):\n",
    "    song_idx = dict(zip(songs['track_name'], list(songs.index)))\n",
    "    n_recommendations = 10\n",
    "\n",
    "    idx = song_idx[title]\n",
    "    sim_scores = list(enumerate(cosine_sim_features[idx]))\n",
    "    sim_scores = sorted(sim_scores, key=lambda x: x[1], reverse=True)\n",
    "    sim_scores = sim_scores[1:(n_recommendations+1)]\n",
    "    similar_songs = [i[0] for i in sim_scores]\n",
    "\n",
    "    return similar_songs"
   ]
  },
  {
   "cell_type": "markdown",
   "metadata": {},
   "source": [
    "Y en esta función usaremos la matriz de los géneros"
   ]
  },
  {
   "cell_type": "code",
   "execution_count": 40,
   "metadata": {},
   "outputs": [
    {
     "data": {
      "text/plain": [
       "\"\\ndef content_based_genres(title):\\n    song_idx = dict(zip(songs['track_name'], list(songs.index)))\\n    n_recommendations = 10\\n\\n    idx = song_idx[title]\\n    sim_scores = list(enumerate(cosine_sim_genre[idx]))\\n    sim_scores = sorted(sim_scores, key=lambda x: x[1], reverse=True)\\n    sim_scores = sim_scores[1:(n_recommendations+1)]\\n    similar_songs = [i[0] for i in sim_scores]\\n\\n    return similar_songs\\n\""
      ]
     },
     "execution_count": 40,
     "metadata": {},
     "output_type": "execute_result"
    }
   ],
   "source": [
    "\"\"\"\n",
    "def content_based_genres(title):\n",
    "    song_idx = dict(zip(songs['track_name'], list(songs.index)))\n",
    "    n_recommendations = 10\n",
    "\n",
    "    idx = song_idx[title]\n",
    "    sim_scores = list(enumerate(cosine_sim_genre[idx]))\n",
    "    sim_scores = sorted(sim_scores, key=lambda x: x[1], reverse=True)\n",
    "    sim_scores = sim_scores[1:(n_recommendations+1)]\n",
    "    similar_songs = [i[0] for i in sim_scores]\n",
    "\n",
    "    return similar_songs\n",
    "\"\"\""
   ]
  },
  {
   "cell_type": "markdown",
   "metadata": {},
   "source": [
    "Vamos obtener el id de una canción cualquiera para poder hacer el ejemplo."
   ]
  },
  {
   "cell_type": "code",
   "execution_count": 39,
   "metadata": {},
   "outputs": [
    {
     "data": {
      "text/plain": [
       "48926"
      ]
     },
     "execution_count": 39,
     "metadata": {},
     "output_type": "execute_result"
    }
   ],
   "source": [
    "dict(zip(songs['track_name'], list(songs.index)))['Diamonds']"
   ]
  },
  {
   "cell_type": "markdown",
   "metadata": {},
   "source": [
    "Mostramos todos los campos para comprobar que se realiza bien la recomendación."
   ]
  },
  {
   "cell_type": "code",
   "execution_count": 37,
   "metadata": {},
   "outputs": [
    {
     "name": "stdout",
     "output_type": "stream",
     "text": [
      "Recomendaciones similares a\n",
      "songId                               48926\n",
      "artist_name                Susanne Sundfør\n",
      "track_name                        Diamonds\n",
      "track_id            20UhLm0lDg1WYgYaDXgc0w\n",
      "popularity                              10\n",
      "year                                  2012\n",
      "genre                    singer-songwriter\n",
      "danceability                         0.347\n",
      "energy                               0.756\n",
      "key                                      5\n",
      "loudness                            -8.702\n",
      "mode                                     1\n",
      "speechiness                         0.0653\n",
      "acousticness                        0.0416\n",
      "instrumentalness                      0.67\n",
      "liveness                              0.11\n",
      "valence                             0.0547\n",
      "tempo                              119.278\n",
      "duration_ms                         302733\n",
      "time_signature                           4\n",
      "Name: 48926, dtype: object\n",
      "según su(s) ['popularity', 'year', 'danceability', 'energy', 'key', 'loudness', 'mode', 'speechiness', 'acousticness', 'instrumentalness', 'liveness', 'valence', 'tempo', 'duration_ms', 'time_signature']:\n"
     ]
    },
    {
     "data": {
      "text/html": [
       "<div>\n",
       "<style scoped>\n",
       "    .dataframe tbody tr th:only-of-type {\n",
       "        vertical-align: middle;\n",
       "    }\n",
       "\n",
       "    .dataframe tbody tr th {\n",
       "        vertical-align: top;\n",
       "    }\n",
       "\n",
       "    .dataframe thead th {\n",
       "        text-align: right;\n",
       "    }\n",
       "</style>\n",
       "<table border=\"1\" class=\"dataframe\">\n",
       "  <thead>\n",
       "    <tr style=\"text-align: right;\">\n",
       "      <th></th>\n",
       "      <th>songId</th>\n",
       "      <th>artist_name</th>\n",
       "      <th>track_name</th>\n",
       "      <th>track_id</th>\n",
       "      <th>popularity</th>\n",
       "      <th>year</th>\n",
       "      <th>genre</th>\n",
       "      <th>danceability</th>\n",
       "      <th>energy</th>\n",
       "      <th>key</th>\n",
       "      <th>loudness</th>\n",
       "      <th>mode</th>\n",
       "      <th>speechiness</th>\n",
       "      <th>acousticness</th>\n",
       "      <th>instrumentalness</th>\n",
       "      <th>liveness</th>\n",
       "      <th>valence</th>\n",
       "      <th>tempo</th>\n",
       "      <th>duration_ms</th>\n",
       "      <th>time_signature</th>\n",
       "    </tr>\n",
       "  </thead>\n",
       "  <tbody>\n",
       "    <tr>\n",
       "      <th>4579</th>\n",
       "      <td>4579</td>\n",
       "      <td>DENIAL OF GOD</td>\n",
       "      <td>Funeral</td>\n",
       "      <td>57BXzbrnndfmgffvMdEZ0n</td>\n",
       "      <td>8</td>\n",
       "      <td>2012</td>\n",
       "      <td>black-metal</td>\n",
       "      <td>0.298</td>\n",
       "      <td>0.868</td>\n",
       "      <td>5</td>\n",
       "      <td>-5.798</td>\n",
       "      <td>1</td>\n",
       "      <td>0.0391</td>\n",
       "      <td>0.000005</td>\n",
       "      <td>0.828</td>\n",
       "      <td>0.0795</td>\n",
       "      <td>0.1060</td>\n",
       "      <td>128.097</td>\n",
       "      <td>403347</td>\n",
       "      <td>4</td>\n",
       "    </tr>\n",
       "    <tr>\n",
       "      <th>15702</th>\n",
       "      <td>15702</td>\n",
       "      <td>Robert Hood</td>\n",
       "      <td>The Exodos</td>\n",
       "      <td>5eVyLVOtekxcVzGHAjY8p3</td>\n",
       "      <td>2</td>\n",
       "      <td>2012</td>\n",
       "      <td>detroit-techno</td>\n",
       "      <td>0.342</td>\n",
       "      <td>0.796</td>\n",
       "      <td>8</td>\n",
       "      <td>-8.479</td>\n",
       "      <td>1</td>\n",
       "      <td>0.0447</td>\n",
       "      <td>0.002120</td>\n",
       "      <td>0.805</td>\n",
       "      <td>0.1050</td>\n",
       "      <td>0.0757</td>\n",
       "      <td>118.023</td>\n",
       "      <td>354906</td>\n",
       "      <td>4</td>\n",
       "    </tr>\n",
       "    <tr>\n",
       "      <th>43017</th>\n",
       "      <td>43017</td>\n",
       "      <td>Windhand</td>\n",
       "      <td>Heap Wolves - 2023 Remaster</td>\n",
       "      <td>71nDRuUNQlpaPM35cjZdY5</td>\n",
       "      <td>12</td>\n",
       "      <td>2012</td>\n",
       "      <td>psych-rock</td>\n",
       "      <td>0.188</td>\n",
       "      <td>0.782</td>\n",
       "      <td>5</td>\n",
       "      <td>-7.353</td>\n",
       "      <td>1</td>\n",
       "      <td>0.0411</td>\n",
       "      <td>0.000009</td>\n",
       "      <td>0.919</td>\n",
       "      <td>0.0932</td>\n",
       "      <td>0.1480</td>\n",
       "      <td>130.204</td>\n",
       "      <td>289929</td>\n",
       "      <td>4</td>\n",
       "    </tr>\n",
       "    <tr>\n",
       "      <th>29931</th>\n",
       "      <td>29931</td>\n",
       "      <td>Ted Nugent</td>\n",
       "      <td>Earthtones</td>\n",
       "      <td>6MOeLUVXWeDQKnQU6y4zlN</td>\n",
       "      <td>8</td>\n",
       "      <td>2012</td>\n",
       "      <td>hard-rock</td>\n",
       "      <td>0.388</td>\n",
       "      <td>0.699</td>\n",
       "      <td>3</td>\n",
       "      <td>-7.948</td>\n",
       "      <td>1</td>\n",
       "      <td>0.0354</td>\n",
       "      <td>0.003340</td>\n",
       "      <td>0.956</td>\n",
       "      <td>0.0861</td>\n",
       "      <td>0.1320</td>\n",
       "      <td>124.028</td>\n",
       "      <td>339787</td>\n",
       "      <td>4</td>\n",
       "    </tr>\n",
       "    <tr>\n",
       "      <th>22605</th>\n",
       "      <td>22605</td>\n",
       "      <td>M83</td>\n",
       "      <td>Reunion - The Naked And The Famous Remix</td>\n",
       "      <td>6P26OQ7su1Zkss39JSPXQD</td>\n",
       "      <td>10</td>\n",
       "      <td>2012</td>\n",
       "      <td>french</td>\n",
       "      <td>0.434</td>\n",
       "      <td>0.653</td>\n",
       "      <td>7</td>\n",
       "      <td>-8.506</td>\n",
       "      <td>1</td>\n",
       "      <td>0.0362</td>\n",
       "      <td>0.002870</td>\n",
       "      <td>0.826</td>\n",
       "      <td>0.1030</td>\n",
       "      <td>0.1190</td>\n",
       "      <td>124.045</td>\n",
       "      <td>357875</td>\n",
       "      <td>4</td>\n",
       "    </tr>\n",
       "    <tr>\n",
       "      <th>8511</th>\n",
       "      <td>8511</td>\n",
       "      <td>Porcelain Raft</td>\n",
       "      <td>Backwords</td>\n",
       "      <td>3Kw5HHGLUWt801q83fp2Rb</td>\n",
       "      <td>13</td>\n",
       "      <td>2012</td>\n",
       "      <td>chill</td>\n",
       "      <td>0.389</td>\n",
       "      <td>0.683</td>\n",
       "      <td>6</td>\n",
       "      <td>-6.346</td>\n",
       "      <td>1</td>\n",
       "      <td>0.0377</td>\n",
       "      <td>0.126000</td>\n",
       "      <td>0.895</td>\n",
       "      <td>0.0944</td>\n",
       "      <td>0.1190</td>\n",
       "      <td>121.412</td>\n",
       "      <td>247800</td>\n",
       "      <td>4</td>\n",
       "    </tr>\n",
       "    <tr>\n",
       "      <th>4409</th>\n",
       "      <td>4409</td>\n",
       "      <td>Watain</td>\n",
       "      <td>Total Funeral</td>\n",
       "      <td>1Nj9BVWk4HSbcUADyke11B</td>\n",
       "      <td>8</td>\n",
       "      <td>2012</td>\n",
       "      <td>black-metal</td>\n",
       "      <td>0.216</td>\n",
       "      <td>0.996</td>\n",
       "      <td>4</td>\n",
       "      <td>-7.105</td>\n",
       "      <td>1</td>\n",
       "      <td>0.1470</td>\n",
       "      <td>0.000007</td>\n",
       "      <td>0.778</td>\n",
       "      <td>0.1100</td>\n",
       "      <td>0.0381</td>\n",
       "      <td>131.644</td>\n",
       "      <td>377213</td>\n",
       "      <td>4</td>\n",
       "    </tr>\n",
       "    <tr>\n",
       "      <th>4630</th>\n",
       "      <td>4630</td>\n",
       "      <td>Hypocrisy</td>\n",
       "      <td>Osculum Obscenum</td>\n",
       "      <td>1HLFuQZ5Mjnedn73LYv9SR</td>\n",
       "      <td>6</td>\n",
       "      <td>2012</td>\n",
       "      <td>black-metal</td>\n",
       "      <td>0.248</td>\n",
       "      <td>0.929</td>\n",
       "      <td>2</td>\n",
       "      <td>-8.198</td>\n",
       "      <td>1</td>\n",
       "      <td>0.1250</td>\n",
       "      <td>0.000739</td>\n",
       "      <td>0.774</td>\n",
       "      <td>0.1010</td>\n",
       "      <td>0.0393</td>\n",
       "      <td>137.770</td>\n",
       "      <td>305400</td>\n",
       "      <td>4</td>\n",
       "    </tr>\n",
       "    <tr>\n",
       "      <th>4264</th>\n",
       "      <td>4264</td>\n",
       "      <td>Der Weg einer Freiheit</td>\n",
       "      <td>Nachtsam</td>\n",
       "      <td>4WxJVOsxNtHhSc0dYCOIZV</td>\n",
       "      <td>10</td>\n",
       "      <td>2012</td>\n",
       "      <td>black-metal</td>\n",
       "      <td>0.247</td>\n",
       "      <td>0.837</td>\n",
       "      <td>8</td>\n",
       "      <td>-6.493</td>\n",
       "      <td>1</td>\n",
       "      <td>0.0391</td>\n",
       "      <td>0.000024</td>\n",
       "      <td>0.799</td>\n",
       "      <td>0.1210</td>\n",
       "      <td>0.0493</td>\n",
       "      <td>140.030</td>\n",
       "      <td>353250</td>\n",
       "      <td>4</td>\n",
       "    </tr>\n",
       "    <tr>\n",
       "      <th>4458</th>\n",
       "      <td>4458</td>\n",
       "      <td>Nachtmystium</td>\n",
       "      <td>Silencing Machine</td>\n",
       "      <td>7iyIS8r86QLdXSLA0p82li</td>\n",
       "      <td>5</td>\n",
       "      <td>2012</td>\n",
       "      <td>black-metal</td>\n",
       "      <td>0.317</td>\n",
       "      <td>0.994</td>\n",
       "      <td>5</td>\n",
       "      <td>-5.717</td>\n",
       "      <td>1</td>\n",
       "      <td>0.0901</td>\n",
       "      <td>0.000002</td>\n",
       "      <td>0.790</td>\n",
       "      <td>0.0326</td>\n",
       "      <td>0.0331</td>\n",
       "      <td>139.948</td>\n",
       "      <td>385493</td>\n",
       "      <td>4</td>\n",
       "    </tr>\n",
       "  </tbody>\n",
       "</table>\n",
       "</div>"
      ],
      "text/plain": [
       "       songId             artist_name  \\\n",
       "4579     4579           DENIAL OF GOD   \n",
       "15702   15702             Robert Hood   \n",
       "43017   43017                Windhand   \n",
       "29931   29931              Ted Nugent   \n",
       "22605   22605                     M83   \n",
       "8511     8511          Porcelain Raft   \n",
       "4409     4409                  Watain   \n",
       "4630     4630               Hypocrisy   \n",
       "4264     4264  Der Weg einer Freiheit   \n",
       "4458     4458            Nachtmystium   \n",
       "\n",
       "                                     track_name                track_id  \\\n",
       "4579                                    Funeral  57BXzbrnndfmgffvMdEZ0n   \n",
       "15702                                The Exodos  5eVyLVOtekxcVzGHAjY8p3   \n",
       "43017               Heap Wolves - 2023 Remaster  71nDRuUNQlpaPM35cjZdY5   \n",
       "29931                                Earthtones  6MOeLUVXWeDQKnQU6y4zlN   \n",
       "22605  Reunion - The Naked And The Famous Remix  6P26OQ7su1Zkss39JSPXQD   \n",
       "8511                                  Backwords  3Kw5HHGLUWt801q83fp2Rb   \n",
       "4409                              Total Funeral  1Nj9BVWk4HSbcUADyke11B   \n",
       "4630                           Osculum Obscenum  1HLFuQZ5Mjnedn73LYv9SR   \n",
       "4264                                   Nachtsam  4WxJVOsxNtHhSc0dYCOIZV   \n",
       "4458                          Silencing Machine  7iyIS8r86QLdXSLA0p82li   \n",
       "\n",
       "       popularity  year           genre  danceability  energy  key  loudness  \\\n",
       "4579            8  2012     black-metal         0.298   0.868    5    -5.798   \n",
       "15702           2  2012  detroit-techno         0.342   0.796    8    -8.479   \n",
       "43017          12  2012      psych-rock         0.188   0.782    5    -7.353   \n",
       "29931           8  2012       hard-rock         0.388   0.699    3    -7.948   \n",
       "22605          10  2012          french         0.434   0.653    7    -8.506   \n",
       "8511           13  2012           chill         0.389   0.683    6    -6.346   \n",
       "4409            8  2012     black-metal         0.216   0.996    4    -7.105   \n",
       "4630            6  2012     black-metal         0.248   0.929    2    -8.198   \n",
       "4264           10  2012     black-metal         0.247   0.837    8    -6.493   \n",
       "4458            5  2012     black-metal         0.317   0.994    5    -5.717   \n",
       "\n",
       "       mode  speechiness  acousticness  instrumentalness  liveness  valence  \\\n",
       "4579      1       0.0391      0.000005             0.828    0.0795   0.1060   \n",
       "15702     1       0.0447      0.002120             0.805    0.1050   0.0757   \n",
       "43017     1       0.0411      0.000009             0.919    0.0932   0.1480   \n",
       "29931     1       0.0354      0.003340             0.956    0.0861   0.1320   \n",
       "22605     1       0.0362      0.002870             0.826    0.1030   0.1190   \n",
       "8511      1       0.0377      0.126000             0.895    0.0944   0.1190   \n",
       "4409      1       0.1470      0.000007             0.778    0.1100   0.0381   \n",
       "4630      1       0.1250      0.000739             0.774    0.1010   0.0393   \n",
       "4264      1       0.0391      0.000024             0.799    0.1210   0.0493   \n",
       "4458      1       0.0901      0.000002             0.790    0.0326   0.0331   \n",
       "\n",
       "         tempo  duration_ms  time_signature  \n",
       "4579   128.097       403347               4  \n",
       "15702  118.023       354906               4  \n",
       "43017  130.204       289929               4  \n",
       "29931  124.028       339787               4  \n",
       "22605  124.045       357875               4  \n",
       "8511   121.412       247800               4  \n",
       "4409   131.644       377213               4  \n",
       "4630   137.770       305400               4  \n",
       "4264   140.030       353250               4  \n",
       "4458   139.948       385493               4  "
      ]
     },
     "execution_count": 37,
     "metadata": {},
     "output_type": "execute_result"
    }
   ],
   "source": [
    "similar_songs = content_based_features('Diamonds')\n",
    "\n",
    "print(f\"Recomendaciones similares a\")\n",
    "print(songs.iloc[48926])\n",
    "print(f\"según su(s) {col_content}:\")\n",
    "songs.iloc[similar_songs]"
   ]
  }
 ],
 "metadata": {
  "kernelspec": {
   "display_name": "base",
   "language": "python",
   "name": "python3"
  },
  "language_info": {
   "codemirror_mode": {
    "name": "ipython",
    "version": 3
   },
   "file_extension": ".py",
   "mimetype": "text/x-python",
   "name": "python",
   "nbconvert_exporter": "python",
   "pygments_lexer": "ipython3",
   "version": "3.9.12"
  }
 },
 "nbformat": 4,
 "nbformat_minor": 2
}
