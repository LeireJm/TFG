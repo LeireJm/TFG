{
 "cells": [
  {
   "cell_type": "markdown",
   "id": "051abb9f",
   "metadata": {},
   "source": [
    "## Recomendador básico"
   ]
  },
  {
   "cell_type": "markdown",
   "id": "ec3c4355",
   "metadata": {},
   "source": [
    "Instalar el Frameword Surprise"
   ]
  },
  {
   "cell_type": "code",
   "execution_count": 1,
   "id": "11a73c92",
   "metadata": {},
   "outputs": [
    {
     "name": "stdout",
     "output_type": "stream",
     "text": [
      "Requirement already satisfied: numpy in c:\\users\\lmart\\anaconda3\\lib\\site-packages (1.21.5)\n",
      "Requirement already satisfied: scikit-surprise in c:\\users\\lmart\\anaconda3\\lib\\site-packages (1.1.3)\n",
      "Requirement already satisfied: joblib>=1.0.0 in c:\\users\\lmart\\anaconda3\\lib\\site-packages (from scikit-surprise) (1.1.0)\n",
      "Requirement already satisfied: numpy>=1.17.3 in c:\\users\\lmart\\anaconda3\\lib\\site-packages (from scikit-surprise) (1.21.5)\n",
      "Requirement already satisfied: scipy>=1.3.2 in c:\\users\\lmart\\anaconda3\\lib\\site-packages (from scikit-surprise) (1.7.3)\n"
     ]
    }
   ],
   "source": [
    "!pip install numpy\n",
    "!pip install scikit-surprise"
   ]
  },
  {
   "cell_type": "markdown",
   "id": "05c071f3",
   "metadata": {},
   "source": [
    "Importamos las bibliotecas necesarias para nuestro recomendador"
   ]
  },
  {
   "cell_type": "code",
   "execution_count": 51,
   "id": "fc21665c",
   "metadata": {},
   "outputs": [],
   "source": [
    "from surprise import Dataset\n",
    "from surprise import Reader\n",
    "from surprise import KNNBasic\n",
    "from surprise.model_selection import train_test_split\n",
    "from surprise.model_selection import cross_validate\n",
    "from surprise import accuracy"
   ]
  },
  {
   "cell_type": "markdown",
   "id": "1314506a",
   "metadata": {},
   "source": [
    "Cargamos el dataset en pandas para luego pasarlo a surprise"
   ]
  },
  {
   "cell_type": "code",
   "execution_count": 52,
   "id": "29fd1788",
   "metadata": {},
   "outputs": [],
   "source": [
    "import pandas as pd\n",
    "from surprise import Dataset, Reader\n",
    "from surprise import KNNBasic\n",
    "\n",
    "# Load the CSV data into a pandas DataFrame.\n",
    "df = pd.read_csv('songs_dataset.csv')\n",
    "\n",
    "# Define a reader to specify the rating scale\n",
    "reader = Reader(rating_scale=(0, 100))  # Assuming the \"pop\" column represents ratings on a 0-100 scale\n",
    "\n",
    "# Load the Pandas DataFrame into a Surprise Dataset\n",
    "data = Dataset.load_from_df(df[['title', 'artist', 'pop']], reader)"
   ]
  },
  {
   "cell_type": "markdown",
   "id": "a9b0dd43",
   "metadata": {},
   "source": [
    "Entrenar los datos"
   ]
  },
  {
   "cell_type": "code",
   "execution_count": 53,
   "id": "43d36444",
   "metadata": {},
   "outputs": [],
   "source": [
    "trainset, testset = train_test_split(data, test_size=0.2)"
   ]
  },
  {
   "cell_type": "code",
   "execution_count": 54,
   "id": "5b5ec297",
   "metadata": {},
   "outputs": [],
   "source": [
    "trainsetfull = data.build_full_trainset()"
   ]
  },
  {
   "cell_type": "code",
   "execution_count": 55,
   "id": "ab6b9e56",
   "metadata": {},
   "outputs": [],
   "source": [
    "# Crear un modelo modelo k-NN\n",
    "sim_options = {\n",
    "    'name': 'pearson',  \n",
    "    'user_based': False  # Recomendador basado en contenidos\n",
    "}\n",
    "clf = KNNBasic(sim_options=sim_options, k=20, verbose=True)"
   ]
  },
  {
   "cell_type": "code",
   "execution_count": 56,
   "id": "e729dcca",
   "metadata": {},
   "outputs": [
    {
     "name": "stdout",
     "output_type": "stream",
     "text": [
      "Computing the pearson similarity matrix...\n",
      "Done computing similarity matrix.\n",
      "Computing the pearson similarity matrix...\n",
      "Done computing similarity matrix.\n",
      "Computing the pearson similarity matrix...\n",
      "Done computing similarity matrix.\n",
      "Computing the pearson similarity matrix...\n",
      "Done computing similarity matrix.\n",
      "Computing the pearson similarity matrix...\n",
      "Done computing similarity matrix.\n"
     ]
    }
   ],
   "source": [
    "#Measures probar con RMSE o MAE, cuál sea el mejor\n",
    "results = cross_validate(clf, data, measures=['RMSE'], cv=5, return_train_measures=True)"
   ]
  },
  {
   "cell_type": "code",
   "execution_count": 57,
   "id": "44b7852c",
   "metadata": {},
   "outputs": [
    {
     "data": {
      "text/plain": [
       "14.254662241012241"
      ]
     },
     "execution_count": 57,
     "metadata": {},
     "output_type": "execute_result"
    }
   ],
   "source": [
    "results['test_rmse'].mean()"
   ]
  },
  {
   "cell_type": "code",
   "execution_count": 58,
   "id": "65fcd991",
   "metadata": {},
   "outputs": [
    {
     "name": "stdout",
     "output_type": "stream",
     "text": [
      "Computing the pearson similarity matrix...\n",
      "Done computing similarity matrix.\n"
     ]
    },
    {
     "data": {
      "text/plain": [
       "<surprise.prediction_algorithms.knns.KNNBasic at 0x21f89ef2c10>"
      ]
     },
     "execution_count": 58,
     "metadata": {},
     "output_type": "execute_result"
    }
   ],
   "source": [
    "clf.fit(trainsetfull)"
   ]
  },
  {
   "cell_type": "markdown",
   "id": "506116e7",
   "metadata": {},
   "source": [
    "Función para determinar canciones similares"
   ]
  },
  {
   "cell_type": "code",
   "execution_count": 59,
   "id": "8c638815",
   "metadata": {},
   "outputs": [],
   "source": [
    "#Para hacer la búsqueda si la canción está en los datos entrenados\n",
    "user_ids = [trainsetfull.to_raw_uid(uid) for uid in trainsetfull.all_users()]"
   ]
  },
  {
   "cell_type": "code",
   "execution_count": 60,
   "id": "7ef442c8",
   "metadata": {},
   "outputs": [],
   "source": [
    "def get_similar_songs(song_title, k=10):\n",
    "    try: \n",
    "        # Comprueba si la canción está en los datos entrenados\n",
    "        if song_title not in user_ids:\n",
    "            return []  # Devuelve una lista vacía si no está entre los datos entrenados\n",
    "\n",
    "        # Obtiene el id de la canción para luego pasarlo al algoritmo\n",
    "        song_id = trainsetfull.to_inner_uid(song_title)\n",
    "\n",
    "        # Usa el modelo k-NN para encontrar canciones similares\n",
    "        similar_items = clf.get_neighbors(song_id, k)\n",
    "\n",
    "        # Una vez tiene los ids de las canciones similares se pasa a los nombres reales de las canciones\n",
    "        similar_songs = [trainsetfull.to_raw_uid(item_id) for item_id in similar_items]\n",
    "\n",
    "        return similar_songs\n",
    "\n",
    "    except IndexError as e:\n",
    "        return []"
   ]
  },
  {
   "cell_type": "markdown",
   "id": "e098ba28",
   "metadata": {},
   "source": [
    "Generar una \"playlist\" random con 10 canciones"
   ]
  },
  {
   "cell_type": "code",
   "execution_count": 61,
   "id": "25204909",
   "metadata": {},
   "outputs": [],
   "source": [
    "import random\n",
    "\n",
    "random_songs = df.sample(n=10)"
   ]
  },
  {
   "cell_type": "code",
   "execution_count": 62,
   "id": "690666e1",
   "metadata": {},
   "outputs": [
    {
     "data": {
      "text/html": [
       "<div>\n",
       "<style scoped>\n",
       "    .dataframe tbody tr th:only-of-type {\n",
       "        vertical-align: middle;\n",
       "    }\n",
       "\n",
       "    .dataframe tbody tr th {\n",
       "        vertical-align: top;\n",
       "    }\n",
       "\n",
       "    .dataframe thead th {\n",
       "        text-align: right;\n",
       "    }\n",
       "</style>\n",
       "<table border=\"1\" class=\"dataframe\">\n",
       "  <thead>\n",
       "    <tr style=\"text-align: right;\">\n",
       "      <th></th>\n",
       "      <th>Unnamed: 0</th>\n",
       "      <th>title</th>\n",
       "      <th>artist</th>\n",
       "      <th>top genre</th>\n",
       "      <th>year</th>\n",
       "      <th>bpm</th>\n",
       "      <th>nrgy</th>\n",
       "      <th>dnce</th>\n",
       "      <th>dB</th>\n",
       "      <th>live</th>\n",
       "      <th>val</th>\n",
       "      <th>dur</th>\n",
       "      <th>acous</th>\n",
       "      <th>spch</th>\n",
       "      <th>pop</th>\n",
       "    </tr>\n",
       "  </thead>\n",
       "  <tbody>\n",
       "    <tr>\n",
       "      <th>484</th>\n",
       "      <td>485</td>\n",
       "      <td>OK - Spotify Version</td>\n",
       "      <td>Robin Schulz</td>\n",
       "      <td>dance pop</td>\n",
       "      <td>2017</td>\n",
       "      <td>122</td>\n",
       "      <td>81</td>\n",
       "      <td>65</td>\n",
       "      <td>-6</td>\n",
       "      <td>13</td>\n",
       "      <td>58</td>\n",
       "      <td>189</td>\n",
       "      <td>12</td>\n",
       "      <td>6</td>\n",
       "      <td>69</td>\n",
       "    </tr>\n",
       "    <tr>\n",
       "      <th>589</th>\n",
       "      <td>590</td>\n",
       "      <td>Giant (with Rag'n'Bone Man)</td>\n",
       "      <td>Calvin Harris</td>\n",
       "      <td>dance pop</td>\n",
       "      <td>2019</td>\n",
       "      <td>122</td>\n",
       "      <td>89</td>\n",
       "      <td>81</td>\n",
       "      <td>-4</td>\n",
       "      <td>8</td>\n",
       "      <td>61</td>\n",
       "      <td>229</td>\n",
       "      <td>2</td>\n",
       "      <td>4</td>\n",
       "      <td>84</td>\n",
       "    </tr>\n",
       "    <tr>\n",
       "      <th>4</th>\n",
       "      <td>5</td>\n",
       "      <td>Just the Way You Are</td>\n",
       "      <td>Bruno Mars</td>\n",
       "      <td>pop</td>\n",
       "      <td>2010</td>\n",
       "      <td>109</td>\n",
       "      <td>84</td>\n",
       "      <td>64</td>\n",
       "      <td>-5</td>\n",
       "      <td>9</td>\n",
       "      <td>43</td>\n",
       "      <td>221</td>\n",
       "      <td>2</td>\n",
       "      <td>4</td>\n",
       "      <td>78</td>\n",
       "    </tr>\n",
       "    <tr>\n",
       "      <th>228</th>\n",
       "      <td>229</td>\n",
       "      <td>Burn</td>\n",
       "      <td>Ellie Goulding</td>\n",
       "      <td>dance pop</td>\n",
       "      <td>2014</td>\n",
       "      <td>87</td>\n",
       "      <td>78</td>\n",
       "      <td>56</td>\n",
       "      <td>-5</td>\n",
       "      <td>11</td>\n",
       "      <td>33</td>\n",
       "      <td>231</td>\n",
       "      <td>31</td>\n",
       "      <td>4</td>\n",
       "      <td>71</td>\n",
       "    </tr>\n",
       "    <tr>\n",
       "      <th>392</th>\n",
       "      <td>393</td>\n",
       "      <td>Close</td>\n",
       "      <td>Nick Jonas</td>\n",
       "      <td>dance pop</td>\n",
       "      <td>2016</td>\n",
       "      <td>124</td>\n",
       "      <td>62</td>\n",
       "      <td>65</td>\n",
       "      <td>-5</td>\n",
       "      <td>14</td>\n",
       "      <td>40</td>\n",
       "      <td>234</td>\n",
       "      <td>25</td>\n",
       "      <td>8</td>\n",
       "      <td>72</td>\n",
       "    </tr>\n",
       "    <tr>\n",
       "      <th>564</th>\n",
       "      <td>565</td>\n",
       "      <td>Filthy</td>\n",
       "      <td>Justin Timberlake</td>\n",
       "      <td>dance pop</td>\n",
       "      <td>2018</td>\n",
       "      <td>97</td>\n",
       "      <td>58</td>\n",
       "      <td>75</td>\n",
       "      <td>-6</td>\n",
       "      <td>25</td>\n",
       "      <td>65</td>\n",
       "      <td>294</td>\n",
       "      <td>4</td>\n",
       "      <td>14</td>\n",
       "      <td>62</td>\n",
       "    </tr>\n",
       "    <tr>\n",
       "      <th>322</th>\n",
       "      <td>323</td>\n",
       "      <td>Sugar</td>\n",
       "      <td>Maroon 5</td>\n",
       "      <td>pop</td>\n",
       "      <td>2015</td>\n",
       "      <td>120</td>\n",
       "      <td>79</td>\n",
       "      <td>75</td>\n",
       "      <td>-7</td>\n",
       "      <td>9</td>\n",
       "      <td>88</td>\n",
       "      <td>235</td>\n",
       "      <td>6</td>\n",
       "      <td>3</td>\n",
       "      <td>66</td>\n",
       "    </tr>\n",
       "    <tr>\n",
       "      <th>499</th>\n",
       "      <td>500</td>\n",
       "      <td>Lust for Life (with The Weeknd)</td>\n",
       "      <td>Lana Del Rey</td>\n",
       "      <td>art pop</td>\n",
       "      <td>2017</td>\n",
       "      <td>100</td>\n",
       "      <td>67</td>\n",
       "      <td>51</td>\n",
       "      <td>-9</td>\n",
       "      <td>36</td>\n",
       "      <td>27</td>\n",
       "      <td>264</td>\n",
       "      <td>58</td>\n",
       "      <td>6</td>\n",
       "      <td>54</td>\n",
       "    </tr>\n",
       "    <tr>\n",
       "      <th>488</th>\n",
       "      <td>489</td>\n",
       "      <td>Kissing Strangers</td>\n",
       "      <td>DNCE</td>\n",
       "      <td>dance pop</td>\n",
       "      <td>2017</td>\n",
       "      <td>120</td>\n",
       "      <td>74</td>\n",
       "      <td>77</td>\n",
       "      <td>-6</td>\n",
       "      <td>9</td>\n",
       "      <td>86</td>\n",
       "      <td>202</td>\n",
       "      <td>5</td>\n",
       "      <td>4</td>\n",
       "      <td>66</td>\n",
       "    </tr>\n",
       "    <tr>\n",
       "      <th>299</th>\n",
       "      <td>300</td>\n",
       "      <td>Hey Mama (feat. Nicki Minaj, Bebe Rexha &amp; Afro...</td>\n",
       "      <td>David Guetta</td>\n",
       "      <td>dance pop</td>\n",
       "      <td>2015</td>\n",
       "      <td>86</td>\n",
       "      <td>73</td>\n",
       "      <td>60</td>\n",
       "      <td>-4</td>\n",
       "      <td>33</td>\n",
       "      <td>53</td>\n",
       "      <td>193</td>\n",
       "      <td>24</td>\n",
       "      <td>15</td>\n",
       "      <td>72</td>\n",
       "    </tr>\n",
       "  </tbody>\n",
       "</table>\n",
       "</div>"
      ],
      "text/plain": [
       "     Unnamed: 0                                              title  \\\n",
       "484         485                               OK - Spotify Version   \n",
       "589         590                        Giant (with Rag'n'Bone Man)   \n",
       "4             5                               Just the Way You Are   \n",
       "228         229                                               Burn   \n",
       "392         393                                              Close   \n",
       "564         565                                             Filthy   \n",
       "322         323                                              Sugar   \n",
       "499         500                    Lust for Life (with The Weeknd)   \n",
       "488         489                                  Kissing Strangers   \n",
       "299         300  Hey Mama (feat. Nicki Minaj, Bebe Rexha & Afro...   \n",
       "\n",
       "                artist  top genre  year  bpm  nrgy  dnce  dB  live  val  dur  \\\n",
       "484       Robin Schulz  dance pop  2017  122    81    65  -6    13   58  189   \n",
       "589      Calvin Harris  dance pop  2019  122    89    81  -4     8   61  229   \n",
       "4           Bruno Mars        pop  2010  109    84    64  -5     9   43  221   \n",
       "228     Ellie Goulding  dance pop  2014   87    78    56  -5    11   33  231   \n",
       "392         Nick Jonas  dance pop  2016  124    62    65  -5    14   40  234   \n",
       "564  Justin Timberlake  dance pop  2018   97    58    75  -6    25   65  294   \n",
       "322           Maroon 5        pop  2015  120    79    75  -7     9   88  235   \n",
       "499       Lana Del Rey    art pop  2017  100    67    51  -9    36   27  264   \n",
       "488               DNCE  dance pop  2017  120    74    77  -6     9   86  202   \n",
       "299       David Guetta  dance pop  2015   86    73    60  -4    33   53  193   \n",
       "\n",
       "     acous  spch  pop  \n",
       "484     12     6   69  \n",
       "589      2     4   84  \n",
       "4        2     4   78  \n",
       "228     31     4   71  \n",
       "392     25     8   72  \n",
       "564      4    14   62  \n",
       "322      6     3   66  \n",
       "499     58     6   54  \n",
       "488      5     4   66  \n",
       "299     24    15   72  "
      ]
     },
     "execution_count": 62,
     "metadata": {},
     "output_type": "execute_result"
    }
   ],
   "source": [
    "random_songs"
   ]
  },
  {
   "cell_type": "markdown",
   "id": "08c1af26",
   "metadata": {},
   "source": [
    "Conseguir las recomendaciones "
   ]
  },
  {
   "cell_type": "code",
   "execution_count": 63,
   "id": "90c62309",
   "metadata": {},
   "outputs": [],
   "source": [
    "similar_songs = []\n",
    "\n",
    "for song_title in random_songs['title']:\n",
    "    sim_songs = get_similar_songs(song_title, k=10)    \n",
    "    \n",
    "    #Para evitar canciones ya recomendadas antes\n",
    "    for s in sim_songs:\n",
    "        if s not in similar_songs:\n",
    "            similar_songs.append(s)"
   ]
  },
  {
   "cell_type": "code",
   "execution_count": 64,
   "id": "f9cc2e8d",
   "metadata": {},
   "outputs": [
    {
     "name": "stdout",
     "output_type": "stream",
     "text": [
      "Hey, Soul Sister\n",
      "Love The Way You Lie\n",
      "TiK ToK\n",
      "Bad Romance\n",
      "Baby\n",
      "Dynamite\n",
      "Secrets\n",
      "Empire State of Mind (Part II) Broken Down\n",
      "Only Girl (In The World)\n",
      "Club Can't Handle Me (feat. David Guetta)\n"
     ]
    }
   ],
   "source": [
    "for song in similar_songs:\n",
    "    print(song)"
   ]
  }
 ],
 "metadata": {
  "kernelspec": {
   "display_name": "Python 3 (ipykernel)",
   "language": "python",
   "name": "python3"
  },
  "language_info": {
   "codemirror_mode": {
    "name": "ipython",
    "version": 3
   },
   "file_extension": ".py",
   "mimetype": "text/x-python",
   "name": "python",
   "nbconvert_exporter": "python",
   "pygments_lexer": "ipython3",
   "version": "3.9.12"
  }
 },
 "nbformat": 4,
 "nbformat_minor": 5
}
